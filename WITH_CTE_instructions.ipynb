{
    "metadata": {
        "kernelspec": {
            "name": "SQL",
            "display_name": "SQL",
            "language": "sql"
        },
        "language_info": {
            "name": "sql",
            "version": ""
        }
    },
    "nbformat_minor": 2,
    "nbformat": 4,
    "cells": [
        {
            "cell_type": "code",
            "source": [
                "CREATE DATABASE WaterQuality;\r\n",
                "\r\n",
                "CREATE TABLE state_regulations (\r\n",
                "\tcontaminant VARCHAR(250) NOT NULL, \r\n",
                "\tstate_max_level FLOAT NOT NULL, \r\n",
                "\tstate_detection_limit FLOAT, \r\n",
                "\tstate_health_goal FLOAT, \r\n",
                "\tstate_health_date INT, \r\n",
                "\tfederal_max_level FLOAT,\r\n",
                "\tfederal_max_level_goal FLOAT, \r\n",
                "\tunits VARCHAR(50)\r\n",
                ");\r\n",
                "\r\n",
                "BULK INSERT dbo.state_regulations\r\n",
                "FROM \"Water_Quality\\state_regulations.csv\"\r\n",
                "WITH \r\n",
                "(\r\n",
                "\tFORMAT = 'CSV',\r\n",
                "\tFIRSTROW = 2\r\n",
                ")\r\n",
                "GO\r\n",
                ";\r\n",
                "\r\n",
                "SELECT *\r\n",
                "FROM dbo.state_regulations\r\n",
                ";"
            ],
            "metadata": {
                "azdata_cell_guid": "0d1c4222-74a5-4e3c-8ce1-ac2b22ecabe4",
                "language": "sql"
            },
            "outputs": [],
            "execution_count": null
        },
        {
            "cell_type": "markdown",
            "source": [
                "**Water Quality Queries**\n",
                "\n",
                "Query to see how many Federal Maximum Levels are lower than the California Maximum Levels. \n",
                "\n",
                "This should return an empty set, because state restrictions are superceded by federal, and CA tends to be more conservative on its standards than the federal government."
            ],
            "metadata": {
                "azdata_cell_guid": "702fefec-0b18-46b1-9be1-aea920e86184"
            },
            "attachments": {}
        },
        {
            "cell_type": "code",
            "source": [
                "SELECT * \r\n",
                "FROM dbo.state_regulations\r\n",
                "WHERE federal_max_level < state_max_level;"
            ],
            "metadata": {
                "azdata_cell_guid": "40ff5039-565c-4018-a28e-1fd72ecb276a",
                "language": "sql"
            },
            "outputs": [
                {
                    "output_type": "display_data",
                    "data": {
                        "text/html": "(0 rows affected)"
                    },
                    "metadata": {}
                },
                {
                    "output_type": "display_data",
                    "data": {
                        "text/html": "Total execution time: 00:00:00.015"
                    },
                    "metadata": {}
                },
                {
                    "output_type": "execute_result",
                    "metadata": {},
                    "execution_count": 55,
                    "data": {
                        "application/vnd.dataresource+json": {
                            "schema": {
                                "fields": [
                                    {
                                        "name": "contaminant"
                                    },
                                    {
                                        "name": "state_max_level"
                                    },
                                    {
                                        "name": "state_detection_limit"
                                    },
                                    {
                                        "name": "state_health_goal"
                                    },
                                    {
                                        "name": "state_health_date"
                                    },
                                    {
                                        "name": "federal_max_level"
                                    },
                                    {
                                        "name": "federal_max_level_goal"
                                    },
                                    {
                                        "name": "units"
                                    }
                                ]
                            },
                            "data": []
                        },
                        "text/html": [
                            "<table>",
                            "<tr><th>contaminant</th><th>state_max_level</th><th>state_detection_limit</th><th>state_health_goal</th><th>state_health_date</th><th>federal_max_level</th><th>federal_max_level_goal</th><th>units</th></tr>",
                            "</table>"
                        ]
                    }
                }
            ],
            "execution_count": 55
        },
        {
            "cell_type": "markdown",
            "source": [
                "As expected, this returned an empty set. Next, I'd like to see how many state standards are lower than the federal standards.\n",
                "\n",
                "This is a more complicated question than it seems for someone new to SQL. The following query is rather simple, showing WHICH state standards are lower than the federal standards, and since this is a rather short list, we can see that the number is 27. \n",
                "\n",
                "The original question only asked HOW MANY of the contaminants have lower state standards than federal, and if this was a much larger dataset, it would be cumbersome to report the output based on the rows affected rather than querying for the intended output."
            ],
            "metadata": {
                "language": "sql",
                "azdata_cell_guid": "d65d344f-b64f-4df3-b200-18d2e87ebe9b"
            },
            "attachments": {}
        },
        {
            "cell_type": "code",
            "source": [
                "SELECT COUNT(*)\r\n",
                "FROM dbo.state_regulations\r\n",
                "WHERE federal_max_level > state_max_level;"
            ],
            "metadata": {
                "language": "sql",
                "azdata_cell_guid": "7a8a3bee-c9c6-4d2d-91b0-85fb2dbf1df2"
            },
            "outputs": [
                {
                    "output_type": "display_data",
                    "data": {
                        "text/html": "(1 row affected)"
                    },
                    "metadata": {}
                },
                {
                    "output_type": "display_data",
                    "data": {
                        "text/html": "Total execution time: 00:00:00.027"
                    },
                    "metadata": {}
                },
                {
                    "output_type": "execute_result",
                    "metadata": {},
                    "execution_count": 57,
                    "data": {
                        "application/vnd.dataresource+json": {
                            "schema": {
                                "fields": [
                                    {
                                        "name": "(No column name)"
                                    }
                                ]
                            },
                            "data": [
                                {
                                    "0": "27"
                                }
                            ]
                        },
                        "text/html": [
                            "<table>",
                            "<tr><th>(No column name)</th></tr>",
                            "<tr><td>27</td></tr>",
                            "</table>"
                        ]
                    }
                }
            ],
            "execution_count": 57
        },
        {
            "cell_type": "markdown",
            "source": [
                "**Method 1: Using a Subquery**\n",
                "\n",
                "What we really want to do is Query the COUNT from this result. Simply counting the outputs will deliver the number we're looking for.\n",
                "\n",
                "The easiest place to introduce the above query as a subquery is in the FROM statement. I'm constructing a nested query from the innermost query outward."
            ],
            "metadata": {
                "azdata_cell_guid": "0dd12ed3-77f9-4b82-b813-81c6091632fe"
            },
            "attachments": {}
        },
        {
            "cell_type": "code",
            "source": [
                "SELECT COUNT(subquery.contaminant) AS Number_of_Stricter_State_Maximums\r\n",
                "FROM (\r\n",
                "    SELECT  contaminant, \r\n",
                "            state_max_level,\r\n",
                "            COALESCE(federal_max_level, state_max_level + 1) AS federal_max_coalesced\r\n",
                "    FROM    dbo.state_regulations\r\n",
                "    WHERE   COALESCE(federal_max_level, state_max_level + 1) > state_max_level\r\n",
                ") AS subquery\r\n",
                ""
            ],
            "metadata": {
                "azdata_cell_guid": "5ceb3e01-f637-4b59-aff6-b8f04b667b80",
                "language": "sql",
                "tags": []
            },
            "outputs": [
                {
                    "output_type": "display_data",
                    "data": {
                        "text/html": "(1 row affected)"
                    },
                    "metadata": {}
                },
                {
                    "output_type": "display_data",
                    "data": {
                        "text/html": "Total execution time: 00:00:00.026"
                    },
                    "metadata": {}
                },
                {
                    "output_type": "execute_result",
                    "metadata": {},
                    "execution_count": 58,
                    "data": {
                        "application/vnd.dataresource+json": {
                            "schema": {
                                "fields": [
                                    {
                                        "name": "Number_of_Stricter_State_Maximums"
                                    }
                                ]
                            },
                            "data": [
                                {
                                    "0": "42"
                                }
                            ]
                        },
                        "text/html": [
                            "<table>",
                            "<tr><th>Number_of_Stricter_State_Maximums</th></tr>",
                            "<tr><td>42</td></tr>",
                            "</table>"
                        ]
                    }
                }
            ],
            "execution_count": 58
        },
        {
            "cell_type": "markdown",
            "source": [
                "It is possible in the first line to just write SELECT COUNT(\\*) AS ..., however, it's unclear that there absolutely MUST be a naming of the Subquery. For clarity, I kept the subquery.contaminant as the value I'm counting. When I personally write a query like this, I would provide a better, more descriptive name for the subquery, since as the complexity increases, so does the difficulty in readability. The code below is the same, only with the modified naming for clarity."
            ],
            "metadata": {
                "language": "sql",
                "azdata_cell_guid": "16a5d11e-8a1c-4b00-94b2-82586dfe0a25"
            },
            "attachments": {}
        },
        {
            "cell_type": "code",
            "source": [
                "SELECT COUNT(Stricter_State_Maximums.contaminant) AS Number_of_Stricter_State_Maximums\r\n",
                "FROM (\r\n",
                "    SELECT  contaminant, \r\n",
                "            state_max_level,\r\n",
                "            COALESCE(federal_max_level, state_max_level + 1) AS federal_max_coalesced\r\n",
                "    FROM    dbo.state_regulations\r\n",
                "    WHERE   COALESCE(federal_max_level, state_max_level + 1) > state_max_level\r\n",
                ") AS Stricter_State_Maximums"
            ],
            "metadata": {
                "language": "sql",
                "azdata_cell_guid": "45054038-4709-4a80-9d55-f7e5155c507b"
            },
            "outputs": [
                {
                    "output_type": "display_data",
                    "data": {
                        "text/html": "(1 row affected)"
                    },
                    "metadata": {}
                },
                {
                    "output_type": "display_data",
                    "data": {
                        "text/html": "Total execution time: 00:00:00.006"
                    },
                    "metadata": {}
                },
                {
                    "output_type": "execute_result",
                    "metadata": {},
                    "execution_count": 59,
                    "data": {
                        "application/vnd.dataresource+json": {
                            "schema": {
                                "fields": [
                                    {
                                        "name": "Number_of_Stricter_State_Maximums"
                                    }
                                ]
                            },
                            "data": [
                                {
                                    "0": "42"
                                }
                            ]
                        },
                        "text/html": [
                            "<table>",
                            "<tr><th>Number_of_Stricter_State_Maximums</th></tr>",
                            "<tr><td>42</td></tr>",
                            "</table>"
                        ]
                    }
                }
            ],
            "execution_count": 59
        },
        {
            "cell_type": "markdown",
            "source": [
                "Hopefully, as a reader, it's easier to follow now that the purpose of my subquery was to isolate the contaminants and their levels where the state level was lower than the federal. Then the parent query is a COUNT function on the subset of Stricter State Maximums, revealing the Number of Stricter State Maximums.\n",
                "\n",
                "**Method 2: Using a WITH clause, aka CTE or Common Table Expression**\n",
                "\n",
                "The WITH Clause introduces the subset at the beginning of the statement, and it provides more clarity, as you are following the structure in a linear manner from top to bottom, rather than digging deep into nested functions and crawling back out to the SELECT clause. \n",
                "\n",
                "This uses the same original query with the WITH clause to establish the 'Common Table Expression'. For linearity, I will do the same thing as I did with the subquery, labeling the expression as cte first, but then giving it the more appropriate name."
            ],
            "metadata": {
                "language": "sql",
                "azdata_cell_guid": "1569061d-ce61-4d70-99e3-6b4fc3ed11a5"
            },
            "attachments": {}
        },
        {
            "cell_type": "code",
            "source": [
                "WITH cte AS (\r\n",
                "    SELECT  contaminant, \r\n",
                "            COALESCE(federal_max_level, state_max_level + 1) AS federal_max_coalesced\r\n",
                "    FROM    dbo.state_regulations\r\n",
                "    WHERE   COALESCE(federal_max_level, state_max_level + 1) > state_max_level\r\n",
                ")\r\n",
                "SELECT COUNT(contaminant) AS Number_of_Stricter_State_Maximums\r\n",
                "FROM cte"
            ],
            "metadata": {
                "language": "sql",
                "azdata_cell_guid": "c6eacf15-ec38-4d90-bc09-6748aa9277f1"
            },
            "outputs": [
                {
                    "output_type": "display_data",
                    "data": {
                        "text/html": "(1 row affected)"
                    },
                    "metadata": {}
                },
                {
                    "output_type": "display_data",
                    "data": {
                        "text/html": "Total execution time: 00:00:00.008"
                    },
                    "metadata": {}
                },
                {
                    "output_type": "execute_result",
                    "metadata": {},
                    "execution_count": 60,
                    "data": {
                        "application/vnd.dataresource+json": {
                            "schema": {
                                "fields": [
                                    {
                                        "name": "Number_of_Stricter_State_Maximums"
                                    }
                                ]
                            },
                            "data": [
                                {
                                    "0": "42"
                                }
                            ]
                        },
                        "text/html": [
                            "<table>",
                            "<tr><th>Number_of_Stricter_State_Maximums</th></tr>",
                            "<tr><td>42</td></tr>",
                            "</table>"
                        ]
                    }
                }
            ],
            "execution_count": 60
        },
        {
            "cell_type": "markdown",
            "source": [
                "In both of these methods, the original query is literally copied into the a clause. In the first, it is part of the FROM clause, whereas in the second it is introduced initially in the WITH clause.  \n",
                "\n",
                "As I add more complicated queries, the WITH clauses can draw from one another or from additional tables, limiting the need for multiple nestings in subqueries.\n",
                "\n",
                "The more intuitive labeling, as promised above is as follows."
            ],
            "metadata": {
                "language": "sql",
                "azdata_cell_guid": "b0211598-98fb-4d22-a2fa-136ba2abb65a"
            },
            "attachments": {}
        },
        {
            "cell_type": "code",
            "source": [
                "WITH Stricter_State_Maximums AS (\r\n",
                "    SELECT  contaminant, \r\n",
                "            state_max_level, \r\n",
                "            COALESCE(federal_max_level, state_max_level + 1) AS federal_max_coalesced\r\n",
                "    FROM    dbo.state_regulations\r\n",
                "    WHERE   COALESCE(federal_max_level, state_max_level + 1) > state_max_level\r\n",
                ")\r\n",
                "SELECT COUNT(contaminant) AS Number_of_Stricter_State_Maximums\r\n",
                "FROM Stricter_State_Maximums"
            ],
            "metadata": {
                "language": "sql",
                "azdata_cell_guid": "4daf7889-f8c2-407f-8db7-feb7adcf4d69",
                "tags": []
            },
            "outputs": [
                {
                    "output_type": "display_data",
                    "data": {
                        "text/html": "(1 row affected)"
                    },
                    "metadata": {}
                },
                {
                    "output_type": "display_data",
                    "data": {
                        "text/html": "Total execution time: 00:00:00.005"
                    },
                    "metadata": {}
                },
                {
                    "output_type": "execute_result",
                    "metadata": {},
                    "execution_count": 61,
                    "data": {
                        "application/vnd.dataresource+json": {
                            "schema": {
                                "fields": [
                                    {
                                        "name": "Number_of_Stricter_State_Maximums"
                                    }
                                ]
                            },
                            "data": [
                                {
                                    "0": "42"
                                }
                            ]
                        },
                        "text/html": [
                            "<table>",
                            "<tr><th>Number_of_Stricter_State_Maximums</th></tr>",
                            "<tr><td>42</td></tr>",
                            "</table>"
                        ]
                    }
                }
            ],
            "execution_count": 61
        },
        {
            "cell_type": "markdown",
            "source": [
                "**Adding to the existing Query...**\n",
                "\n",
                "Show the number of Contaminants that have Stricter State Maximums, Stricter Federal Maximums, and Identical Maximums for State and Federal contamination levels.\n",
                "\n",
                "I'm already cringing at the logic with the Subqueries, so I'm going to start with the WITH clause approach!\n",
                "\n",
                "**Method 2: WITH**  \n",
                "\n",
                "The only changes I will make to each of the different expressions is the logical operator: \\<, \\>, and ="
            ],
            "metadata": {
                "language": "sql",
                "azdata_cell_guid": "ca5ac870-18f6-4bf6-a028-ff1ea6567cdb"
            },
            "attachments": {}
        },
        {
            "cell_type": "code",
            "source": [
                "WITH \r\n",
                "Stricter_State_Maximums AS (\r\n",
                "    SELECT  contaminant, \r\n",
                "            state_max_level,  \r\n",
                "            COALESCE(federal_max_level, state_max_level + 1) AS federal_max_coalesced\r\n",
                "    FROM    dbo.state_regulations\r\n",
                "    WHERE   COALESCE(federal_max_level, state_max_level + 1) > state_max_level\r\n",
                "), \r\n",
                "Stricter_Federal_Maximums AS (\r\n",
                "    SELECT  contaminant, \r\n",
                "            state_max_level,  \r\n",
                "            COALESCE(federal_max_level, state_max_level + 1) AS federal_max_coalesced\r\n",
                "    FROM    dbo.state_regulations\r\n",
                "    WHERE   COALESCE(federal_max_level, state_max_level + 1) < state_max_level\r\n",
                "), \r\n",
                "Same_State_Federal_Maximums AS (\r\n",
                "    SELECT  contaminant, \r\n",
                "            state_max_level,  \r\n",
                "            COALESCE(federal_max_level, state_max_level + 1) AS federal_max_coalesced\r\n",
                "    FROM    dbo.state_regulations\r\n",
                "    WHERE   COALESCE(federal_max_level, state_max_level + 1) = state_max_level\r\n",
                ")\r\n",
                "SELECT COUNT(contaminant) AS Count, 'State' AS Stricter_Standards\r\n",
                "FROM Stricter_State_Maximums\r\n",
                "UNION ALL \r\n",
                "SELECT COUNT(contaminant), 'Federal' \r\n",
                "FROM Stricter_Federal_Maximums\r\n",
                "UNION ALL \r\n",
                "SELECT COUNT(contaminant), 'Equal'\r\n",
                "FROM Same_State_Federal_Maximums;"
            ],
            "metadata": {
                "language": "sql",
                "azdata_cell_guid": "0afaaab2-0e7f-4cbf-a850-4b646f582f91"
            },
            "outputs": [
                {
                    "output_type": "display_data",
                    "data": {
                        "text/html": "(3 rows affected)"
                    },
                    "metadata": {}
                },
                {
                    "output_type": "display_data",
                    "data": {
                        "text/html": "Total execution time: 00:00:00.002"
                    },
                    "metadata": {}
                },
                {
                    "output_type": "execute_result",
                    "metadata": {},
                    "execution_count": 76,
                    "data": {
                        "application/vnd.dataresource+json": {
                            "schema": {
                                "fields": [
                                    {
                                        "name": "Count"
                                    },
                                    {
                                        "name": "Stricter_Standards"
                                    }
                                ]
                            },
                            "data": [
                                {
                                    "0": "42",
                                    "1": "State"
                                },
                                {
                                    "0": "0",
                                    "1": "Federal"
                                },
                                {
                                    "0": "49",
                                    "1": "Equal"
                                }
                            ]
                        },
                        "text/html": [
                            "<table>",
                            "<tr><th>Count</th><th>Stricter_Standards</th></tr>",
                            "<tr><td>42</td><td>State</td></tr>",
                            "<tr><td>0</td><td>Federal</td></tr>",
                            "<tr><td>49</td><td>Equal</td></tr>",
                            "</table>"
                        ]
                    }
                }
            ],
            "execution_count": 76
        },
        {
            "cell_type": "markdown",
            "source": [
                "This is an alternative output, keeping everything in its own column. I've only done this to simplify the following subquery outcome."
            ],
            "metadata": {
                "language": "sql",
                "azdata_cell_guid": "148a9fa3-d5e9-4075-ad14-ba2d82497c6b"
            },
            "attachments": {}
        },
        {
            "cell_type": "code",
            "source": [
                "WITH \r\n",
                "Stricter_State_Maximums AS (\r\n",
                "    SELECT  contaminant, \r\n",
                "            state_max_level,  \r\n",
                "            COALESCE(federal_max_level, state_max_level + 1) AS federal_max_coalesced\r\n",
                "    FROM    dbo.state_regulations\r\n",
                "    WHERE   COALESCE(federal_max_level, state_max_level + 1) > state_max_level\r\n",
                "), \r\n",
                "Stricter_Federal_Maximums AS (\r\n",
                "    SELECT  contaminant, \r\n",
                "            state_max_level,  \r\n",
                "            COALESCE(federal_max_level, state_max_level + 1) AS federal_max_coalesced\r\n",
                "    FROM    dbo.state_regulations\r\n",
                "    WHERE   COALESCE(federal_max_level, state_max_level + 1) < state_max_level\r\n",
                "), \r\n",
                "Same_State_Federal_Maximums AS (\r\n",
                "    SELECT  contaminant, \r\n",
                "            state_max_level, \r\n",
                "            COALESCE(federal_max_level, state_max_level + 1) AS federal_max_coalesced\r\n",
                "    FROM    dbo.state_regulations\r\n",
                "    WHERE   COALESCE(federal_max_level, state_max_level + 1) = state_max_level\r\n",
                ")\r\n",
                "SELECT  COUNT(SSM.contaminant) AS Number_of_Stricter_State_Standards, \r\n",
                "        COUNT(SFM.contaminant) AS Number_of_Stricter_Federal_Standards, \r\n",
                "        COUNT(SM.contaminant) AS Number_of_Equal_Standards\r\n",
                "FROM    dbo.state_regulations AS SR\r\n",
                "LEFT JOIN Stricter_State_Maximums AS SSM\r\n",
                "    ON SR.contaminant = SSM.contaminant\r\n",
                "LEFT JOIN Stricter_Federal_Maximums AS SFM\r\n",
                "    ON SR.contaminant = SFM.contaminant\r\n",
                "LEFT JOIN Same_State_Federal_Maximums AS SM\r\n",
                "    ON SR.contaminant = SM.contaminant\r\n",
                ""
            ],
            "metadata": {
                "azdata_cell_guid": "4423b268-4806-4d2d-b4ba-c7805c0bca38",
                "language": "sql"
            },
            "outputs": [
                {
                    "output_type": "display_data",
                    "data": {
                        "text/html": "Warning: Null value is eliminated by an aggregate or other SET operation."
                    },
                    "metadata": {}
                },
                {
                    "output_type": "display_data",
                    "data": {
                        "text/html": "(1 row affected)"
                    },
                    "metadata": {}
                },
                {
                    "output_type": "display_data",
                    "data": {
                        "text/html": "Total execution time: 00:00:00.014"
                    },
                    "metadata": {}
                },
                {
                    "output_type": "execute_result",
                    "metadata": {},
                    "execution_count": 68,
                    "data": {
                        "application/vnd.dataresource+json": {
                            "schema": {
                                "fields": [
                                    {
                                        "name": "Number_of_Stricter_State_Standards"
                                    },
                                    {
                                        "name": "Number_of_Stricter_Federal_Standards"
                                    },
                                    {
                                        "name": "Number_of_Equal_Standards"
                                    }
                                ]
                            },
                            "data": [
                                {
                                    "0": "42",
                                    "1": "0",
                                    "2": "49"
                                }
                            ]
                        },
                        "text/html": [
                            "<table>",
                            "<tr><th>Number_of_Stricter_State_Standards</th><th>Number_of_Stricter_Federal_Standards</th><th>Number_of_Equal_Standards</th></tr>",
                            "<tr><td>42</td><td>0</td><td>49</td></tr>",
                            "</table>"
                        ]
                    }
                }
            ],
            "execution_count": 68
        },
        {
            "cell_type": "markdown",
            "source": [
                "Since I'm drawing the same type of data, it's easy piece together an easy-to-understand output, giving the desired number of stricter state and federal maximums, and the number of equal values using 3 simialar Common Table expressions under the same WITH clause, appended together with UNION ALL.\n",
                "\n",
                "**Method 1: Subqueries**"
            ],
            "metadata": {
                "azdata_cell_guid": "806df631-cc00-4c9f-8f40-8f2520014949"
            },
            "attachments": {}
        },
        {
            "cell_type": "code",
            "source": [
                "SELECT COUNT(contaminant) AS Count, 'State' AS Stricter_Restriction_Levels\r\n",
                "FROM (\r\n",
                "    SELECT  contaminant, \r\n",
                "            state_max_level,  \r\n",
                "            COALESCE(federal_max_level, state_max_level + 1) AS federal_max_coalesced\r\n",
                "    FROM    dbo.state_regulations\r\n",
                "    WHERE   COALESCE(federal_max_level, state_max_level + 1) > state_max_level\r\n",
                ") AS Stricter_State_Maximums\r\n",
                "UNION ALL \r\n",
                "SELECT COUNT(contaminant), 'Federal'\r\n",
                "FROM (\r\n",
                "    SELECT  contaminant, \r\n",
                "            state_max_level, \r\n",
                "            COALESCE(federal_max_level, state_max_level + 1) AS federal_max_coalesced\r\n",
                "    FROM    dbo.state_regulations\r\n",
                "    WHERE   COALESCE(federal_max_level, state_max_level + 1) < state_max_level\r\n",
                ") AS Stricter_Federal_Maximums\r\n",
                "UNION ALL \r\n",
                "SELECT COUNT(contaminant), 'Equal'\r\n",
                "FROM (\r\n",
                "    SELECT  contaminant, \r\n",
                "            state_max_level,  \r\n",
                "            COALESCE(federal_max_level, state_max_level + 1) AS federal_max_coalesced\r\n",
                "    FROM    dbo.state_regulations\r\n",
                "    WHERE   COALESCE(federal_max_level, state_max_level + 1) = state_max_level\r\n",
                ") AS Same_State_Federal_Maximums;"
            ],
            "metadata": {
                "language": "sql",
                "azdata_cell_guid": "92838a26-8005-4601-98fb-c45c311ef600"
            },
            "outputs": [
                {
                    "output_type": "display_data",
                    "data": {
                        "text/html": "(3 rows affected)"
                    },
                    "metadata": {}
                },
                {
                    "output_type": "display_data",
                    "data": {
                        "text/html": "Total execution time: 00:00:00.017"
                    },
                    "metadata": {}
                },
                {
                    "output_type": "execute_result",
                    "metadata": {},
                    "execution_count": 84,
                    "data": {
                        "application/vnd.dataresource+json": {
                            "schema": {
                                "fields": [
                                    {
                                        "name": "Count"
                                    },
                                    {
                                        "name": "Stricter_Restriction_Levels"
                                    }
                                ]
                            },
                            "data": [
                                {
                                    "0": "42",
                                    "1": "State"
                                },
                                {
                                    "0": "0",
                                    "1": "Federal"
                                },
                                {
                                    "0": "49",
                                    "1": "Equal"
                                }
                            ]
                        },
                        "text/html": [
                            "<table>",
                            "<tr><th>Count</th><th>Stricter_Restriction_Levels</th></tr>",
                            "<tr><td>42</td><td>State</td></tr>",
                            "<tr><td>0</td><td>Federal</td></tr>",
                            "<tr><td>49</td><td>Equal</td></tr>",
                            "</table>"
                        ]
                    }
                }
            ],
            "execution_count": 84
        },
        {
            "cell_type": "code",
            "source": [
                "SELECT  COUNT(Stricter_State_Maximums.contaminant) AS Number_of_Stricter_State_Maximums,\r\n",
                "        COUNT(Stricter_Federal_Maximums.contaminant) AS Number_of_Stricter_Federal_Maximums,\r\n",
                "        COUNT(Same_State_Federal_Maximums.contaminant) AS Number_of_Same_State_Federal_Maximums\r\n",
                "FROM dbo.state_regulations AS SR\r\n",
                "    LEFT JOIN\r\n",
                "    (\r\n",
                "        SELECT  contaminant, \r\n",
                "                state_max_level, \r\n",
                "                COALESCE(federal_max_level, state_max_level + 1) AS federal_max_coalesced\r\n",
                "        FROM    dbo.state_regulations\r\n",
                "        WHERE   COALESCE(federal_max_level, state_max_level + 1) > state_max_level\r\n",
                "    ) AS Stricter_State_Maximums\r\n",
                "    ON SR.contaminant = Stricter_State_Maximums.contaminant\r\n",
                "    LEFT JOIN\r\n",
                "    (\r\n",
                "        SELECT  contaminant, \r\n",
                "                state_max_level, \r\n",
                "                COALESCE(federal_max_level, state_max_level + 1) AS federal_max_coalesced\r\n",
                "        FROM    dbo.state_regulations\r\n",
                "        WHERE   COALESCE(federal_max_level, state_max_level + 1) = state_max_level\r\n",
                "    ) AS Same_State_Federal_Maximums\r\n",
                "        ON SR.contaminant = Same_State_Federal_Maximums.contaminant\r\n",
                "    LEFT JOIN\r\n",
                "    (\r\n",
                "        SELECT  contaminant, \r\n",
                "                state_max_level, \r\n",
                "                COALESCE(federal_max_level, state_max_level + 1) AS federal_max_coalesced\r\n",
                "        FROM    dbo.state_regulations\r\n",
                "        WHERE   COALESCE(federal_max_level, state_max_level + 1) < state_max_level\r\n",
                "    ) AS Stricter_Federal_Maximums\r\n",
                "        ON SR.contaminant = Stricter_State_Maximums.contaminant"
            ],
            "metadata": {
                "azdata_cell_guid": "9c2ceb45-3fc8-4bdb-9f06-90f309f91f81",
                "language": "sql"
            },
            "outputs": [
                {
                    "output_type": "display_data",
                    "data": {
                        "text/html": "Warning: Null value is eliminated by an aggregate or other SET operation."
                    },
                    "metadata": {}
                },
                {
                    "output_type": "display_data",
                    "data": {
                        "text/html": "(1 row affected)"
                    },
                    "metadata": {}
                },
                {
                    "output_type": "display_data",
                    "data": {
                        "text/html": "Total execution time: 00:00:00.022"
                    },
                    "metadata": {}
                },
                {
                    "output_type": "execute_result",
                    "metadata": {},
                    "execution_count": 82,
                    "data": {
                        "application/vnd.dataresource+json": {
                            "schema": {
                                "fields": [
                                    {
                                        "name": "Number_of_Stricter_State_Maximums"
                                    },
                                    {
                                        "name": "Number_of_Stricter_Federal_Maximums"
                                    },
                                    {
                                        "name": "Number_of_Same_State_Federal_Maximums"
                                    }
                                ]
                            },
                            "data": [
                                {
                                    "0": "42",
                                    "1": "0",
                                    "2": "49"
                                }
                            ]
                        },
                        "text/html": [
                            "<table>",
                            "<tr><th>Number_of_Stricter_State_Maximums</th><th>Number_of_Stricter_Federal_Maximums</th><th>Number_of_Same_State_Federal_Maximums</th></tr>",
                            "<tr><td>42</td><td>0</td><td>49</td></tr>",
                            "</table>"
                        ]
                    }
                }
            ],
            "execution_count": 82
        },
        {
            "cell_type": "markdown",
            "source": [
                "In the above query, each subquery needed to be joined back to the original table, since the none of the subqueries should have any overlapping data required to make a join. To achieve these results, it is imperative that a LEFT join be used, otherwise the output will not return the correct value.\n",
                "\n",
                "The output is slightly different, in that here each is a column with its own header instead of rows with an identifying feature. This can also be achieved using the WITH statement and avoiding subqueries, but it does again require the joins."
            ],
            "metadata": {
                "azdata_cell_guid": "9f2a978d-e477-4e78-861d-0b7de65e1ece"
            },
            "attachments": {}
        },
        {
            "cell_type": "code",
            "source": [
                "WITH Stricter_State_Maximums AS (\r\n",
                "    SELECT  contaminant, \r\n",
                "            state_max_level, \r\n",
                "            federal_max_level\r\n",
                "    FROM    dbo.state_regulations\r\n",
                "    WHERE   federal_max_level > state_max_level\r\n",
                "),\r\n",
                "Same_State_Federal_Maximums AS (\r\n",
                "    SELECT  contaminant, \r\n",
                "            state_max_level, \r\n",
                "            federal_max_level\r\n",
                "    FROM    dbo.state_regulations\r\n",
                "    WHERE   federal_max_level = state_max_level\r\n",
                "),\r\n",
                "Stricter_Federal_Maximums AS (\r\n",
                "    SELECT  contaminant, \r\n",
                "            state_max_level, \r\n",
                "            federal_max_level\r\n",
                "    FROM    dbo.state_regulations\r\n",
                "    WHERE   federal_max_level < state_max_level\r\n",
                ")\r\n",
                "SELECT  COUNT(Stricter_State_Maximums.contaminant) AS Number_of_Stricter_State_Maximums,\r\n",
                "        COUNT(Stricter_Federal_Maximums.contaminant) AS Number_of_Stricter_Federal_Maximums,\r\n",
                "        COUNT(Same_State_Federal_Maximums.contaminant) AS Number_of_Same_State_Federal_Maximums\r\n",
                "FROM    dbo.state_regulations AS SR\r\n",
                "        LEFT JOIN Stricter_State_Maximums\r\n",
                "            ON SR.contaminant = Stricter_State_Maximums.contaminant\r\n",
                "        LEFT JOIN Same_State_Federal_Maximums\r\n",
                "            ON SR.contaminant = Same_State_Federal_Maximums.contaminant\r\n",
                "        LEFT JOIN Stricter_Federal_Maximums\r\n",
                "            ON SR.contaminant = Stricter_Federal_Maximums.contaminant;"
            ],
            "metadata": {
                "azdata_cell_guid": "adf53671-03c3-4fdb-bf05-8e5f25b29a40",
                "language": "sql"
            },
            "outputs": [
                {
                    "output_type": "display_data",
                    "data": {
                        "text/html": "Warning: Null value is eliminated by an aggregate or other SET operation."
                    },
                    "metadata": {}
                },
                {
                    "output_type": "display_data",
                    "data": {
                        "text/html": "(1 row affected)"
                    },
                    "metadata": {}
                },
                {
                    "output_type": "display_data",
                    "data": {
                        "text/html": "Total execution time: 00:00:00.016"
                    },
                    "metadata": {}
                },
                {
                    "output_type": "execute_result",
                    "metadata": {},
                    "execution_count": 2,
                    "data": {
                        "application/vnd.dataresource+json": {
                            "schema": {
                                "fields": [
                                    {
                                        "name": "Number_of_Stricter_State_Maximums"
                                    },
                                    {
                                        "name": "Number_of_Stricter_Federal_Maximums"
                                    },
                                    {
                                        "name": "Number_of_Same_State_Federal_Maximums"
                                    }
                                ]
                            },
                            "data": [
                                {
                                    "0": "27",
                                    "1": "0",
                                    "2": "49"
                                }
                            ]
                        },
                        "text/html": [
                            "<table>",
                            "<tr><th>Number_of_Stricter_State_Maximums</th><th>Number_of_Stricter_Federal_Maximums</th><th>Number_of_Same_State_Federal_Maximums</th></tr>",
                            "<tr><td>27</td><td>0</td><td>49</td></tr>",
                            "</table>"
                        ]
                    }
                }
            ],
            "execution_count": 2
        },
        {
            "cell_type": "markdown",
            "source": [
                "**One Final Case:** \n",
                "\n",
                "There is one final case I would like to get into that would normally require a nested subquery. \n",
                "\n",
                "  \n",
                "\n",
                "One thing that we ignored is the fact that not all of the Federal Regulations are even present:"
            ],
            "metadata": {
                "azdata_cell_guid": "22b15acc-6aef-4897-a716-4fc1266707b7"
            },
            "attachments": {}
        },
        {
            "cell_type": "code",
            "source": [
                "SELECT COUNT(*) \r\n",
                "FROM dbo.state_regulations\r\n",
                "WHERE federal_max_level IS NULL"
            ],
            "metadata": {
                "azdata_cell_guid": "697c7823-f8e8-407f-b292-76094163b36a",
                "language": "sql",
                "tags": []
            },
            "outputs": [
                {
                    "output_type": "display_data",
                    "data": {
                        "text/html": "(1 row affected)"
                    },
                    "metadata": {}
                },
                {
                    "output_type": "display_data",
                    "data": {
                        "text/html": "Total execution time: 00:00:00.003"
                    },
                    "metadata": {}
                },
                {
                    "output_type": "execute_result",
                    "metadata": {},
                    "execution_count": 7,
                    "data": {
                        "application/vnd.dataresource+json": {
                            "schema": {
                                "fields": [
                                    {
                                        "name": "(No column name)"
                                    }
                                ]
                            },
                            "data": [
                                {
                                    "0": "15"
                                }
                            ]
                        },
                        "text/html": [
                            "<table>",
                            "<tr><th>(No column name)</th></tr>",
                            "<tr><td>15</td></tr>",
                            "</table>"
                        ]
                    }
                }
            ],
            "execution_count": 7
        },
        {
            "cell_type": "markdown",
            "source": [
                "The design of the tables required that both the contaminant name and the state maximum levels not be NULL upon inclusion in the database, however not all of them had Federal Levels. The above query showed that 15 of the contaminants did not have a federally regulated maximum level. \n",
                "\n",
                "In each of the above queries, the NULL value is ignored, as each query only asked for the number of those that had higher, lower, or equal values for state and federal restrictions. But the NULL isn't a value, so it can't be evaluated using logical operators. This isn't a problem when we're just counting the number, but it does pose a problem if the query asks what PERCENTAGE of the restrictions. Consider the following questions: \n",
                "\n",
                "1\\. What percentage of federal restrictions are less stritct (higher) than state restrictions? \n",
                "\n",
                "2\\. What percentage of state restrictions are stricter (lower) than federal restrictions? \n",
                "\n",
                "3\\. What percentage of the total number restrictions have a stricter state maximum than federal, assuming a NULL value means it is unregulated at a federal level?   \n",
                "\n",
                "All three of these will yield different percentages. While the numerator for the first two will be the same, 27, the third must also include the extra 15 nulls in addition to the 27 where the state is stricter. The following query will provide the denomentators for each of the 3 questions:"
            ],
            "metadata": {
                "azdata_cell_guid": "f49fb43c-d32a-46bf-ab37-3b557b434b89"
            },
            "attachments": {}
        },
        {
            "cell_type": "code",
            "source": [
                "SELECT COUNT(*) AS Count, 'Cumulative' AS Total\r\n",
                "FROM dbo.state_regulations\r\n",
                "UNION ALL\r\n",
                "SELECT COUNT(*), 'Federal Total' \r\n",
                "FROM dbo.state_regulations\r\n",
                "WHERE federal_max_level IS NOT NULL\r\n",
                "UNION ALL \r\n",
                "SELECT COUNT(*), 'State Total'\r\n",
                "FROM dbo.state_regulations\r\n",
                "WHERE state_max_level IS NOT NULL\r\n",
                ""
            ],
            "metadata": {
                "azdata_cell_guid": "ff56abf7-5b80-42f4-848a-1f7a2df5b555",
                "language": "sql"
            },
            "outputs": [
                {
                    "output_type": "display_data",
                    "data": {
                        "text/html": "(3 rows affected)"
                    },
                    "metadata": {}
                },
                {
                    "output_type": "display_data",
                    "data": {
                        "text/html": "Total execution time: 00:00:00.009"
                    },
                    "metadata": {}
                },
                {
                    "output_type": "execute_result",
                    "metadata": {},
                    "execution_count": 12,
                    "data": {
                        "application/vnd.dataresource+json": {
                            "schema": {
                                "fields": [
                                    {
                                        "name": "Count"
                                    },
                                    {
                                        "name": "Total"
                                    }
                                ]
                            },
                            "data": [
                                {
                                    "0": "91",
                                    "1": "Cumulative"
                                },
                                {
                                    "0": "76",
                                    "1": "Federal Total"
                                },
                                {
                                    "0": "91",
                                    "1": "State Total"
                                }
                            ]
                        },
                        "text/html": [
                            "<table>",
                            "<tr><th>Count</th><th>Total</th></tr>",
                            "<tr><td>91</td><td>Cumulative</td></tr>",
                            "<tr><td>76</td><td>Federal Total</td></tr>",
                            "<tr><td>91</td><td>State Total</td></tr>",
                            "</table>"
                        ]
                    }
                }
            ],
            "execution_count": 12
        },
        {
            "cell_type": "markdown",
            "source": [
                "In this example, the three seemingly similar questions will result in three different values based on the handling of the NULL values, so it is extremely important to be clear in how the query is approached, and additionally how it is written for interpretability by someone else verifying the logic. \n",
                "\n",
                "I'm using this example because ultimately, I was able to ignore the NULLS in the first sets of queries, but if I need to calculate a percentage, which is dependent on the counting of or ignoring of NULL values, I will need to clearly show how these are being handled. \n",
                "\n",
                "This final query will address those three questions:\n",
                "\n",
                "1\\. What percentage of federal restrictions are less stritct (higher) than state restrictions?  \n",
                "2\\. What percentage of state restrictions are stricter (lower) than federal restrictions?  \n",
                "3\\. What percentage of all contaminants have a stricter state maximum than federal, assuming a NULL value means it is a known contaminant that is unregulated at a federal level?"
            ],
            "metadata": {
                "language": "sql",
                "azdata_cell_guid": "c3a9b1ab-79e9-4abf-921a-58e293c627be"
            },
            "attachments": {}
        },
        {
            "cell_type": "code",
            "source": [
                "SELECT  MAX(federal_max_level) as max_fed, MAX(state_max_level) AS state_max\r\n",
                "FROM    dbo.state_regulations;"
            ],
            "metadata": {
                "azdata_cell_guid": "d645a87d-964f-4fed-a6bf-6a126e6c0225",
                "language": "sql"
            },
            "outputs": [
                {
                    "output_type": "display_data",
                    "data": {
                        "text/html": "Warning: Null value is eliminated by an aggregate or other SET operation."
                    },
                    "metadata": {}
                },
                {
                    "output_type": "display_data",
                    "data": {
                        "text/html": "(1 row affected)"
                    },
                    "metadata": {}
                },
                {
                    "output_type": "display_data",
                    "data": {
                        "text/html": "Total execution time: 00:00:00.007"
                    },
                    "metadata": {}
                },
                {
                    "output_type": "execute_result",
                    "metadata": {},
                    "execution_count": 23,
                    "data": {
                        "application/vnd.dataresource+json": {
                            "schema": {
                                "fields": [
                                    {
                                        "name": "max_fed"
                                    },
                                    {
                                        "name": "state_max"
                                    }
                                ]
                            },
                            "data": [
                                {
                                    "0": "30",
                                    "1": "20000"
                                }
                            ]
                        },
                        "text/html": [
                            "<table>",
                            "<tr><th>max_fed</th><th>state_max</th></tr>",
                            "<tr><td>30</td><td>20000</td></tr>",
                            "</table>"
                        ]
                    }
                }
            ],
            "execution_count": 23
        },
        {
            "cell_type": "markdown",
            "source": [
                "I want to treat the NULL values in the federal maximum levels as less strict, so higher, than the values in the state maximum levels. In order to do this and guarantee that the value is always higher than that of the state, I will use COALESCE to copy the state max value to the federal max value and add 1 to each of the federal values. The following query will show the outcome of this. If you're unfamiliar with COALESCE, it will only make changes to the federal\\_max\\_level in the case where there is a NULL value; the existing federal\\_max\\_level values will remain unchanged.  \n",
                "\n",
                "It is important to note here, that for the above 3 questions, this subset can only be used in the calculation of question 3. As these are not actual federal restrictions, they cannot be included in the percentage of federal restrictions lower than the state. Likewise, in question 2, the percentage calculated is based on the actual restrictions imposed by both state and federal governments. The third question isn't asking about the percentage of restrictions, but rather about the percentage of all known contaminants, regulated or unregulated by the federal government."
            ],
            "metadata": {
                "language": "sql",
                "azdata_cell_guid": "368852a1-49fd-4f45-a137-491e404f2e04"
            },
            "attachments": {}
        },
        {
            "cell_type": "code",
            "source": [
                "SELECT  contaminant, \r\n",
                "        state_max_level,\r\n",
                "        federal_max_level,\r\n",
                "        COALESCE(federal_max_level, state_max_level + 1) AS federal_not_null\r\n",
                "FROM    dbo.state_regulations"
            ],
            "metadata": {
                "language": "sql",
                "azdata_cell_guid": "16abec13-e377-483c-84df-4f165cca4cc5"
            },
            "outputs": [
                {
                    "output_type": "display_data",
                    "data": {
                        "text/html": "(91 rows affected)"
                    },
                    "metadata": {}
                },
                {
                    "output_type": "display_data",
                    "data": {
                        "text/html": "Total execution time: 00:00:00.023"
                    },
                    "metadata": {}
                },
                {
                    "output_type": "execute_result",
                    "metadata": {},
                    "execution_count": 85,
                    "data": {
                        "application/vnd.dataresource+json": {
                            "schema": {
                                "fields": [
                                    {
                                        "name": "contaminant"
                                    },
                                    {
                                        "name": "state_max_level"
                                    },
                                    {
                                        "name": "federal_max_level"
                                    },
                                    {
                                        "name": "federal_not_null"
                                    }
                                ]
                            },
                            "data": [
                                {
                                    "0": "Aluminum",
                                    "1": "1",
                                    "2": "NULL",
                                    "3": "2"
                                },
                                {
                                    "0": "Antimony",
                                    "1": "0.006",
                                    "2": "0.006",
                                    "3": "0.006"
                                },
                                {
                                    "0": "Arsenic",
                                    "1": "0.01",
                                    "2": "0.01",
                                    "3": "0.01"
                                },
                                {
                                    "0": "Asbestos",
                                    "1": "7",
                                    "2": "7",
                                    "3": "7"
                                },
                                {
                                    "0": "Barium",
                                    "1": "1",
                                    "2": "2",
                                    "3": "2"
                                },
                                {
                                    "0": "Beryllium",
                                    "1": "0.004",
                                    "2": "0.004",
                                    "3": "0.004"
                                },
                                {
                                    "0": "Cadmium",
                                    "1": "0.005",
                                    "2": "0.005",
                                    "3": "0.005"
                                },
                                {
                                    "0": "Chromium, Total",
                                    "1": "0.05",
                                    "2": "0.1",
                                    "3": "0.1"
                                },
                                {
                                    "0": "Cyanide",
                                    "1": "0.15",
                                    "2": "0.2",
                                    "3": "0.2"
                                },
                                {
                                    "0": "Fluoride",
                                    "1": "2",
                                    "2": "4",
                                    "3": "4"
                                },
                                {
                                    "0": "Mercury",
                                    "1": "0.002",
                                    "2": "0.002",
                                    "3": "0.002"
                                },
                                {
                                    "0": "Nickel",
                                    "1": "0.1",
                                    "2": "NULL",
                                    "3": "1.1"
                                },
                                {
                                    "0": "Nitrate",
                                    "1": "10",
                                    "2": "10",
                                    "3": "10"
                                },
                                {
                                    "0": "Nitrite",
                                    "1": "1",
                                    "2": "1",
                                    "3": "1"
                                },
                                {
                                    "0": "Nitrate + Nitrite",
                                    "1": "10",
                                    "2": "NULL",
                                    "3": "11"
                                },
                                {
                                    "0": "Perchlorate",
                                    "1": "0.006",
                                    "2": "NULL",
                                    "3": "1.006"
                                },
                                {
                                    "0": "Selenium",
                                    "1": "0.05",
                                    "2": "0.05",
                                    "3": "0.05"
                                },
                                {
                                    "0": "Thallium",
                                    "1": "0.002",
                                    "2": "0.002",
                                    "3": "0.002"
                                },
                                {
                                    "0": "Copper",
                                    "1": "1.3",
                                    "2": "1.3",
                                    "3": "1.3"
                                },
                                {
                                    "0": "Lead",
                                    "1": "0.015",
                                    "2": "0.015",
                                    "3": "0.015"
                                },
                                {
                                    "0": "Gross Alpha Particle",
                                    "1": "15",
                                    "2": "15",
                                    "3": "15"
                                },
                                {
                                    "0": "Gross Beta Particle",
                                    "1": "4",
                                    "2": "4",
                                    "3": "4"
                                },
                                {
                                    "0": "Radium-226 + Radium-228",
                                    "1": "5",
                                    "2": "5",
                                    "3": "5"
                                },
                                {
                                    "0": "Strontium-90",
                                    "1": "8",
                                    "2": "NULL",
                                    "3": "9"
                                },
                                {
                                    "0": "Tritium",
                                    "1": "20000",
                                    "2": "NULL",
                                    "3": "20001"
                                },
                                {
                                    "0": "Uranium",
                                    "1": "20",
                                    "2": "30",
                                    "3": "30"
                                },
                                {
                                    "0": "Benzene",
                                    "1": "0.001",
                                    "2": "0.005",
                                    "3": "0.005"
                                },
                                {
                                    "0": "Carbon tetrachloride",
                                    "1": "0.0005",
                                    "2": "0.005",
                                    "3": "0.005"
                                },
                                {
                                    "0": "1,2-Dichlorobenzene",
                                    "1": "0.6",
                                    "2": "0.6",
                                    "3": "0.6"
                                },
                                {
                                    "0": "1,4-Dichlorobenzene(p-DCB)",
                                    "1": "0.005",
                                    "2": "0.075",
                                    "3": "0.075"
                                },
                                {
                                    "0": "1,1-Dichloroethane (1,1-DCA)",
                                    "1": "0.005",
                                    "2": "NULL",
                                    "3": "1.005"
                                },
                                {
                                    "0": "1,2-Dichloroethane (1,2-DCA)",
                                    "1": "0.0005",
                                    "2": "0.005",
                                    "3": "0.005"
                                },
                                {
                                    "0": "1,1-Dichloroethylene (1,1-DCE)",
                                    "1": "0.006",
                                    "2": "0.007",
                                    "3": "0.007"
                                },
                                {
                                    "0": "cis-1,2-Dichloroethylene",
                                    "1": "0.006",
                                    "2": "0.07",
                                    "3": "0.07"
                                },
                                {
                                    "0": "trans-1,2-Dichloroethylene",
                                    "1": "0.01",
                                    "2": "0.1",
                                    "3": "0.1"
                                },
                                {
                                    "0": "Dichloromethane (Methylene chloride)",
                                    "1": "0.005",
                                    "2": "0.005",
                                    "3": "0.005"
                                },
                                {
                                    "0": "1,2-Dichloropropane",
                                    "1": "0.005",
                                    "2": "0.005",
                                    "3": "0.005"
                                },
                                {
                                    "0": "1,3-Dichloropropene",
                                    "1": "0.0005",
                                    "2": "NULL",
                                    "3": "1.0005"
                                },
                                {
                                    "0": "Ethylbenzene",
                                    "1": "0.3",
                                    "2": "0.7",
                                    "3": "0.7"
                                },
                                {
                                    "0": "Methyl tertiary butyl ether (MTBE)",
                                    "1": "0.013",
                                    "2": "NULL",
                                    "3": "1.013"
                                },
                                {
                                    "0": "Monochlorobenzene",
                                    "1": "0.07",
                                    "2": "0.1",
                                    "3": "0.1"
                                },
                                {
                                    "0": "Styrene",
                                    "1": "0.1",
                                    "2": "0.1",
                                    "3": "0.1"
                                },
                                {
                                    "0": "1,1,2,2-Tetrachloroethane",
                                    "1": "0.001",
                                    "2": "0.1",
                                    "3": "0.1"
                                },
                                {
                                    "0": "Tetrachloroethylene (PCE)",
                                    "1": "0.005",
                                    "2": "0.005",
                                    "3": "0.005"
                                },
                                {
                                    "0": "Toluene",
                                    "1": "0.15",
                                    "2": "1",
                                    "3": "1"
                                },
                                {
                                    "0": "1,2,4-Trichlorobenzene",
                                    "1": "0.005",
                                    "2": "0.07",
                                    "3": "0.07"
                                },
                                {
                                    "0": "1,1,1-Trichloroethane (1,1,1-TCA)",
                                    "1": "0.2",
                                    "2": "0.2",
                                    "3": "0.2"
                                },
                                {
                                    "0": "1,1,2-Trichloroethane (1,1,2-TCA)",
                                    "1": "0.005",
                                    "2": "0.005",
                                    "3": "0.005"
                                },
                                {
                                    "0": "Trichloroethylene (TCE)",
                                    "1": "0.005",
                                    "2": "0.005",
                                    "3": "0.005"
                                },
                                {
                                    "0": "Trichlorofluoromethane (Freon 11)",
                                    "1": "0.15",
                                    "2": "NULL",
                                    "3": "1.15"
                                },
                                {
                                    "0": "1,1,2-Trichloro-1,2,2-Trifluoroethane (Freon 113)",
                                    "1": "1.2",
                                    "2": "NULL",
                                    "3": "2.2"
                                },
                                {
                                    "0": "Vinyl chloride",
                                    "1": "0.0005",
                                    "2": "0.002",
                                    "3": "0.002"
                                },
                                {
                                    "0": "Xylenes",
                                    "1": "1.75",
                                    "2": "10",
                                    "3": "10"
                                },
                                {
                                    "0": "Alachlor",
                                    "1": "0.002",
                                    "2": "0.002",
                                    "3": "0.002"
                                },
                                {
                                    "0": "Atrazine",
                                    "1": "0.001",
                                    "2": "0.003",
                                    "3": "0.003"
                                },
                                {
                                    "0": "Bentazon",
                                    "1": "0.018",
                                    "2": "NULL",
                                    "3": "1.018"
                                },
                                {
                                    "0": "Benzo(a)pyrene",
                                    "1": "0.0002",
                                    "2": "0.0002",
                                    "3": "0.0002"
                                },
                                {
                                    "0": "Carbofuran",
                                    "1": "0.018",
                                    "2": "0.04",
                                    "3": "0.04"
                                },
                                {
                                    "0": "Chlordane",
                                    "1": "0.0001",
                                    "2": "0.002",
                                    "3": "0.002"
                                },
                                {
                                    "0": "Dalapon",
                                    "1": "0.2",
                                    "2": "0.2",
                                    "3": "0.2"
                                },
                                {
                                    "0": "1,2-Dibromo-3-chloropropane (DBCP)",
                                    "1": "0.0002",
                                    "2": "0.0002",
                                    "3": "0.0002"
                                },
                                {
                                    "0": "2,4-Dichlorophenoxyacetic acid (2,4-D)",
                                    "1": "0.07",
                                    "2": "0.07",
                                    "3": "0.07"
                                },
                                {
                                    "0": "Di(2-ethylhexyl)adipate",
                                    "1": "0.4",
                                    "2": "0.4",
                                    "3": "0.4"
                                },
                                {
                                    "0": "Di(2-ethylhexyl)phthalate (DEHP)",
                                    "1": "0.004",
                                    "2": "0.006",
                                    "3": "0.006"
                                },
                                {
                                    "0": "Dinoseb",
                                    "1": "0.007",
                                    "2": "0.007",
                                    "3": "0.007"
                                },
                                {
                                    "0": "Diquat",
                                    "1": "0.02",
                                    "2": "0.02",
                                    "3": "0.02"
                                },
                                {
                                    "0": "Endothal",
                                    "1": "0.1",
                                    "2": "0.1",
                                    "3": "0.1"
                                },
                                {
                                    "0": "Endrin",
                                    "1": "0.002",
                                    "2": "0.002",
                                    "3": "0.002"
                                },
                                {
                                    "0": "Ethylene dibromide (EDB)",
                                    "1": "5E-05",
                                    "2": "5E-05",
                                    "3": "5E-05"
                                },
                                {
                                    "0": "Glyphosate",
                                    "1": "0.7",
                                    "2": "0.7",
                                    "3": "0.7"
                                },
                                {
                                    "0": "Heptachlor",
                                    "1": "1E-05",
                                    "2": "0.0004",
                                    "3": "0.0004"
                                },
                                {
                                    "0": "Heptachlor epoxide",
                                    "1": "1E-05",
                                    "2": "0.0002",
                                    "3": "0.0002"
                                },
                                {
                                    "0": "Hexachlorobenzene",
                                    "1": "0.001",
                                    "2": "0.001",
                                    "3": "0.001"
                                },
                                {
                                    "0": "Hexachlorocyclopentadiene",
                                    "1": "0.05",
                                    "2": "0.05",
                                    "3": "0.05"
                                },
                                {
                                    "0": "Lindane",
                                    "1": "0.0002",
                                    "2": "0.0002",
                                    "3": "0.0002"
                                },
                                {
                                    "0": "Methoxychlor",
                                    "1": "0.03",
                                    "2": "0.04",
                                    "3": "0.04"
                                },
                                {
                                    "0": "Molinate",
                                    "1": "0.02",
                                    "2": "NULL",
                                    "3": "1.02"
                                },
                                {
                                    "0": "Oxamyl",
                                    "1": "0.05",
                                    "2": "0.2",
                                    "3": "0.2"
                                },
                                {
                                    "0": "Pentachlorophenol",
                                    "1": "0.001",
                                    "2": "0.001",
                                    "3": "0.001"
                                },
                                {
                                    "0": "Picloram",
                                    "1": "0.5",
                                    "2": "0.5",
                                    "3": "0.5"
                                },
                                {
                                    "0": "Polychlorinated biphenyls (PCBs)",
                                    "1": "0.0005",
                                    "2": "0.0005",
                                    "3": "0.0005"
                                },
                                {
                                    "0": "Simazine",
                                    "1": "0.004",
                                    "2": "0.004",
                                    "3": "0.004"
                                },
                                {
                                    "0": "Thiobencarb",
                                    "1": "0.07",
                                    "2": "NULL",
                                    "3": "1.07"
                                },
                                {
                                    "0": "Toxaphene",
                                    "1": "0.003",
                                    "2": "0.003",
                                    "3": "0.003"
                                },
                                {
                                    "0": "1,2,3-Trichloropropane",
                                    "1": "5E-06",
                                    "2": "NULL",
                                    "3": "1.000005"
                                },
                                {
                                    "0": "2,3,7,8-TCDD (dioxin)",
                                    "1": "3E-08",
                                    "2": "3E-08",
                                    "3": "3E-08"
                                },
                                {
                                    "0": "2,4,5-TP (Silvex)",
                                    "1": "0.05",
                                    "2": "0.05",
                                    "3": "0.05"
                                },
                                {
                                    "0": "Total Trihalomethanes",
                                    "1": "0.08",
                                    "2": "0.08",
                                    "3": "0.08"
                                },
                                {
                                    "0": "Haloacetic Acids (five) (HAA5)",
                                    "1": "0.06",
                                    "2": "0.06",
                                    "3": "0.06"
                                },
                                {
                                    "0": "Bromate",
                                    "1": "0.01",
                                    "2": "0.01",
                                    "3": "0.01"
                                },
                                {
                                    "0": "Chlorite",
                                    "1": "1",
                                    "2": "1",
                                    "3": "1"
                                }
                            ]
                        },
                        "text/html": [
                            "<table>",
                            "<tr><th>contaminant</th><th>state_max_level</th><th>federal_max_level</th><th>federal_not_null</th></tr>",
                            "<tr><td>Aluminum</td><td>1</td><td>NULL</td><td>2</td></tr>",
                            "<tr><td>Antimony</td><td>0.006</td><td>0.006</td><td>0.006</td></tr>",
                            "<tr><td>Arsenic</td><td>0.01</td><td>0.01</td><td>0.01</td></tr>",
                            "<tr><td>Asbestos</td><td>7</td><td>7</td><td>7</td></tr>",
                            "<tr><td>Barium</td><td>1</td><td>2</td><td>2</td></tr>",
                            "<tr><td>Beryllium</td><td>0.004</td><td>0.004</td><td>0.004</td></tr>",
                            "<tr><td>Cadmium</td><td>0.005</td><td>0.005</td><td>0.005</td></tr>",
                            "<tr><td>Chromium, Total</td><td>0.05</td><td>0.1</td><td>0.1</td></tr>",
                            "<tr><td>Cyanide</td><td>0.15</td><td>0.2</td><td>0.2</td></tr>",
                            "<tr><td>Fluoride</td><td>2</td><td>4</td><td>4</td></tr>",
                            "<tr><td>Mercury</td><td>0.002</td><td>0.002</td><td>0.002</td></tr>",
                            "<tr><td>Nickel</td><td>0.1</td><td>NULL</td><td>1.1</td></tr>",
                            "<tr><td>Nitrate</td><td>10</td><td>10</td><td>10</td></tr>",
                            "<tr><td>Nitrite</td><td>1</td><td>1</td><td>1</td></tr>",
                            "<tr><td>Nitrate + Nitrite</td><td>10</td><td>NULL</td><td>11</td></tr>",
                            "<tr><td>Perchlorate</td><td>0.006</td><td>NULL</td><td>1.006</td></tr>",
                            "<tr><td>Selenium</td><td>0.05</td><td>0.05</td><td>0.05</td></tr>",
                            "<tr><td>Thallium</td><td>0.002</td><td>0.002</td><td>0.002</td></tr>",
                            "<tr><td>Copper</td><td>1.3</td><td>1.3</td><td>1.3</td></tr>",
                            "<tr><td>Lead</td><td>0.015</td><td>0.015</td><td>0.015</td></tr>",
                            "<tr><td>Gross Alpha Particle</td><td>15</td><td>15</td><td>15</td></tr>",
                            "<tr><td>Gross Beta Particle</td><td>4</td><td>4</td><td>4</td></tr>",
                            "<tr><td>Radium-226 + Radium-228</td><td>5</td><td>5</td><td>5</td></tr>",
                            "<tr><td>Strontium-90</td><td>8</td><td>NULL</td><td>9</td></tr>",
                            "<tr><td>Tritium</td><td>20000</td><td>NULL</td><td>20001</td></tr>",
                            "<tr><td>Uranium</td><td>20</td><td>30</td><td>30</td></tr>",
                            "<tr><td>Benzene</td><td>0.001</td><td>0.005</td><td>0.005</td></tr>",
                            "<tr><td>Carbon tetrachloride</td><td>0.0005</td><td>0.005</td><td>0.005</td></tr>",
                            "<tr><td>1,2-Dichlorobenzene</td><td>0.6</td><td>0.6</td><td>0.6</td></tr>",
                            "<tr><td>1,4-Dichlorobenzene(p-DCB)</td><td>0.005</td><td>0.075</td><td>0.075</td></tr>",
                            "<tr><td>1,1-Dichloroethane (1,1-DCA)</td><td>0.005</td><td>NULL</td><td>1.005</td></tr>",
                            "<tr><td>1,2-Dichloroethane (1,2-DCA)</td><td>0.0005</td><td>0.005</td><td>0.005</td></tr>",
                            "<tr><td>1,1-Dichloroethylene (1,1-DCE)</td><td>0.006</td><td>0.007</td><td>0.007</td></tr>",
                            "<tr><td>cis-1,2-Dichloroethylene</td><td>0.006</td><td>0.07</td><td>0.07</td></tr>",
                            "<tr><td>trans-1,2-Dichloroethylene</td><td>0.01</td><td>0.1</td><td>0.1</td></tr>",
                            "<tr><td>Dichloromethane (Methylene chloride)</td><td>0.005</td><td>0.005</td><td>0.005</td></tr>",
                            "<tr><td>1,2-Dichloropropane</td><td>0.005</td><td>0.005</td><td>0.005</td></tr>",
                            "<tr><td>1,3-Dichloropropene</td><td>0.0005</td><td>NULL</td><td>1.0005</td></tr>",
                            "<tr><td>Ethylbenzene</td><td>0.3</td><td>0.7</td><td>0.7</td></tr>",
                            "<tr><td>Methyl tertiary butyl ether (MTBE)</td><td>0.013</td><td>NULL</td><td>1.013</td></tr>",
                            "<tr><td>Monochlorobenzene</td><td>0.07</td><td>0.1</td><td>0.1</td></tr>",
                            "<tr><td>Styrene</td><td>0.1</td><td>0.1</td><td>0.1</td></tr>",
                            "<tr><td>1,1,2,2-Tetrachloroethane</td><td>0.001</td><td>0.1</td><td>0.1</td></tr>",
                            "<tr><td>Tetrachloroethylene (PCE)</td><td>0.005</td><td>0.005</td><td>0.005</td></tr>",
                            "<tr><td>Toluene</td><td>0.15</td><td>1</td><td>1</td></tr>",
                            "<tr><td>1,2,4-Trichlorobenzene</td><td>0.005</td><td>0.07</td><td>0.07</td></tr>",
                            "<tr><td>1,1,1-Trichloroethane (1,1,1-TCA)</td><td>0.2</td><td>0.2</td><td>0.2</td></tr>",
                            "<tr><td>1,1,2-Trichloroethane (1,1,2-TCA)</td><td>0.005</td><td>0.005</td><td>0.005</td></tr>",
                            "<tr><td>Trichloroethylene (TCE)</td><td>0.005</td><td>0.005</td><td>0.005</td></tr>",
                            "<tr><td>Trichlorofluoromethane (Freon 11)</td><td>0.15</td><td>NULL</td><td>1.15</td></tr>",
                            "<tr><td>1,1,2-Trichloro-1,2,2-Trifluoroethane (Freon 113)</td><td>1.2</td><td>NULL</td><td>2.2</td></tr>",
                            "<tr><td>Vinyl chloride</td><td>0.0005</td><td>0.002</td><td>0.002</td></tr>",
                            "<tr><td>Xylenes</td><td>1.75</td><td>10</td><td>10</td></tr>",
                            "<tr><td>Alachlor</td><td>0.002</td><td>0.002</td><td>0.002</td></tr>",
                            "<tr><td>Atrazine</td><td>0.001</td><td>0.003</td><td>0.003</td></tr>",
                            "<tr><td>Bentazon</td><td>0.018</td><td>NULL</td><td>1.018</td></tr>",
                            "<tr><td>Benzo(a)pyrene</td><td>0.0002</td><td>0.0002</td><td>0.0002</td></tr>",
                            "<tr><td>Carbofuran</td><td>0.018</td><td>0.04</td><td>0.04</td></tr>",
                            "<tr><td>Chlordane</td><td>0.0001</td><td>0.002</td><td>0.002</td></tr>",
                            "<tr><td>Dalapon</td><td>0.2</td><td>0.2</td><td>0.2</td></tr>",
                            "<tr><td>1,2-Dibromo-3-chloropropane (DBCP)</td><td>0.0002</td><td>0.0002</td><td>0.0002</td></tr>",
                            "<tr><td>2,4-Dichlorophenoxyacetic acid (2,4-D)</td><td>0.07</td><td>0.07</td><td>0.07</td></tr>",
                            "<tr><td>Di(2-ethylhexyl)adipate</td><td>0.4</td><td>0.4</td><td>0.4</td></tr>",
                            "<tr><td>Di(2-ethylhexyl)phthalate (DEHP)</td><td>0.004</td><td>0.006</td><td>0.006</td></tr>",
                            "<tr><td>Dinoseb</td><td>0.007</td><td>0.007</td><td>0.007</td></tr>",
                            "<tr><td>Diquat</td><td>0.02</td><td>0.02</td><td>0.02</td></tr>",
                            "<tr><td>Endothal</td><td>0.1</td><td>0.1</td><td>0.1</td></tr>",
                            "<tr><td>Endrin</td><td>0.002</td><td>0.002</td><td>0.002</td></tr>",
                            "<tr><td>Ethylene dibromide (EDB)</td><td>5E-05</td><td>5E-05</td><td>5E-05</td></tr>",
                            "<tr><td>Glyphosate</td><td>0.7</td><td>0.7</td><td>0.7</td></tr>",
                            "<tr><td>Heptachlor</td><td>1E-05</td><td>0.0004</td><td>0.0004</td></tr>",
                            "<tr><td>Heptachlor epoxide</td><td>1E-05</td><td>0.0002</td><td>0.0002</td></tr>",
                            "<tr><td>Hexachlorobenzene</td><td>0.001</td><td>0.001</td><td>0.001</td></tr>",
                            "<tr><td>Hexachlorocyclopentadiene</td><td>0.05</td><td>0.05</td><td>0.05</td></tr>",
                            "<tr><td>Lindane</td><td>0.0002</td><td>0.0002</td><td>0.0002</td></tr>",
                            "<tr><td>Methoxychlor</td><td>0.03</td><td>0.04</td><td>0.04</td></tr>",
                            "<tr><td>Molinate</td><td>0.02</td><td>NULL</td><td>1.02</td></tr>",
                            "<tr><td>Oxamyl</td><td>0.05</td><td>0.2</td><td>0.2</td></tr>",
                            "<tr><td>Pentachlorophenol</td><td>0.001</td><td>0.001</td><td>0.001</td></tr>",
                            "<tr><td>Picloram</td><td>0.5</td><td>0.5</td><td>0.5</td></tr>",
                            "<tr><td>Polychlorinated biphenyls (PCBs)</td><td>0.0005</td><td>0.0005</td><td>0.0005</td></tr>",
                            "<tr><td>Simazine</td><td>0.004</td><td>0.004</td><td>0.004</td></tr>",
                            "<tr><td>Thiobencarb</td><td>0.07</td><td>NULL</td><td>1.07</td></tr>",
                            "<tr><td>Toxaphene</td><td>0.003</td><td>0.003</td><td>0.003</td></tr>",
                            "<tr><td>1,2,3-Trichloropropane</td><td>5E-06</td><td>NULL</td><td>1.000005</td></tr>",
                            "<tr><td>2,3,7,8-TCDD (dioxin)</td><td>3E-08</td><td>3E-08</td><td>3E-08</td></tr>",
                            "<tr><td>2,4,5-TP (Silvex)</td><td>0.05</td><td>0.05</td><td>0.05</td></tr>",
                            "<tr><td>Total Trihalomethanes</td><td>0.08</td><td>0.08</td><td>0.08</td></tr>",
                            "<tr><td>Haloacetic Acids (five) (HAA5)</td><td>0.06</td><td>0.06</td><td>0.06</td></tr>",
                            "<tr><td>Bromate</td><td>0.01</td><td>0.01</td><td>0.01</td></tr>",
                            "<tr><td>Chlorite</td><td>1</td><td>1</td><td>1</td></tr>",
                            "</table>"
                        ]
                    }
                }
            ],
            "execution_count": 85
        },
        {
            "cell_type": "code",
            "source": [
                "WITH \r\n",
                "Unregulated_Federal_Coalesced AS (\r\n",
                "    SELECT  contaminant, \r\n",
                "            state_max_level,\r\n",
                "            COALESCE(federal_max_level, state_max_level + 1) AS federal_not_null\r\n",
                "    FROM    dbo.state_regulations\r\n",
                "), \r\n",
                "Stricter_State_Coalesced AS (\r\n",
                "    SELECT  contaminant, \r\n",
                "            state_max_level,\r\n",
                "            federal_not_null\r\n",
                "    FROM    Unregulated_Federal_Coalesced\r\n",
                "    WHERE   federal_not_null > state_max_level\r\n",
                "),\r\n",
                "Stricter_State_Maximums AS (\r\n",
                "    SELECT  contaminant, \r\n",
                "            state_max_level, \r\n",
                "            federal_max_level\r\n",
                "    FROM dbo.state_regulations\r\n",
                "    WHERE federal_max_level > state_max_level\r\n",
                "),\r\n",
                "Federal_Maximums AS (\r\n",
                "    SELECT  contaminant,\r\n",
                "            state_max_level, \r\n",
                "            federal_max_level    \r\n",
                "    FROM    dbo.state_regulations\r\n",
                "    WHERE   federal_max_level IS NOT NULL\r\n",
                "),\r\n",
                "Laxer_Federal_Maximums AS (\r\n",
                "    SELECT  contaminant, \r\n",
                "            state_max_level, \r\n",
                "            federal_max_level\r\n",
                "    FROM    Federal_Maximums\r\n",
                "    WHERE   federal_max_level > state_max_level\r\n",
                "), \r\n",
                "All_Counts AS (\r\n",
                "    SELECT  COUNT(LFM.contaminant) AS Laxer_Federal_Maximum_Count, \r\n",
                "            COUNT(FM.contaminant) AS Federal_Maximum_Count, \r\n",
                "            COUNT(SSM.contaminant) AS Stricter_State_Maximum_Count, \r\n",
                "            COUNT(SSC.contaminant) AS Stricter_State_Coalesced_Count,\r\n",
                "            COUNT(UFC.contaminant) AS Unregulated_Federal_Coalesced_Count\r\n",
                "    FROM    Unregulated_Federal_Coalesced AS UFC\r\n",
                "        LEFT JOIN\r\n",
                "            Stricter_State_Coalesced AS SSC\r\n",
                "            ON UFC.contaminant = SSC.contaminant\r\n",
                "        LEFT JOIN\r\n",
                "            Stricter_State_Maximums AS SSM\r\n",
                "            ON UFC.contaminant = SSM.contaminant\r\n",
                "        LEFT JOIN \r\n",
                "            Federal_Maximums AS FM\r\n",
                "            ON UFC.contaminant = FM.contaminant\r\n",
                "        LEFT JOIN \r\n",
                "            Laxer_Federal_Maximums AS LFM\r\n",
                "            ON UFC.contaminant = LFM.contaminant\r\n",
                ")\r\n",
                "SELECT  CAST(100*Laxer_Federal_Maximum_Count/ (SELECT Federal_Maximum_Count FROM All_Counts) AS DECIMAL(5,1)) AS Question_1, \r\n",
                "        CAST(100*Stricter_State_Maximum_Count/ (SELECT Unregulated_Federal_Coalesced_Count FROM All_Counts) AS DECIMAL(5,1)) AS Question_2,\r\n",
                "        CAST(100*Stricter_State_Coalesced_Count/ (SELECT Unregulated_Federal_Coalesced_Count FROM All_Counts) AS DECIMAL(5,1)) AS Question_3\r\n",
                "FROM    All_Counts"
            ],
            "metadata": {
                "language": "sql",
                "azdata_cell_guid": "373e4b51-5e76-49cc-97da-a348343dce6f"
            },
            "outputs": [
                {
                    "output_type": "display_data",
                    "data": {
                        "text/html": "Warning: Null value is eliminated by an aggregate or other SET operation."
                    },
                    "metadata": {}
                },
                {
                    "output_type": "display_data",
                    "data": {
                        "text/html": "(1 row affected)"
                    },
                    "metadata": {}
                },
                {
                    "output_type": "display_data",
                    "data": {
                        "text/html": "Total execution time: 00:00:00.039"
                    },
                    "metadata": {}
                },
                {
                    "output_type": "execute_result",
                    "metadata": {},
                    "execution_count": 51,
                    "data": {
                        "application/vnd.dataresource+json": {
                            "schema": {
                                "fields": [
                                    {
                                        "name": "Question_1"
                                    },
                                    {
                                        "name": "Question_2"
                                    },
                                    {
                                        "name": "Question_3"
                                    }
                                ]
                            },
                            "data": [
                                {
                                    "0": "35.0",
                                    "1": "29.0",
                                    "2": "46.0"
                                }
                            ]
                        },
                        "text/html": [
                            "<table>",
                            "<tr><th>Question_1</th><th>Question_2</th><th>Question_3</th></tr>",
                            "<tr><td>35.0</td><td>29.0</td><td>46.0</td></tr>",
                            "</table>"
                        ]
                    }
                }
            ],
            "execution_count": 51
        },
        {
            "cell_type": "markdown",
            "source": [
                "And now for the Subquery version of the above code:"
            ],
            "metadata": {
                "azdata_cell_guid": "b98e829d-f49b-433d-b0e3-ef559032e141"
            },
            "attachments": {}
        },
        {
            "cell_type": "code",
            "source": [
                "SELECT  CAST(100*Laxer_Federal_Maximum_Count/ (SELECT COUNT(*) FROM dbo.state_regulations WHERE federal_max_level IS NOT NULL) AS DECIMAL(5,1)) AS Question_1,\r\n",
                "        CAST(100*Stricter_State_Maximum_Count/ (SELECT COUNT(*) FROM (\r\n",
                "            SELECT  contaminant, \r\n",
                "                    state_max_level, \r\n",
                "                    federal_max_level \r\n",
                "            FROM dbo.state_regulations \r\n",
                "            ) AS SSM) AS DECIMAL(5,1)) AS Question_2,\r\n",
                "        CAST(100*Stricter_State_Coalesced_Count/ (SELECT COUNT(*) FROM (\r\n",
                "            SELECT  contaminant, \r\n",
                "                    state_max_level, \r\n",
                "                    COALESCE(federal_max_level, state_max_level + 1) AS federal_not_null \r\n",
                "            FROM dbo.state_regulations) AS UFC \r\n",
                "            WHERE federal_not_null > state_max_level) AS DECIMAL(5,1)) AS Question_3\r\n",
                "FROM (\r\n",
                "    SELECT  COUNT(LFM.contaminant) AS Laxer_Federal_Maximum_Count, \r\n",
                "            COUNT(FM.contaminant) AS Federal_Maximum_Count, \r\n",
                "            COUNT(SSM.contaminant) AS Stricter_State_Maximum_Count, \r\n",
                "            COUNT(SSC.contaminant) AS Stricter_State_Coalesced_Count,\r\n",
                "            COUNT(UFC.contaminant) AS Unregulated_Federal_Coalesced_Count\r\n",
                "    FROM (\r\n",
                "        SELECT  contaminant, \r\n",
                "                state_max_level, \r\n",
                "                federal_max_level \r\n",
                "        FROM dbo.state_regulations \r\n",
                "        WHERE federal_max_level IS NOT NULL) AS FM\r\n",
                "        LEFT JOIN (\r\n",
                "            SELECT  contaminant, \r\n",
                "                    state_max_level, \r\n",
                "                    federal_max_level \r\n",
                "            FROM dbo.state_regulations \r\n",
                "            WHERE federal_max_level > state_max_level) AS SSM \r\n",
                "        ON FM.contaminant = SSM.contaminant\r\n",
                "        LEFT JOIN (\r\n",
                "            SELECT  contaminant, \r\n",
                "                    state_max_level, \r\n",
                "                    COALESCE(federal_max_level, state_max_level + 1) AS federal_not_null \r\n",
                "            FROM dbo.state_regulations) AS UFC \r\n",
                "        ON FM.contaminant = UFC.contaminant\r\n",
                "        LEFT JOIN (\r\n",
                "            SELECT  contaminant, \r\n",
                "                    state_max_level, \r\n",
                "                    federal_max_level \r\n",
                "            FROM dbo.state_regulations \r\n",
                "            WHERE federal_max_level > state_max_level) AS SSC \r\n",
                "        ON UFC.contaminant = SSC.contaminant\r\n",
                "        LEFT JOIN (\r\n",
                "            SELECT  contaminant, \r\n",
                "                    state_max_level, \r\n",
                "                    federal_max_level \r\n",
                "            FROM (\r\n",
                "                SELECT  contaminant, \r\n",
                "                        state_max_level, \r\n",
                "                        federal_max_level \r\n",
                "                FROM dbo.state_regulations \r\n",
                "                WHERE federal_max_level IS NOT NULL) AS FM \r\n",
                "            WHERE federal_max_level > state_max_level) AS LFM \r\n",
                "        ON UFC.contaminant = LFM.contaminant\r\n",
                ") AS All_Counts;\r\n",
                ""
            ],
            "metadata": {
                "azdata_cell_guid": "21484c73-c889-4ec8-b60b-a14039846ccf",
                "language": "sql"
            },
            "outputs": [
                {
                    "output_type": "display_data",
                    "data": {
                        "text/html": "Warning: Null value is eliminated by an aggregate or other SET operation."
                    },
                    "metadata": {}
                },
                {
                    "output_type": "display_data",
                    "data": {
                        "text/html": "(1 row affected)"
                    },
                    "metadata": {}
                },
                {
                    "output_type": "display_data",
                    "data": {
                        "text/html": "Total execution time: 00:00:00.030"
                    },
                    "metadata": {}
                },
                {
                    "output_type": "execute_result",
                    "metadata": {},
                    "execution_count": 53,
                    "data": {
                        "application/vnd.dataresource+json": {
                            "schema": {
                                "fields": [
                                    {
                                        "name": "Question_1"
                                    },
                                    {
                                        "name": "Question_2"
                                    },
                                    {
                                        "name": "Question_3"
                                    }
                                ]
                            },
                            "data": [
                                {
                                    "0": "35.0",
                                    "1": "29.0",
                                    "2": "64.0"
                                }
                            ]
                        },
                        "text/html": [
                            "<table>",
                            "<tr><th>Question_1</th><th>Question_2</th><th>Question_3</th></tr>",
                            "<tr><td>35.0</td><td>29.0</td><td>64.0</td></tr>",
                            "</table>"
                        ]
                    }
                }
            ],
            "execution_count": 53
        },
        {
            "cell_type": "markdown",
            "source": [
                "I hope it's clear that from a readability standpoint, the code using Common Table Expressions (WITH) is much easier to follow and comprehend. \n",
                "\n",
                "  \n",
                "\n",
                "Even using CTEs for organization, I still had to resort to subqueries when performing the calculations within the SELECT clause, which hopefully makes you wonder if there is an easier way to do this. Indeed there is, but that's a different advanced topic that isn't ideal to introduce at this time.\n",
                "\n",
                "  \n",
                "\n",
                "  \n",
                "\n",
                "I hope that this was informative and easy to digest! My goal is to help others who have completed SQL coursework and have a good handle on using joins, subqueries, and the other standard clauses within the SQL language."
            ],
            "metadata": {
                "azdata_cell_guid": "b5bba5dc-5068-4fda-9832-81bcdccd708d"
            },
            "attachments": {}
        }
    ]
}