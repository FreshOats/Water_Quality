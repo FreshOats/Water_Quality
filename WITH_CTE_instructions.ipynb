{
    "metadata": {
        "kernelspec": {
            "name": "SQL",
            "display_name": "SQL",
            "language": "sql"
        },
        "language_info": {
            "name": "sql",
            "version": ""
        }
    },
    "nbformat_minor": 2,
    "nbformat": 4,
    "cells": [
        {
            "cell_type": "markdown",
            "source": [
                "**Water Quality Queries**\n",
                "\n",
                "Query to see how many Federal Maximum Levels are lower than the California Maximum Levels. \n",
                "\n",
                "This should return an empty set, because state restrictions are superceded by federal, and CA tends to be more conservative on its standards than the federal government."
            ],
            "metadata": {
                "azdata_cell_guid": "702fefec-0b18-46b1-9be1-aea920e86184"
            },
            "attachments": {}
        },
        {
            "cell_type": "code",
            "source": [
                "SELECT * \r\n",
                "FROM dbo.state_regulations\r\n",
                "WHERE federal_max_level < state_max_level;"
            ],
            "metadata": {
                "azdata_cell_guid": "40ff5039-565c-4018-a28e-1fd72ecb276a",
                "language": "sql"
            },
            "outputs": [
                {
                    "output_type": "display_data",
                    "data": {
                        "text/html": "(0 rows affected)"
                    },
                    "metadata": {}
                },
                {
                    "output_type": "display_data",
                    "data": {
                        "text/html": "Total execution time: 00:00:00.001"
                    },
                    "metadata": {}
                },
                {
                    "output_type": "execute_result",
                    "metadata": {},
                    "execution_count": 32,
                    "data": {
                        "application/vnd.dataresource+json": {
                            "schema": {
                                "fields": [
                                    {
                                        "name": "contaminant"
                                    },
                                    {
                                        "name": "state_max_level"
                                    },
                                    {
                                        "name": "state_detection_limit"
                                    },
                                    {
                                        "name": "state_health_goal"
                                    },
                                    {
                                        "name": "state_health_date"
                                    },
                                    {
                                        "name": "federal_max_level"
                                    },
                                    {
                                        "name": "federal_max_level_goal"
                                    },
                                    {
                                        "name": "units"
                                    }
                                ]
                            },
                            "data": []
                        },
                        "text/html": [
                            "<table>",
                            "<tr><th>contaminant</th><th>state_max_level</th><th>state_detection_limit</th><th>state_health_goal</th><th>state_health_date</th><th>federal_max_level</th><th>federal_max_level_goal</th><th>units</th></tr>",
                            "</table>"
                        ]
                    }
                }
            ],
            "execution_count": 32
        },
        {
            "cell_type": "markdown",
            "source": [
                "As expected, this returned an empty set. Next, I'd like to see how many state standards are lower than the federal standards.\n",
                "\n",
                "This is a more complicated question than it seems for someone new to SQL. The following query is rather simple, showing WHICH state standards are lower than the federal standards, and since this is a rather short list, we can see that the number is 27. \n",
                "\n",
                "The original question only asked HOW MANY of the contaminants have lower state standards than federal, and if this was a much larger dataset, it would be cumbersome to report the output based on the rows affected rather than querying for the intended output."
            ],
            "metadata": {
                "language": "sql",
                "azdata_cell_guid": "d65d344f-b64f-4df3-b200-18d2e87ebe9b"
            },
            "attachments": {}
        },
        {
            "cell_type": "code",
            "source": [
                "SELECT  contaminant, \r\n",
                "        state_max_level, \r\n",
                "        federal_max_level\r\n",
                "FROM dbo.state_regulations\r\n",
                "WHERE federal_max_level > state_max_level;"
            ],
            "metadata": {
                "language": "sql",
                "azdata_cell_guid": "7a8a3bee-c9c6-4d2d-91b0-85fb2dbf1df2"
            },
            "outputs": [
                {
                    "output_type": "display_data",
                    "data": {
                        "text/html": "(27 rows affected)"
                    },
                    "metadata": {}
                },
                {
                    "output_type": "display_data",
                    "data": {
                        "text/html": "Total execution time: 00:00:00.013"
                    },
                    "metadata": {}
                },
                {
                    "output_type": "execute_result",
                    "metadata": {},
                    "execution_count": 33,
                    "data": {
                        "application/vnd.dataresource+json": {
                            "schema": {
                                "fields": [
                                    {
                                        "name": "contaminant"
                                    },
                                    {
                                        "name": "state_max_level"
                                    },
                                    {
                                        "name": "federal_max_level"
                                    }
                                ]
                            },
                            "data": [
                                {
                                    "0": "Barium",
                                    "1": "1",
                                    "2": "2"
                                },
                                {
                                    "0": "Chromium, Total",
                                    "1": "0.05",
                                    "2": "0.1"
                                },
                                {
                                    "0": "Cyanide",
                                    "1": "0.15",
                                    "2": "0.2"
                                },
                                {
                                    "0": "Fluoride",
                                    "1": "2",
                                    "2": "4"
                                },
                                {
                                    "0": "Uranium",
                                    "1": "20",
                                    "2": "30"
                                },
                                {
                                    "0": "Benzene",
                                    "1": "0.001",
                                    "2": "0.005"
                                },
                                {
                                    "0": "Carbon tetrachloride",
                                    "1": "0.0005",
                                    "2": "0.005"
                                },
                                {
                                    "0": "1,4-Dichlorobenzene(p-DCB)",
                                    "1": "0.005",
                                    "2": "0.075"
                                },
                                {
                                    "0": "1,2-Dichloroethane (1,2-DCA)",
                                    "1": "0.0005",
                                    "2": "0.005"
                                },
                                {
                                    "0": "1,1-Dichloroethylene (1,1-DCE)",
                                    "1": "0.006",
                                    "2": "0.007"
                                },
                                {
                                    "0": "cis-1,2-Dichloroethylene",
                                    "1": "0.006",
                                    "2": "0.07"
                                },
                                {
                                    "0": "trans-1,2-Dichloroethylene",
                                    "1": "0.01",
                                    "2": "0.1"
                                },
                                {
                                    "0": "Ethylbenzene",
                                    "1": "0.3",
                                    "2": "0.7"
                                },
                                {
                                    "0": "Monochlorobenzene",
                                    "1": "0.07",
                                    "2": "0.1"
                                },
                                {
                                    "0": "1,1,2,2-Tetrachloroethane",
                                    "1": "0.001",
                                    "2": "0.1"
                                },
                                {
                                    "0": "Toluene",
                                    "1": "0.15",
                                    "2": "1"
                                },
                                {
                                    "0": "1,2,4-Trichlorobenzene",
                                    "1": "0.005",
                                    "2": "0.07"
                                },
                                {
                                    "0": "Vinyl chloride",
                                    "1": "0.0005",
                                    "2": "0.002"
                                },
                                {
                                    "0": "Xylenes",
                                    "1": "1.75",
                                    "2": "10"
                                },
                                {
                                    "0": "Atrazine",
                                    "1": "0.001",
                                    "2": "0.003"
                                },
                                {
                                    "0": "Carbofuran",
                                    "1": "0.018",
                                    "2": "0.04"
                                },
                                {
                                    "0": "Chlordane",
                                    "1": "0.0001",
                                    "2": "0.002"
                                },
                                {
                                    "0": "Di(2-ethylhexyl)phthalate (DEHP)",
                                    "1": "0.004",
                                    "2": "0.006"
                                },
                                {
                                    "0": "Heptachlor",
                                    "1": "1E-05",
                                    "2": "0.0004"
                                },
                                {
                                    "0": "Heptachlor epoxide",
                                    "1": "1E-05",
                                    "2": "0.0002"
                                },
                                {
                                    "0": "Methoxychlor",
                                    "1": "0.03",
                                    "2": "0.04"
                                },
                                {
                                    "0": "Oxamyl",
                                    "1": "0.05",
                                    "2": "0.2"
                                }
                            ]
                        },
                        "text/html": [
                            "<table>",
                            "<tr><th>contaminant</th><th>state_max_level</th><th>federal_max_level</th></tr>",
                            "<tr><td>Barium</td><td>1</td><td>2</td></tr>",
                            "<tr><td>Chromium, Total</td><td>0.05</td><td>0.1</td></tr>",
                            "<tr><td>Cyanide</td><td>0.15</td><td>0.2</td></tr>",
                            "<tr><td>Fluoride</td><td>2</td><td>4</td></tr>",
                            "<tr><td>Uranium</td><td>20</td><td>30</td></tr>",
                            "<tr><td>Benzene</td><td>0.001</td><td>0.005</td></tr>",
                            "<tr><td>Carbon tetrachloride</td><td>0.0005</td><td>0.005</td></tr>",
                            "<tr><td>1,4-Dichlorobenzene(p-DCB)</td><td>0.005</td><td>0.075</td></tr>",
                            "<tr><td>1,2-Dichloroethane (1,2-DCA)</td><td>0.0005</td><td>0.005</td></tr>",
                            "<tr><td>1,1-Dichloroethylene (1,1-DCE)</td><td>0.006</td><td>0.007</td></tr>",
                            "<tr><td>cis-1,2-Dichloroethylene</td><td>0.006</td><td>0.07</td></tr>",
                            "<tr><td>trans-1,2-Dichloroethylene</td><td>0.01</td><td>0.1</td></tr>",
                            "<tr><td>Ethylbenzene</td><td>0.3</td><td>0.7</td></tr>",
                            "<tr><td>Monochlorobenzene</td><td>0.07</td><td>0.1</td></tr>",
                            "<tr><td>1,1,2,2-Tetrachloroethane</td><td>0.001</td><td>0.1</td></tr>",
                            "<tr><td>Toluene</td><td>0.15</td><td>1</td></tr>",
                            "<tr><td>1,2,4-Trichlorobenzene</td><td>0.005</td><td>0.07</td></tr>",
                            "<tr><td>Vinyl chloride</td><td>0.0005</td><td>0.002</td></tr>",
                            "<tr><td>Xylenes</td><td>1.75</td><td>10</td></tr>",
                            "<tr><td>Atrazine</td><td>0.001</td><td>0.003</td></tr>",
                            "<tr><td>Carbofuran</td><td>0.018</td><td>0.04</td></tr>",
                            "<tr><td>Chlordane</td><td>0.0001</td><td>0.002</td></tr>",
                            "<tr><td>Di(2-ethylhexyl)phthalate (DEHP)</td><td>0.004</td><td>0.006</td></tr>",
                            "<tr><td>Heptachlor</td><td>1E-05</td><td>0.0004</td></tr>",
                            "<tr><td>Heptachlor epoxide</td><td>1E-05</td><td>0.0002</td></tr>",
                            "<tr><td>Methoxychlor</td><td>0.03</td><td>0.04</td></tr>",
                            "<tr><td>Oxamyl</td><td>0.05</td><td>0.2</td></tr>",
                            "</table>"
                        ]
                    }
                }
            ],
            "execution_count": 33
        },
        {
            "cell_type": "markdown",
            "source": [
                "**Method 1: Using a Subquery**\n",
                "\n",
                "What we really want to do is Query the COUNT from this result. Simply counting the outputs will deliver the number we're looking for.\n",
                "\n",
                "The easiest place to introduce the above query as a subquery is in the FROM statement. I'm constructing a nested query from the innermost query outward."
            ],
            "metadata": {
                "azdata_cell_guid": "0dd12ed3-77f9-4b82-b813-81c6091632fe"
            },
            "attachments": {}
        },
        {
            "cell_type": "code",
            "source": [
                "SELECT COUNT(subquery.contaminant) AS Number_of_Stricter_State_Maximums\r\n",
                "FROM (\r\n",
                "    SELECT  contaminant, \r\n",
                "            state_max_level, \r\n",
                "            federal_max_level\r\n",
                "    FROM    dbo.state_regulations\r\n",
                "    WHERE   federal_max_level > state_max_level\r\n",
                ") AS subquery\r\n",
                ""
            ],
            "metadata": {
                "azdata_cell_guid": "5ceb3e01-f637-4b59-aff6-b8f04b667b80",
                "language": "sql",
                "tags": []
            },
            "outputs": [
                {
                    "output_type": "display_data",
                    "data": {
                        "text/html": "(1 row affected)"
                    },
                    "metadata": {}
                },
                {
                    "output_type": "display_data",
                    "data": {
                        "text/html": "Total execution time: 00:00:00.002"
                    },
                    "metadata": {}
                },
                {
                    "output_type": "execute_result",
                    "metadata": {},
                    "execution_count": 34,
                    "data": {
                        "application/vnd.dataresource+json": {
                            "schema": {
                                "fields": [
                                    {
                                        "name": "Number_of_Stricter_State_Maximums"
                                    }
                                ]
                            },
                            "data": [
                                {
                                    "0": "27"
                                }
                            ]
                        },
                        "text/html": [
                            "<table>",
                            "<tr><th>Number_of_Stricter_State_Maximums</th></tr>",
                            "<tr><td>27</td></tr>",
                            "</table>"
                        ]
                    }
                }
            ],
            "execution_count": 34
        },
        {
            "cell_type": "markdown",
            "source": [
                "It is possible in the first line to just write SELECT COUNT(\\*) AS ..., however, it's unclear that there absolutely MUST be a naming of the Subquery. For clarity, I kept the subquery.contaminant as the value I'm counting. When I personally write a query like this, I would provide a better, more descriptive name for the subquery, since as the complexity increases, so does the difficulty in readability. The code below is the same, only with the modified naming for clarity."
            ],
            "metadata": {
                "language": "sql",
                "azdata_cell_guid": "16a5d11e-8a1c-4b00-94b2-82586dfe0a25"
            },
            "attachments": {}
        },
        {
            "cell_type": "code",
            "source": [
                "SELECT COUNT(Stricter_State_Maximums.contaminant) AS Number_of_Stricter_State_Maximums\r\n",
                "FROM (\r\n",
                "    SELECT  contaminant, \r\n",
                "            state_max_level, \r\n",
                "            federal_max_level\r\n",
                "    FROM    dbo.state_regulations\r\n",
                "    WHERE   federal_max_level > state_max_level\r\n",
                ") AS Stricter_State_Maximums"
            ],
            "metadata": {
                "language": "sql",
                "azdata_cell_guid": "45054038-4709-4a80-9d55-f7e5155c507b"
            },
            "outputs": [
                {
                    "output_type": "display_data",
                    "data": {
                        "text/html": "(1 row affected)"
                    },
                    "metadata": {}
                },
                {
                    "output_type": "display_data",
                    "data": {
                        "text/html": "Total execution time: 00:00:00.001"
                    },
                    "metadata": {}
                },
                {
                    "output_type": "execute_result",
                    "metadata": {},
                    "execution_count": 35,
                    "data": {
                        "application/vnd.dataresource+json": {
                            "schema": {
                                "fields": [
                                    {
                                        "name": "Number_of_Stricter_State_Maximums"
                                    }
                                ]
                            },
                            "data": [
                                {
                                    "0": "27"
                                }
                            ]
                        },
                        "text/html": [
                            "<table>",
                            "<tr><th>Number_of_Stricter_State_Maximums</th></tr>",
                            "<tr><td>27</td></tr>",
                            "</table>"
                        ]
                    }
                }
            ],
            "execution_count": 35
        },
        {
            "cell_type": "markdown",
            "source": [
                "Hopefully, as a reader, it's easier to follow now that the purpose of my subquery was to isolate the contaminants and their levels where the state level was lower than the federal. Then the parent query is a COUNT function on the subset of Stricter State Maximums, revealing the Number of Stricter State Maximums.\n",
                "\n",
                "**Method 2: Using a WITH clause, aka CTE or Common Table Expression**\n",
                "\n",
                "The WITH Clause introduces the subset at the beginning of the statement, and it provides more clarity, as you are following the structure in a linear manner from top to bottom, rather than digging deep into nested functions and crawling back out to the SELECT clause. \n",
                "\n",
                "This uses the same original query with the WITH clause to establish the 'Common Table Expression'. For linearity, I will do the same thing as I did with the subquery, labeling the expression as cte first, but then giving it the more appropriate name."
            ],
            "metadata": {
                "language": "sql",
                "azdata_cell_guid": "1569061d-ce61-4d70-99e3-6b4fc3ed11a5"
            },
            "attachments": {}
        },
        {
            "cell_type": "code",
            "source": [
                "WITH cte AS (\r\n",
                "    SELECT  contaminant, \r\n",
                "            state_max_level, \r\n",
                "            federal_max_level\r\n",
                "    FROM dbo.state_regulations\r\n",
                "    WHERE federal_max_level > state_max_level\r\n",
                ")\r\n",
                "SELECT COUNT(contaminant) AS Number_of_Stricter_State_Maximums\r\n",
                "FROM cte"
            ],
            "metadata": {
                "language": "sql",
                "azdata_cell_guid": "c6eacf15-ec38-4d90-bc09-6748aa9277f1"
            },
            "outputs": [
                {
                    "output_type": "display_data",
                    "data": {
                        "text/html": "(1 row affected)"
                    },
                    "metadata": {}
                },
                {
                    "output_type": "display_data",
                    "data": {
                        "text/html": "Total execution time: 00:00:00.001"
                    },
                    "metadata": {}
                },
                {
                    "output_type": "execute_result",
                    "metadata": {},
                    "execution_count": 36,
                    "data": {
                        "application/vnd.dataresource+json": {
                            "schema": {
                                "fields": [
                                    {
                                        "name": "Number_of_Stricter_State_Maximums"
                                    }
                                ]
                            },
                            "data": [
                                {
                                    "0": "27"
                                }
                            ]
                        },
                        "text/html": [
                            "<table>",
                            "<tr><th>Number_of_Stricter_State_Maximums</th></tr>",
                            "<tr><td>27</td></tr>",
                            "</table>"
                        ]
                    }
                }
            ],
            "execution_count": 36
        },
        {
            "cell_type": "markdown",
            "source": [
                "In both of these methods, the original query is literally copied into the a clause. In the first, it is part of the FROM clause, whereas in the second it is introduced initially in the WITH clause.  \n",
                "\n",
                "As I add more complicated queries, the WITH clauses can draw from one another or from additional tables, limiting the need for multiple nestings in subqueries.\n",
                "\n",
                "The more intuitive labeling, as promised above is as follows."
            ],
            "metadata": {
                "language": "sql",
                "azdata_cell_guid": "b0211598-98fb-4d22-a2fa-136ba2abb65a"
            },
            "attachments": {}
        },
        {
            "cell_type": "code",
            "source": [
                "WITH Stricter_State_Maximums AS (\r\n",
                "    SELECT  contaminant, \r\n",
                "            state_max_level, \r\n",
                "            federal_max_level\r\n",
                "    FROM dbo.state_regulations\r\n",
                "    WHERE federal_max_level > state_max_level\r\n",
                ")\r\n",
                "SELECT COUNT(contaminant) AS Number_of_Stricter_State_Maximums\r\n",
                "FROM Stricter_State_Maximums"
            ],
            "metadata": {
                "language": "sql",
                "azdata_cell_guid": "4daf7889-f8c2-407f-8db7-feb7adcf4d69",
                "tags": []
            },
            "outputs": [
                {
                    "output_type": "display_data",
                    "data": {
                        "text/html": "(1 row affected)"
                    },
                    "metadata": {}
                },
                {
                    "output_type": "display_data",
                    "data": {
                        "text/html": "Total execution time: 00:00:00.001"
                    },
                    "metadata": {}
                },
                {
                    "output_type": "execute_result",
                    "metadata": {},
                    "execution_count": 37,
                    "data": {
                        "application/vnd.dataresource+json": {
                            "schema": {
                                "fields": [
                                    {
                                        "name": "Number_of_Stricter_State_Maximums"
                                    }
                                ]
                            },
                            "data": [
                                {
                                    "0": "27"
                                }
                            ]
                        },
                        "text/html": [
                            "<table>",
                            "<tr><th>Number_of_Stricter_State_Maximums</th></tr>",
                            "<tr><td>27</td></tr>",
                            "</table>"
                        ]
                    }
                }
            ],
            "execution_count": 37
        },
        {
            "cell_type": "markdown",
            "source": [
                "**Adding to the existing Query...**\n",
                "\n",
                "Show the number of Contaminants that have Stricter State Maximums, Stricter Federal Maximums, and Identical Maximums for State and Federal contamination levels.\n",
                "\n",
                "I'm already cringing at the logic with the Subqueries, so I'm going to start with the WITH clause approach!\n",
                "\n",
                "**Method 2: WITH**  \n",
                "\n",
                "The only changes I will make to each of the different expressions is the logical operator: \\<, \\>, and ="
            ],
            "metadata": {
                "language": "sql",
                "azdata_cell_guid": "ca5ac870-18f6-4bf6-a028-ff1ea6567cdb"
            },
            "attachments": {}
        },
        {
            "cell_type": "code",
            "source": [
                "WITH \r\n",
                "Stricter_State_Maximums AS (\r\n",
                "    SELECT  contaminant, \r\n",
                "            state_max_level, \r\n",
                "            federal_max_level\r\n",
                "    FROM dbo.state_regulations\r\n",
                "    WHERE federal_max_level > state_max_level\r\n",
                "), \r\n",
                "Stricter_Federal_Maximums AS (\r\n",
                "    SELECT  contaminant, \r\n",
                "            state_max_level, \r\n",
                "            federal_max_level\r\n",
                "    FROM dbo.state_regulations\r\n",
                "    WHERE federal_max_level < state_max_level\r\n",
                "), \r\n",
                "Same_State_Federal_Maximums AS (\r\n",
                "    SELECT  contaminant, \r\n",
                "            state_max_level, \r\n",
                "            federal_max_level\r\n",
                "    FROM dbo.state_regulations\r\n",
                "    WHERE federal_max_level = state_max_level\r\n",
                ")\r\n",
                "SELECT COUNT(contaminant) AS Number_of_Levels, 'State' AS Stricter_Restriction_Levels\r\n",
                "FROM Stricter_State_Maximums\r\n",
                "UNION ALL \r\n",
                "SELECT COUNT(contaminant), 'Federal' \r\n",
                "FROM Stricter_Federal_Maximums\r\n",
                "UNION ALL \r\n",
                "SELECT COUNT(contaminant), 'Equal'\r\n",
                "FROM Same_State_Federal_Maximums;"
            ],
            "metadata": {
                "language": "sql",
                "azdata_cell_guid": "0afaaab2-0e7f-4cbf-a850-4b646f582f91"
            },
            "outputs": [
                {
                    "output_type": "display_data",
                    "data": {
                        "text/html": "(3 rows affected)"
                    },
                    "metadata": {}
                },
                {
                    "output_type": "display_data",
                    "data": {
                        "text/html": "Total execution time: 00:00:00.008"
                    },
                    "metadata": {}
                },
                {
                    "output_type": "execute_result",
                    "metadata": {},
                    "execution_count": 50,
                    "data": {
                        "application/vnd.dataresource+json": {
                            "schema": {
                                "fields": [
                                    {
                                        "name": "Number_of_Levels"
                                    },
                                    {
                                        "name": "Stricter_Restriction_Levels"
                                    }
                                ]
                            },
                            "data": [
                                {
                                    "0": "27",
                                    "1": "State"
                                },
                                {
                                    "0": "0",
                                    "1": "Federal"
                                },
                                {
                                    "0": "49",
                                    "1": "Equal"
                                }
                            ]
                        },
                        "text/html": [
                            "<table>",
                            "<tr><th>Number_of_Levels</th><th>Stricter_Restriction_Levels</th></tr>",
                            "<tr><td>27</td><td>State</td></tr>",
                            "<tr><td>0</td><td>Federal</td></tr>",
                            "<tr><td>49</td><td>Equal</td></tr>",
                            "</table>"
                        ]
                    }
                }
            ],
            "execution_count": 50
        },
        {
            "cell_type": "markdown",
            "source": [
                "This is an alternative output, keeping everything in its own column. I've only done this to simplify the following subquery outcome."
            ],
            "metadata": {
                "language": "sql",
                "azdata_cell_guid": "148a9fa3-d5e9-4075-ad14-ba2d82497c6b"
            },
            "attachments": {}
        },
        {
            "cell_type": "code",
            "source": [
                "WITH \r\n",
                "Stricter_State_Maximums AS (\r\n",
                "    SELECT  contaminant, \r\n",
                "            state_max_level, \r\n",
                "            federal_max_level\r\n",
                "    FROM dbo.state_regulations\r\n",
                "    WHERE federal_max_level > state_max_level\r\n",
                "), \r\n",
                "Stricter_Federal_Maximums AS (\r\n",
                "    SELECT  contaminant, \r\n",
                "            state_max_level, \r\n",
                "            federal_max_level\r\n",
                "    FROM dbo.state_regulations\r\n",
                "    WHERE federal_max_level < state_max_level\r\n",
                "), \r\n",
                "Same_State_Federal_Maximums AS (\r\n",
                "    SELECT  contaminant, \r\n",
                "            state_max_level, \r\n",
                "            federal_max_level\r\n",
                "    FROM dbo.state_regulations\r\n",
                "    WHERE federal_max_level = state_max_level\r\n",
                ")\r\n",
                "SELECT  COUNT(SSM.contaminant) AS Number_of_Stricter_State_Restriction_Levels, \r\n",
                "        COUNT(SFM.contaminant) AS Number_of_Stricter_Federal_Restriction_Levels, \r\n",
                "        COUNT(SM.contaminant) AS Number_of_Same_Restriction_Levels\r\n",
                "FROM    dbo.state_regulations AS SR\r\n",
                "LEFT JOIN Stricter_State_Maximums AS SSM\r\n",
                "    ON SR.contaminant = SSM.contaminant\r\n",
                "LEFT JOIN Stricter_Federal_Maximums AS SFM\r\n",
                "    ON SR.contaminant = SFM.contaminant\r\n",
                "LEFT JOIN Same_State_Federal_Maximums AS SM\r\n",
                "    ON SR.contaminant = SM.contaminant\r\n",
                ""
            ],
            "metadata": {
                "azdata_cell_guid": "4423b268-4806-4d2d-b4ba-c7805c0bca38",
                "language": "sql"
            },
            "outputs": [
                {
                    "output_type": "display_data",
                    "data": {
                        "text/html": "Warning: Null value is eliminated by an aggregate or other SET operation."
                    },
                    "metadata": {}
                },
                {
                    "output_type": "display_data",
                    "data": {
                        "text/html": "(1 row affected)"
                    },
                    "metadata": {}
                },
                {
                    "output_type": "display_data",
                    "data": {
                        "text/html": "Total execution time: 00:00:00.009"
                    },
                    "metadata": {}
                },
                {
                    "output_type": "execute_result",
                    "metadata": {},
                    "execution_count": 54,
                    "data": {
                        "application/vnd.dataresource+json": {
                            "schema": {
                                "fields": [
                                    {
                                        "name": "Number_of_Stricter_State_Restriction_Levels"
                                    },
                                    {
                                        "name": "Number_of_Stricter_Federal_Restriction_Levels"
                                    },
                                    {
                                        "name": "Number_of_Same_Restriction_Levels"
                                    }
                                ]
                            },
                            "data": [
                                {
                                    "0": "27",
                                    "1": "0",
                                    "2": "49"
                                }
                            ]
                        },
                        "text/html": [
                            "<table>",
                            "<tr><th>Number_of_Stricter_State_Restriction_Levels</th><th>Number_of_Stricter_Federal_Restriction_Levels</th><th>Number_of_Same_Restriction_Levels</th></tr>",
                            "<tr><td>27</td><td>0</td><td>49</td></tr>",
                            "</table>"
                        ]
                    }
                }
            ],
            "execution_count": 54
        },
        {
            "cell_type": "markdown",
            "source": [
                "Since I'm drawing the same type of data, it's easy piece together an easy-to-understand output, giving the desired number of stricter state and federal maximums, and the number of equal values using 3 simialar Common Table expressions under the same WITH clause, appended together with UNION ALL.\n",
                "\n",
                "**Method 1: Subqueries**"
            ],
            "metadata": {
                "azdata_cell_guid": "806df631-cc00-4c9f-8f40-8f2520014949"
            },
            "attachments": {}
        },
        {
            "cell_type": "code",
            "source": [
                "SELECT  COUNT(Stricter_State_Maximums.contaminant) AS Number_of_Stricter_State_Maximums,\r\n",
                "        COUNT(Stricter_Federal_Maximums.contaminant) AS Number_of_Stricter_Federal_Maximums,\r\n",
                "        COUNT(Same_State_Federal_Maximums.contaminant) AS Number_of_Same_State_Federal_Maximums\r\n",
                "FROM dbo.state_regulations AS SR\r\n",
                "    LEFT JOIN\r\n",
                "    (\r\n",
                "        SELECT  contaminant, \r\n",
                "                state_max_level, \r\n",
                "                federal_max_level\r\n",
                "        FROM    dbo.state_regulations\r\n",
                "        WHERE   federal_max_level > state_max_level\r\n",
                "    ) AS Stricter_State_Maximums\r\n",
                "    ON SR.contaminant = Stricter_State_Maximums.contaminant\r\n",
                "    LEFT JOIN\r\n",
                "    (\r\n",
                "        SELECT  contaminant, \r\n",
                "                state_max_level, \r\n",
                "                federal_max_level\r\n",
                "        FROM    dbo.state_regulations\r\n",
                "        WHERE   federal_max_level = state_max_level\r\n",
                "    ) AS Same_State_Federal_Maximums\r\n",
                "        ON SR.contaminant = Same_State_Federal_Maximums.contaminant\r\n",
                "    LEFT JOIN\r\n",
                "    (\r\n",
                "        SELECT  contaminant, \r\n",
                "                state_max_level, \r\n",
                "                federal_max_level\r\n",
                "        FROM    dbo.state_regulations\r\n",
                "        WHERE   federal_max_level < state_max_level\r\n",
                "    ) AS Stricter_Federal_Maximums\r\n",
                "        ON SR.contaminant = Stricter_State_Maximums.contaminant"
            ],
            "metadata": {
                "azdata_cell_guid": "9c2ceb45-3fc8-4bdb-9f06-90f309f91f81",
                "language": "sql"
            },
            "outputs": [
                {
                    "output_type": "display_data",
                    "data": {
                        "text/html": "Warning: Null value is eliminated by an aggregate or other SET operation."
                    },
                    "metadata": {}
                },
                {
                    "output_type": "display_data",
                    "data": {
                        "text/html": "(1 row affected)"
                    },
                    "metadata": {}
                },
                {
                    "output_type": "display_data",
                    "data": {
                        "text/html": "Total execution time: 00:00:00.007"
                    },
                    "metadata": {}
                },
                {
                    "output_type": "execute_result",
                    "metadata": {},
                    "execution_count": 51,
                    "data": {
                        "application/vnd.dataresource+json": {
                            "schema": {
                                "fields": [
                                    {
                                        "name": "Number_of_Stricter_State_Maximums"
                                    },
                                    {
                                        "name": "Number_of_Stricter_Federal_Maximums"
                                    },
                                    {
                                        "name": "Number_of_Same_State_Federal_Maximums"
                                    }
                                ]
                            },
                            "data": [
                                {
                                    "0": "27",
                                    "1": "0",
                                    "2": "49"
                                }
                            ]
                        },
                        "text/html": [
                            "<table>",
                            "<tr><th>Number_of_Stricter_State_Maximums</th><th>Number_of_Stricter_Federal_Maximums</th><th>Number_of_Same_State_Federal_Maximums</th></tr>",
                            "<tr><td>27</td><td>0</td><td>49</td></tr>",
                            "</table>"
                        ]
                    }
                }
            ],
            "execution_count": 51
        },
        {
            "cell_type": "markdown",
            "source": [
                "In the above query, each subquery needed to be joined back to the original table, since the none of the subqueries should have any overlapping data required to make a join. To achieve these results, it is imperative that a LEFT join be used, otherwise the output will not return the correct value.\n",
                "\n",
                "The output is slightly different, in that here each is a column with its own header instead of rows with an identifying feature."
            ],
            "metadata": {
                "azdata_cell_guid": "9f2a978d-e477-4e78-861d-0b7de65e1ece"
            },
            "attachments": {}
        }
    ]
}