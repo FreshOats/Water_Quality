{
 "cells": [
  {
   "cell_type": "code",
   "execution_count": 2,
   "metadata": {},
   "outputs": [],
   "source": [
    "import pandas as pd"
   ]
  },
  {
   "cell_type": "code",
   "execution_count": 3,
   "metadata": {},
   "outputs": [],
   "source": [
    "file = pd.read_csv(\"lab_results.csv\")"
   ]
  },
  {
   "cell_type": "code",
   "execution_count": 8,
   "metadata": {},
   "outputs": [
    {
     "data": {
      "text/plain": [
       "4520512"
      ]
     },
     "execution_count": 8,
     "metadata": {},
     "output_type": "execute_result"
    }
   ],
   "source": [
    "len(file)"
   ]
  },
  {
   "cell_type": "code",
   "execution_count": 7,
   "metadata": {},
   "outputs": [
    {
     "name": "stdout",
     "output_type": "stream",
     "text": [
      "1130128 2260256 3390384 4520512\n"
     ]
    }
   ],
   "source": [
    "print(1130128, 1130128*2, 1130128*3, 1130128*4)"
   ]
  },
  {
   "cell_type": "code",
   "execution_count": 12,
   "metadata": {},
   "outputs": [],
   "source": [
    "lab_sub1 = file.iloc[0:1130128]"
   ]
  },
  {
   "cell_type": "code",
   "execution_count": 13,
   "metadata": {},
   "outputs": [],
   "source": [
    "lab_sub2 = file.iloc[1130128:2260256]"
   ]
  },
  {
   "cell_type": "code",
   "execution_count": 20,
   "metadata": {},
   "outputs": [],
   "source": [
    "lab_sub3 = file.iloc[2260256:3390384]"
   ]
  },
  {
   "cell_type": "code",
   "execution_count": 21,
   "metadata": {},
   "outputs": [],
   "source": [
    "lab_sub4 = file.iloc[3390384:]"
   ]
  },
  {
   "cell_type": "code",
   "execution_count": 23,
   "metadata": {},
   "outputs": [
    {
     "data": {
      "text/plain": [
       "1130128"
      ]
     },
     "execution_count": 23,
     "metadata": {},
     "output_type": "execute_result"
    }
   ],
   "source": [
    "len(lab_sub3)"
   ]
  },
  {
   "cell_type": "code",
   "execution_count": 24,
   "metadata": {},
   "outputs": [],
   "source": [
    "lab_sub1.to_csv(\"lab_sub1.csv\", index=False)"
   ]
  },
  {
   "cell_type": "code",
   "execution_count": 25,
   "metadata": {},
   "outputs": [],
   "source": [
    "lab_sub2.to_csv(\"lab_sub2.csv\", index=False)"
   ]
  },
  {
   "cell_type": "code",
   "execution_count": 26,
   "metadata": {},
   "outputs": [],
   "source": [
    "lab_sub3.to_csv(\"lab_sub3.csv\", index=False)"
   ]
  },
  {
   "cell_type": "code",
   "execution_count": 27,
   "metadata": {},
   "outputs": [],
   "source": [
    "lab_sub4.to_csv(\"lab_sub4.csv\", index=False)"
   ]
  },
  {
   "cell_type": "code",
   "execution_count": 32,
   "metadata": {},
   "outputs": [
    {
     "data": {
      "text/html": [
       "<div>\n",
       "<style scoped>\n",
       "    .dataframe tbody tr th:only-of-type {\n",
       "        vertical-align: middle;\n",
       "    }\n",
       "\n",
       "    .dataframe tbody tr th {\n",
       "        vertical-align: top;\n",
       "    }\n",
       "\n",
       "    .dataframe thead th {\n",
       "        text-align: right;\n",
       "    }\n",
       "</style>\n",
       "<table border=\"1\" class=\"dataframe\">\n",
       "  <thead>\n",
       "    <tr style=\"text-align: right;\">\n",
       "      <th></th>\n",
       "      <th>station_id</th>\n",
       "      <th>station_name</th>\n",
       "      <th>full_station_name</th>\n",
       "      <th>station_number</th>\n",
       "      <th>station_type</th>\n",
       "      <th>latitude</th>\n",
       "      <th>longitude</th>\n",
       "      <th>status</th>\n",
       "      <th>county_name</th>\n",
       "      <th>sample_code</th>\n",
       "      <th>sample_date</th>\n",
       "      <th>sample_depth</th>\n",
       "      <th>sample_depth_units</th>\n",
       "      <th>parameter</th>\n",
       "      <th>result</th>\n",
       "      <th>reporting_limit</th>\n",
       "      <th>units</th>\n",
       "      <th>method_name</th>\n",
       "    </tr>\n",
       "  </thead>\n",
       "  <tbody>\n",
       "    <tr>\n",
       "      <th>3390384</th>\n",
       "      <td>51</td>\n",
       "      <td>RINDGEPP02</td>\n",
       "      <td>Ag Drain on Rindge Tract, PP. NO. 2</td>\n",
       "      <td>B9V80271282</td>\n",
       "      <td>Surface Water</td>\n",
       "      <td>38.0455</td>\n",
       "      <td>121.4705</td>\n",
       "      <td>Review Status Unknown</td>\n",
       "      <td>San Joaquin</td>\n",
       "      <td>C0788A0510</td>\n",
       "      <td>07/20/1988 09:23</td>\n",
       "      <td>1.0</td>\n",
       "      <td>Meters</td>\n",
       "      <td>Dacthal (DCPA)</td>\n",
       "      <td>0.0</td>\n",
       "      <td>0.1</td>\n",
       "      <td>ug/L</td>\n",
       "      <td>EPA 608</td>\n",
       "    </tr>\n",
       "    <tr>\n",
       "      <th>3390385</th>\n",
       "      <td>51</td>\n",
       "      <td>RINDGEPP02</td>\n",
       "      <td>Ag Drain on Rindge Tract, PP. NO. 2</td>\n",
       "      <td>B9V80271282</td>\n",
       "      <td>Surface Water</td>\n",
       "      <td>38.0455</td>\n",
       "      <td>121.4705</td>\n",
       "      <td>Review Status Unknown</td>\n",
       "      <td>San Joaquin</td>\n",
       "      <td>C0788A0510</td>\n",
       "      <td>07/20/1988 09:23</td>\n",
       "      <td>1.0</td>\n",
       "      <td>Meters</td>\n",
       "      <td>Diazinon</td>\n",
       "      <td>0.0</td>\n",
       "      <td>0.5</td>\n",
       "      <td>ug/L</td>\n",
       "      <td>EPA 632</td>\n",
       "    </tr>\n",
       "    <tr>\n",
       "      <th>3390386</th>\n",
       "      <td>51</td>\n",
       "      <td>RINDGEPP02</td>\n",
       "      <td>Ag Drain on Rindge Tract, PP. NO. 2</td>\n",
       "      <td>B9V80271282</td>\n",
       "      <td>Surface Water</td>\n",
       "      <td>38.0455</td>\n",
       "      <td>121.4705</td>\n",
       "      <td>Review Status Unknown</td>\n",
       "      <td>San Joaquin</td>\n",
       "      <td>C0788A0510</td>\n",
       "      <td>07/20/1988 09:23</td>\n",
       "      <td>1.0</td>\n",
       "      <td>Meters</td>\n",
       "      <td>Dibromochloromethane</td>\n",
       "      <td>24.0</td>\n",
       "      <td>10.0</td>\n",
       "      <td>ug/L</td>\n",
       "      <td>DWR THMFP (Original)</td>\n",
       "    </tr>\n",
       "    <tr>\n",
       "      <th>3390387</th>\n",
       "      <td>51</td>\n",
       "      <td>RINDGEPP02</td>\n",
       "      <td>Ag Drain on Rindge Tract, PP. NO. 2</td>\n",
       "      <td>B9V80271282</td>\n",
       "      <td>Surface Water</td>\n",
       "      <td>38.0455</td>\n",
       "      <td>121.4705</td>\n",
       "      <td>Review Status Unknown</td>\n",
       "      <td>San Joaquin</td>\n",
       "      <td>C0788A0510</td>\n",
       "      <td>07/20/1988 09:23</td>\n",
       "      <td>1.0</td>\n",
       "      <td>Meters</td>\n",
       "      <td>Dissolved Boron</td>\n",
       "      <td>0.3</td>\n",
       "      <td>0.1</td>\n",
       "      <td>mg/L</td>\n",
       "      <td>USGS I-2115-85</td>\n",
       "    </tr>\n",
       "    <tr>\n",
       "      <th>3390388</th>\n",
       "      <td>51</td>\n",
       "      <td>RINDGEPP02</td>\n",
       "      <td>Ag Drain on Rindge Tract, PP. NO. 2</td>\n",
       "      <td>B9V80271282</td>\n",
       "      <td>Surface Water</td>\n",
       "      <td>38.0455</td>\n",
       "      <td>121.4705</td>\n",
       "      <td>Review Status Unknown</td>\n",
       "      <td>San Joaquin</td>\n",
       "      <td>C0788A0510</td>\n",
       "      <td>07/20/1988 09:23</td>\n",
       "      <td>1.0</td>\n",
       "      <td>Meters</td>\n",
       "      <td>Dissolved Calcium</td>\n",
       "      <td>62.0</td>\n",
       "      <td>1.0</td>\n",
       "      <td>mg/L</td>\n",
       "      <td>EPA 215.1</td>\n",
       "    </tr>\n",
       "  </tbody>\n",
       "</table>\n",
       "</div>"
      ],
      "text/plain": [
       "         station_id station_name                    full_station_name  \\\n",
       "3390384          51   RINDGEPP02  Ag Drain on Rindge Tract, PP. NO. 2   \n",
       "3390385          51   RINDGEPP02  Ag Drain on Rindge Tract, PP. NO. 2   \n",
       "3390386          51   RINDGEPP02  Ag Drain on Rindge Tract, PP. NO. 2   \n",
       "3390387          51   RINDGEPP02  Ag Drain on Rindge Tract, PP. NO. 2   \n",
       "3390388          51   RINDGEPP02  Ag Drain on Rindge Tract, PP. NO. 2   \n",
       "\n",
       "        station_number   station_type  latitude  longitude  \\\n",
       "3390384    B9V80271282  Surface Water   38.0455   121.4705   \n",
       "3390385    B9V80271282  Surface Water   38.0455   121.4705   \n",
       "3390386    B9V80271282  Surface Water   38.0455   121.4705   \n",
       "3390387    B9V80271282  Surface Water   38.0455   121.4705   \n",
       "3390388    B9V80271282  Surface Water   38.0455   121.4705   \n",
       "\n",
       "                        status  county_name sample_code       sample_date  \\\n",
       "3390384  Review Status Unknown  San Joaquin  C0788A0510  07/20/1988 09:23   \n",
       "3390385  Review Status Unknown  San Joaquin  C0788A0510  07/20/1988 09:23   \n",
       "3390386  Review Status Unknown  San Joaquin  C0788A0510  07/20/1988 09:23   \n",
       "3390387  Review Status Unknown  San Joaquin  C0788A0510  07/20/1988 09:23   \n",
       "3390388  Review Status Unknown  San Joaquin  C0788A0510  07/20/1988 09:23   \n",
       "\n",
       "         sample_depth sample_depth_units             parameter  result  \\\n",
       "3390384           1.0             Meters        Dacthal (DCPA)     0.0   \n",
       "3390385           1.0             Meters              Diazinon     0.0   \n",
       "3390386           1.0             Meters  Dibromochloromethane    24.0   \n",
       "3390387           1.0             Meters       Dissolved Boron     0.3   \n",
       "3390388           1.0             Meters     Dissolved Calcium    62.0   \n",
       "\n",
       "         reporting_limit units           method_name  \n",
       "3390384              0.1  ug/L               EPA 608  \n",
       "3390385              0.5  ug/L               EPA 632  \n",
       "3390386             10.0  ug/L  DWR THMFP (Original)  \n",
       "3390387              0.1  mg/L        USGS I-2115-85  \n",
       "3390388              1.0  mg/L             EPA 215.1  "
      ]
     },
     "execution_count": 32,
     "metadata": {},
     "output_type": "execute_result"
    }
   ],
   "source": [
    "lab_sub4.head()"
   ]
  }
 ],
 "metadata": {
  "kernelspec": {
   "display_name": "Python 3",
   "language": "python",
   "name": "python3"
  },
  "language_info": {
   "codemirror_mode": {
    "name": "ipython",
    "version": 3
   },
   "file_extension": ".py",
   "mimetype": "text/x-python",
   "name": "python",
   "nbconvert_exporter": "python",
   "pygments_lexer": "ipython3",
   "version": "3.10.8 (tags/v3.10.8:aaaf517, Oct 11 2022, 16:50:30) [MSC v.1933 64 bit (AMD64)]"
  },
  "orig_nbformat": 4,
  "vscode": {
   "interpreter": {
    "hash": "7e09721073e436e35d84ed4cdbbeb045311bd476b44317739da864ee086bb1be"
   }
  }
 },
 "nbformat": 4,
 "nbformat_minor": 2
}
