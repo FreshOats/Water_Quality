{
    "metadata": {
        "kernelspec": {
            "name": "SQL",
            "display_name": "SQL",
            "language": "sql"
        },
        "language_info": {
            "name": "sql",
            "version": ""
        }
    },
    "nbformat_minor": 2,
    "nbformat": 4,
    "cells": [
        {
            "cell_type": "markdown",
            "source": [
                "The purpose of this file is to run queries for the Tableau Dashboards\n",
                "\n",
                "  \n",
                "\n",
                "\\- I want to query all contaminants within the past 5 years that individual stations were above state maximums\n",
                "\n",
                "\\- Also want to query the Average for contaminants by county within the past 5 years that were over their state maximums"
            ],
            "metadata": {
                "azdata_cell_guid": "b40cb270-9be1-4ed7-a0ca-11683ae995c0"
            },
            "attachments": {}
        },
        {
            "cell_type": "code",
            "source": [
                "SELECT  contaminant, \r\n",
                "        state_max, \r\n",
                "        Fixed_Result, \r\n",
                "        station_id,\r\n",
                "        county_name, \r\n",
                "        DATEPART(year, sample_date) AS year, \r\n",
                "        CAST(AVG(Fixed_Result) OVER(PARTITION BY county_name) AS DECIMAL(5,2)) AS County_Average\r\n",
                "FROM    regulated_contaminants\r\n",
                "WHERE   Fixed_Result > state_max AND sample_date > '01-01-2018'"
            ],
            "metadata": {
                "azdata_cell_guid": "30ab9290-ca8f-4874-a838-16dfca108e57",
                "language": "sql"
            },
            "outputs": [
                {
                    "output_type": "display_data",
                    "data": {
                        "text/html": "(99 rows affected)"
                    },
                    "metadata": {}
                },
                {
                    "output_type": "display_data",
                    "data": {
                        "text/html": "Total execution time: 00:00:00.030"
                    },
                    "metadata": {}
                },
                {
                    "output_type": "execute_result",
                    "execution_count": 54,
                    "data": {
                        "application/vnd.dataresource+json": {
                            "schema": {
                                "fields": [
                                    {
                                        "name": "contaminant"
                                    },
                                    {
                                        "name": "state_max"
                                    },
                                    {
                                        "name": "Fixed_Result"
                                    },
                                    {
                                        "name": "station_id"
                                    },
                                    {
                                        "name": "county_name"
                                    },
                                    {
                                        "name": "year"
                                    },
                                    {
                                        "name": "County_Average"
                                    }
                                ]
                            },
                            "data": [
                                {
                                    "0": "Dissolved Arsenic",
                                    "1": "10",
                                    "2": "10.7",
                                    "3": "46554",
                                    "4": "Butte",
                                    "5": "2019",
                                    "6": "12.20"
                                },
                                {
                                    "0": "Dissolved Arsenic",
                                    "1": "10",
                                    "2": "10.8",
                                    "3": "47853",
                                    "4": "Butte",
                                    "5": "2019",
                                    "6": "12.20"
                                },
                                {
                                    "0": "Dissolved Arsenic",
                                    "1": "10",
                                    "2": "15.1",
                                    "3": "47853",
                                    "4": "Butte",
                                    "5": "2020",
                                    "6": "12.20"
                                },
                                {
                                    "0": "Dissolved Antimony",
                                    "1": "6",
                                    "2": "33",
                                    "3": "331",
                                    "4": "Kings",
                                    "5": "2020",
                                    "6": "33.00"
                                },
                                {
                                    "0": "Dissolved Arsenic",
                                    "1": "10",
                                    "2": "16.2",
                                    "3": "47905",
                                    "4": "Glenn",
                                    "5": "2022",
                                    "6": "18.37"
                                },
                                {
                                    "0": "Dissolved Antimony",
                                    "1": "6",
                                    "2": "14",
                                    "3": "47905",
                                    "4": "Glenn",
                                    "5": "2021",
                                    "6": "18.37"
                                },
                                {
                                    "0": "Dissolved Antimony",
                                    "1": "6",
                                    "2": "30",
                                    "3": "47906",
                                    "4": "Glenn",
                                    "5": "2021",
                                    "6": "18.37"
                                },
                                {
                                    "0": "Dissolved Antimony",
                                    "1": "6",
                                    "2": "17.5",
                                    "3": "47907",
                                    "4": "Glenn",
                                    "5": "2021",
                                    "6": "18.37"
                                },
                                {
                                    "0": "Dissolved Arsenic",
                                    "1": "10",
                                    "2": "15",
                                    "3": "47907",
                                    "4": "Glenn",
                                    "5": "2021",
                                    "6": "18.37"
                                },
                                {
                                    "0": "Dissolved Antimony",
                                    "1": "6",
                                    "2": "18.4",
                                    "3": "47908",
                                    "4": "Glenn",
                                    "5": "2021",
                                    "6": "18.37"
                                },
                                {
                                    "0": "Dissolved Arsenic",
                                    "1": "10",
                                    "2": "17.5",
                                    "3": "47908",
                                    "4": "Glenn",
                                    "5": "2021",
                                    "6": "18.37"
                                },
                                {
                                    "0": "Dissolved Nitrate + Nitrite",
                                    "1": "10",
                                    "2": "10.9",
                                    "3": "47532",
                                    "4": "Yolo",
                                    "5": "2020",
                                    "6": "11.25"
                                },
                                {
                                    "0": "Dissolved Nitrate + Nitrite",
                                    "1": "10",
                                    "2": "11.6",
                                    "3": "47876",
                                    "4": "Yolo",
                                    "5": "2021",
                                    "6": "11.25"
                                },
                                {
                                    "0": "Dissolved Strontium",
                                    "1": "12",
                                    "2": "60.7",
                                    "3": "45916",
                                    "4": "Sacramento",
                                    "5": "2022",
                                    "6": "80.22"
                                },
                                {
                                    "0": "Dissolved Strontium",
                                    "1": "12",
                                    "2": "72.2",
                                    "3": "45916",
                                    "4": "Sacramento",
                                    "5": "2021",
                                    "6": "80.22"
                                },
                                {
                                    "0": "Dissolved Strontium",
                                    "1": "12",
                                    "2": "103",
                                    "3": "45916",
                                    "4": "Sacramento",
                                    "5": "2021",
                                    "6": "80.22"
                                },
                                {
                                    "0": "Dissolved Strontium",
                                    "1": "12",
                                    "2": "63.9",
                                    "3": "45916",
                                    "4": "Sacramento",
                                    "5": "2022",
                                    "6": "80.22"
                                },
                                {
                                    "0": "Dissolved Strontium",
                                    "1": "12",
                                    "2": "69.5",
                                    "3": "45916",
                                    "4": "Sacramento",
                                    "5": "2022",
                                    "6": "80.22"
                                },
                                {
                                    "0": "Dissolved Strontium",
                                    "1": "12",
                                    "2": "69.7",
                                    "3": "45916",
                                    "4": "Sacramento",
                                    "5": "2022",
                                    "6": "80.22"
                                },
                                {
                                    "0": "Dissolved Strontium",
                                    "1": "12",
                                    "2": "71.4",
                                    "3": "45916",
                                    "4": "Sacramento",
                                    "5": "2021",
                                    "6": "80.22"
                                },
                                {
                                    "0": "Dissolved Strontium",
                                    "1": "12",
                                    "2": "72.5",
                                    "3": "45916",
                                    "4": "Sacramento",
                                    "5": "2021",
                                    "6": "80.22"
                                },
                                {
                                    "0": "Dissolved Strontium",
                                    "1": "12",
                                    "2": "103",
                                    "3": "45916",
                                    "4": "Sacramento",
                                    "5": "2022",
                                    "6": "80.22"
                                },
                                {
                                    "0": "Dissolved Strontium",
                                    "1": "12",
                                    "2": "91.4",
                                    "3": "45916",
                                    "4": "Sacramento",
                                    "5": "2021",
                                    "6": "80.22"
                                },
                                {
                                    "0": "Dissolved Strontium",
                                    "1": "12",
                                    "2": "92.2",
                                    "3": "45916",
                                    "4": "Sacramento",
                                    "5": "2021",
                                    "6": "80.22"
                                },
                                {
                                    "0": "Dissolved Strontium",
                                    "1": "12",
                                    "2": "84.2",
                                    "3": "45916",
                                    "4": "Sacramento",
                                    "5": "2021",
                                    "6": "80.22"
                                },
                                {
                                    "0": "Dissolved Strontium",
                                    "1": "12",
                                    "2": "76.4",
                                    "3": "45916",
                                    "4": "Sacramento",
                                    "5": "2021",
                                    "6": "80.22"
                                },
                                {
                                    "0": "Dissolved Strontium",
                                    "1": "12",
                                    "2": "73.8",
                                    "3": "45916",
                                    "4": "Sacramento",
                                    "5": "2022",
                                    "6": "80.22"
                                },
                                {
                                    "0": "Dissolved Strontium",
                                    "1": "12",
                                    "2": "68.4",
                                    "3": "45916",
                                    "4": "Sacramento",
                                    "5": "2021",
                                    "6": "80.22"
                                },
                                {
                                    "0": "Dissolved Strontium",
                                    "1": "12",
                                    "2": "68.9",
                                    "3": "45916",
                                    "4": "Sacramento",
                                    "5": "2021",
                                    "6": "80.22"
                                },
                                {
                                    "0": "Dissolved Strontium",
                                    "1": "12",
                                    "2": "112",
                                    "3": "45916",
                                    "4": "Sacramento",
                                    "5": "2021",
                                    "6": "80.22"
                                },
                                {
                                    "0": "Dissolved Strontium",
                                    "1": "12",
                                    "2": "70.9",
                                    "3": "45916",
                                    "4": "Sacramento",
                                    "5": "2022",
                                    "6": "80.22"
                                },
                                {
                                    "0": "Dissolved Strontium",
                                    "1": "12",
                                    "2": "71.3",
                                    "3": "45916",
                                    "4": "Sacramento",
                                    "5": "2022",
                                    "6": "80.22"
                                },
                                {
                                    "0": "Dissolved Strontium",
                                    "1": "12",
                                    "2": "109",
                                    "3": "45916",
                                    "4": "Sacramento",
                                    "5": "2021",
                                    "6": "80.22"
                                },
                                {
                                    "0": "Dissolved Nitrate + Nitrite",
                                    "1": "10",
                                    "2": "10.1",
                                    "3": "45770",
                                    "4": "Los Angeles",
                                    "5": "2022",
                                    "6": "6.55"
                                },
                                {
                                    "0": "Dissolved Mercury",
                                    "1": "2",
                                    "2": "3",
                                    "3": "405",
                                    "4": "Los Angeles",
                                    "5": "2018",
                                    "6": "6.55"
                                },
                                {
                                    "0": "Dissolved Strontium",
                                    "1": "12",
                                    "2": "75.5",
                                    "3": "682",
                                    "4": "Tehama",
                                    "5": "2022",
                                    "6": "61.37"
                                },
                                {
                                    "0": "Dissolved Arsenic",
                                    "1": "10",
                                    "2": "33.6",
                                    "3": "682",
                                    "4": "Tehama",
                                    "5": "2021",
                                    "6": "61.37"
                                },
                                {
                                    "0": "Dissolved Strontium",
                                    "1": "12",
                                    "2": "83.9",
                                    "3": "682",
                                    "4": "Tehama",
                                    "5": "2021",
                                    "6": "61.37"
                                },
                                {
                                    "0": "Dissolved Arsenic",
                                    "1": "10",
                                    "2": "49.3",
                                    "3": "1244",
                                    "4": "Tehama",
                                    "5": "2020",
                                    "6": "61.37"
                                },
                                {
                                    "0": "Dissolved Arsenic",
                                    "1": "10",
                                    "2": "34.6",
                                    "3": "1244",
                                    "4": "Tehama",
                                    "5": "2021",
                                    "6": "61.37"
                                },
                                {
                                    "0": "Dissolved Arsenic",
                                    "1": "10",
                                    "2": "53.9",
                                    "3": "666",
                                    "4": "Tehama",
                                    "5": "2021",
                                    "6": "61.37"
                                },
                                {
                                    "0": "Dissolved Strontium",
                                    "1": "12",
                                    "2": "112",
                                    "3": "666",
                                    "4": "Tehama",
                                    "5": "2021",
                                    "6": "61.37"
                                },
                                {
                                    "0": "Dissolved Arsenic",
                                    "1": "10",
                                    "2": "53.9",
                                    "3": "666",
                                    "4": "Tehama",
                                    "5": "2021",
                                    "6": "61.37"
                                },
                                {
                                    "0": "Dissolved Strontium",
                                    "1": "12",
                                    "2": "115",
                                    "3": "666",
                                    "4": "Tehama",
                                    "5": "2021",
                                    "6": "61.37"
                                },
                                {
                                    "0": "Dissolved Arsenic",
                                    "1": "10",
                                    "2": "44",
                                    "3": "666",
                                    "4": "Tehama",
                                    "5": "2020",
                                    "6": "61.37"
                                },
                                {
                                    "0": "Dissolved Strontium",
                                    "1": "12",
                                    "2": "107",
                                    "3": "666",
                                    "4": "Tehama",
                                    "5": "2020",
                                    "6": "61.37"
                                },
                                {
                                    "0": "Dissolved Arsenic",
                                    "1": "10",
                                    "2": "43.4",
                                    "3": "666",
                                    "4": "Tehama",
                                    "5": "2022",
                                    "6": "61.37"
                                },
                                {
                                    "0": "Dissolved Strontium",
                                    "1": "12",
                                    "2": "100",
                                    "3": "666",
                                    "4": "Tehama",
                                    "5": "2022",
                                    "6": "61.37"
                                },
                                {
                                    "0": "Dissolved Arsenic",
                                    "1": "10",
                                    "2": "53.1",
                                    "3": "666",
                                    "4": "Tehama",
                                    "5": "2021",
                                    "6": "61.37"
                                },
                                {
                                    "0": "Dissolved Arsenic",
                                    "1": "10",
                                    "2": "37.6",
                                    "3": "682",
                                    "4": "Tehama",
                                    "5": "2021",
                                    "6": "61.37"
                                },
                                {
                                    "0": "Dissolved Strontium",
                                    "1": "12",
                                    "2": "87.6",
                                    "3": "682",
                                    "4": "Tehama",
                                    "5": "2021",
                                    "6": "61.37"
                                },
                                {
                                    "0": "Dissolved Arsenic",
                                    "1": "10",
                                    "2": "32.9",
                                    "3": "682",
                                    "4": "Tehama",
                                    "5": "2021",
                                    "6": "61.37"
                                },
                                {
                                    "0": "Dissolved Strontium",
                                    "1": "12",
                                    "2": "85.1",
                                    "3": "682",
                                    "4": "Tehama",
                                    "5": "2021",
                                    "6": "61.37"
                                },
                                {
                                    "0": "Dissolved Arsenic",
                                    "1": "10",
                                    "2": "33.2",
                                    "3": "682",
                                    "4": "Tehama",
                                    "5": "2020",
                                    "6": "61.37"
                                },
                                {
                                    "0": "Dissolved Strontium",
                                    "1": "12",
                                    "2": "86",
                                    "3": "682",
                                    "4": "Tehama",
                                    "5": "2020",
                                    "6": "61.37"
                                },
                                {
                                    "0": "Dissolved Arsenic",
                                    "1": "10",
                                    "2": "29.8",
                                    "3": "682",
                                    "4": "Tehama",
                                    "5": "2022",
                                    "6": "61.37"
                                },
                                {
                                    "0": "Dissolved Arsenic",
                                    "1": "10",
                                    "2": "126",
                                    "3": "1806",
                                    "4": "Tehama",
                                    "5": "2022",
                                    "6": "61.37"
                                },
                                {
                                    "0": "Dissolved Arsenic",
                                    "1": "10",
                                    "2": "98.7",
                                    "3": "1806",
                                    "4": "Tehama",
                                    "5": "2018",
                                    "6": "61.37"
                                },
                                {
                                    "0": "Dissolved Arsenic",
                                    "1": "10",
                                    "2": "133",
                                    "3": "1806",
                                    "4": "Tehama",
                                    "5": "2020",
                                    "6": "61.37"
                                },
                                {
                                    "0": "Dissolved Arsenic",
                                    "1": "10",
                                    "2": "191",
                                    "3": "1806",
                                    "4": "Tehama",
                                    "5": "2020",
                                    "6": "61.37"
                                },
                                {
                                    "0": "Dissolved Arsenic",
                                    "1": "10",
                                    "2": "98.3",
                                    "3": "1806",
                                    "4": "Tehama",
                                    "5": "2021",
                                    "6": "61.37"
                                },
                                {
                                    "0": "Dissolved Arsenic",
                                    "1": "10",
                                    "2": "210",
                                    "3": "1806",
                                    "4": "Tehama",
                                    "5": "2020",
                                    "6": "61.37"
                                },
                                {
                                    "0": "Dissolved Antimony",
                                    "1": "6",
                                    "2": "6.5",
                                    "3": "47903",
                                    "4": "Tehama",
                                    "5": "2021",
                                    "6": "61.37"
                                },
                                {
                                    "0": "Dissolved Antimony",
                                    "1": "6",
                                    "2": "26.5",
                                    "3": "47904",
                                    "4": "Tehama",
                                    "5": "2021",
                                    "6": "61.37"
                                },
                                {
                                    "0": "Dissolved Strontium",
                                    "1": "12",
                                    "2": "34.9",
                                    "3": "762",
                                    "4": "Tehama",
                                    "5": "2021",
                                    "6": "61.37"
                                },
                                {
                                    "0": "Dissolved Strontium",
                                    "1": "12",
                                    "2": "39.2",
                                    "3": "762",
                                    "4": "Tehama",
                                    "5": "2021",
                                    "6": "61.37"
                                },
                                {
                                    "0": "Dissolved Strontium",
                                    "1": "12",
                                    "2": "39.6",
                                    "3": "762",
                                    "4": "Tehama",
                                    "5": "2021",
                                    "6": "61.37"
                                },
                                {
                                    "0": "Dissolved Strontium",
                                    "1": "12",
                                    "2": "25",
                                    "3": "762",
                                    "4": "Tehama",
                                    "5": "2020",
                                    "6": "61.37"
                                },
                                {
                                    "0": "Dissolved Strontium",
                                    "1": "12",
                                    "2": "32.2",
                                    "3": "762",
                                    "4": "Tehama",
                                    "5": "2022",
                                    "6": "61.37"
                                },
                                {
                                    "0": "Dissolved Strontium",
                                    "1": "12",
                                    "2": "32.6",
                                    "3": "762",
                                    "4": "Tehama",
                                    "5": "2022",
                                    "6": "61.37"
                                },
                                {
                                    "0": "Dissolved Strontium",
                                    "1": "12",
                                    "2": "45.2",
                                    "3": "762",
                                    "4": "Tehama",
                                    "5": "2021",
                                    "6": "61.37"
                                },
                                {
                                    "0": "Dissolved Arsenic",
                                    "1": "10",
                                    "2": "36.1",
                                    "3": "1244",
                                    "4": "Tehama",
                                    "5": "2022",
                                    "6": "61.37"
                                },
                                {
                                    "0": "Dissolved Arsenic",
                                    "1": "10",
                                    "2": "29.1",
                                    "3": "1244",
                                    "4": "Tehama",
                                    "5": "2018",
                                    "6": "61.37"
                                },
                                {
                                    "0": "Dissolved Arsenic",
                                    "1": "10",
                                    "2": "33",
                                    "3": "1244",
                                    "4": "Tehama",
                                    "5": "2020",
                                    "6": "61.37"
                                },
                                {
                                    "0": "Dissolved Arsenic",
                                    "1": "10",
                                    "2": "37",
                                    "3": "1244",
                                    "4": "Tehama",
                                    "5": "2020",
                                    "6": "61.37"
                                },
                                {
                                    "0": "Dissolved Arsenic",
                                    "1": "10",
                                    "2": "33",
                                    "3": "1251",
                                    "4": "Tehama",
                                    "5": "2020",
                                    "6": "61.37"
                                },
                                {
                                    "0": "Dissolved Arsenic",
                                    "1": "10",
                                    "2": "14.9",
                                    "3": "1251",
                                    "4": "Tehama",
                                    "5": "2020",
                                    "6": "61.37"
                                },
                                {
                                    "0": "Dissolved Arsenic",
                                    "1": "10",
                                    "2": "15.2",
                                    "3": "1251",
                                    "4": "Tehama",
                                    "5": "2020",
                                    "6": "61.37"
                                },
                                {
                                    "0": "Dissolved Arsenic",
                                    "1": "10",
                                    "2": "12",
                                    "3": "46900",
                                    "4": "Tehama",
                                    "5": "2019",
                                    "6": "61.37"
                                },
                                {
                                    "0": "Dissolved Strontium",
                                    "1": "12",
                                    "2": "357",
                                    "3": "45914",
                                    "4": "San Joaquin",
                                    "5": "2021",
                                    "6": "208.88"
                                },
                                {
                                    "0": "Dissolved Strontium",
                                    "1": "12",
                                    "2": "359",
                                    "3": "45914",
                                    "4": "San Joaquin",
                                    "5": "2021",
                                    "6": "208.88"
                                },
                                {
                                    "0": "Dissolved Strontium",
                                    "1": "12",
                                    "2": "177",
                                    "3": "45914",
                                    "4": "San Joaquin",
                                    "5": "2022",
                                    "6": "208.88"
                                },
                                {
                                    "0": "Dissolved Strontium",
                                    "1": "12",
                                    "2": "424",
                                    "3": "45914",
                                    "4": "San Joaquin",
                                    "5": "2021",
                                    "6": "208.88"
                                },
                                {
                                    "0": "Dissolved Strontium",
                                    "1": "12",
                                    "2": "425",
                                    "3": "45914",
                                    "4": "San Joaquin",
                                    "5": "2021",
                                    "6": "208.88"
                                },
                                {
                                    "0": "Dissolved Strontium",
                                    "1": "12",
                                    "2": "247",
                                    "3": "45914",
                                    "4": "San Joaquin",
                                    "5": "2021",
                                    "6": "208.88"
                                },
                                {
                                    "0": "Dissolved Strontium",
                                    "1": "12",
                                    "2": "249",
                                    "3": "45914",
                                    "4": "San Joaquin",
                                    "5": "2021",
                                    "6": "208.88"
                                },
                                {
                                    "0": "Dissolved Strontium",
                                    "1": "12",
                                    "2": "128",
                                    "3": "45914",
                                    "4": "San Joaquin",
                                    "5": "2021",
                                    "6": "208.88"
                                },
                                {
                                    "0": "Dissolved Strontium",
                                    "1": "12",
                                    "2": "96.3",
                                    "3": "45914",
                                    "4": "San Joaquin",
                                    "5": "2022",
                                    "6": "208.88"
                                },
                                {
                                    "0": "Dissolved Strontium",
                                    "1": "12",
                                    "2": "97.2",
                                    "3": "45914",
                                    "4": "San Joaquin",
                                    "5": "2022",
                                    "6": "208.88"
                                },
                                {
                                    "0": "Dissolved Strontium",
                                    "1": "12",
                                    "2": "76.3",
                                    "3": "45914",
                                    "4": "San Joaquin",
                                    "5": "2021",
                                    "6": "208.88"
                                },
                                {
                                    "0": "Dissolved Strontium",
                                    "1": "12",
                                    "2": "143",
                                    "3": "45914",
                                    "4": "San Joaquin",
                                    "5": "2022",
                                    "6": "208.88"
                                },
                                {
                                    "0": "Dissolved Strontium",
                                    "1": "12",
                                    "2": "191",
                                    "3": "45914",
                                    "4": "San Joaquin",
                                    "5": "2022",
                                    "6": "208.88"
                                },
                                {
                                    "0": "Dissolved Strontium",
                                    "1": "12",
                                    "2": "76.7",
                                    "3": "45914",
                                    "4": "San Joaquin",
                                    "5": "2021",
                                    "6": "208.88"
                                },
                                {
                                    "0": "Dissolved Strontium",
                                    "1": "12",
                                    "2": "177",
                                    "3": "45914",
                                    "4": "San Joaquin",
                                    "5": "2021",
                                    "6": "208.88"
                                },
                                {
                                    "0": "Dissolved Strontium",
                                    "1": "12",
                                    "2": "184",
                                    "3": "45914",
                                    "4": "San Joaquin",
                                    "5": "2021",
                                    "6": "208.88"
                                },
                                {
                                    "0": "Dissolved Strontium",
                                    "1": "12",
                                    "2": "126",
                                    "3": "45914",
                                    "4": "San Joaquin",
                                    "5": "2022",
                                    "6": "208.88"
                                },
                                {
                                    "0": "Dissolved Strontium",
                                    "1": "12",
                                    "2": "254",
                                    "3": "45914",
                                    "4": "San Joaquin",
                                    "5": "2022",
                                    "6": "208.88"
                                },
                                {
                                    "0": "Dissolved Strontium",
                                    "1": "12",
                                    "2": "212",
                                    "3": "45914",
                                    "4": "San Joaquin",
                                    "5": "2021",
                                    "6": "208.88"
                                },
                                {
                                    "0": "Dissolved Strontium",
                                    "1": "12",
                                    "2": "178",
                                    "3": "45914",
                                    "4": "San Joaquin",
                                    "5": "2021",
                                    "6": "208.88"
                                }
                            ]
                        },
                        "text/html": "<table><tr><th>contaminant</th><th>state_max</th><th>Fixed_Result</th><th>station_id</th><th>county_name</th><th>year</th><th>County_Average</th></tr><tr><td>Dissolved Arsenic</td><td>10</td><td>10.7</td><td>46554</td><td>Butte</td><td>2019</td><td>12.20</td></tr><tr><td>Dissolved Arsenic</td><td>10</td><td>10.8</td><td>47853</td><td>Butte</td><td>2019</td><td>12.20</td></tr><tr><td>Dissolved Arsenic</td><td>10</td><td>15.1</td><td>47853</td><td>Butte</td><td>2020</td><td>12.20</td></tr><tr><td>Dissolved Antimony</td><td>6</td><td>33</td><td>331</td><td>Kings</td><td>2020</td><td>33.00</td></tr><tr><td>Dissolved Arsenic</td><td>10</td><td>16.2</td><td>47905</td><td>Glenn</td><td>2022</td><td>18.37</td></tr><tr><td>Dissolved Antimony</td><td>6</td><td>14</td><td>47905</td><td>Glenn</td><td>2021</td><td>18.37</td></tr><tr><td>Dissolved Antimony</td><td>6</td><td>30</td><td>47906</td><td>Glenn</td><td>2021</td><td>18.37</td></tr><tr><td>Dissolved Antimony</td><td>6</td><td>17.5</td><td>47907</td><td>Glenn</td><td>2021</td><td>18.37</td></tr><tr><td>Dissolved Arsenic</td><td>10</td><td>15</td><td>47907</td><td>Glenn</td><td>2021</td><td>18.37</td></tr><tr><td>Dissolved Antimony</td><td>6</td><td>18.4</td><td>47908</td><td>Glenn</td><td>2021</td><td>18.37</td></tr><tr><td>Dissolved Arsenic</td><td>10</td><td>17.5</td><td>47908</td><td>Glenn</td><td>2021</td><td>18.37</td></tr><tr><td>Dissolved Nitrate + Nitrite</td><td>10</td><td>10.9</td><td>47532</td><td>Yolo</td><td>2020</td><td>11.25</td></tr><tr><td>Dissolved Nitrate + Nitrite</td><td>10</td><td>11.6</td><td>47876</td><td>Yolo</td><td>2021</td><td>11.25</td></tr><tr><td>Dissolved Strontium</td><td>12</td><td>60.7</td><td>45916</td><td>Sacramento</td><td>2022</td><td>80.22</td></tr><tr><td>Dissolved Strontium</td><td>12</td><td>72.2</td><td>45916</td><td>Sacramento</td><td>2021</td><td>80.22</td></tr><tr><td>Dissolved Strontium</td><td>12</td><td>103</td><td>45916</td><td>Sacramento</td><td>2021</td><td>80.22</td></tr><tr><td>Dissolved Strontium</td><td>12</td><td>63.9</td><td>45916</td><td>Sacramento</td><td>2022</td><td>80.22</td></tr><tr><td>Dissolved Strontium</td><td>12</td><td>69.5</td><td>45916</td><td>Sacramento</td><td>2022</td><td>80.22</td></tr><tr><td>Dissolved Strontium</td><td>12</td><td>69.7</td><td>45916</td><td>Sacramento</td><td>2022</td><td>80.22</td></tr><tr><td>Dissolved Strontium</td><td>12</td><td>71.4</td><td>45916</td><td>Sacramento</td><td>2021</td><td>80.22</td></tr><tr><td>Dissolved Strontium</td><td>12</td><td>72.5</td><td>45916</td><td>Sacramento</td><td>2021</td><td>80.22</td></tr><tr><td>Dissolved Strontium</td><td>12</td><td>103</td><td>45916</td><td>Sacramento</td><td>2022</td><td>80.22</td></tr><tr><td>Dissolved Strontium</td><td>12</td><td>91.4</td><td>45916</td><td>Sacramento</td><td>2021</td><td>80.22</td></tr><tr><td>Dissolved Strontium</td><td>12</td><td>92.2</td><td>45916</td><td>Sacramento</td><td>2021</td><td>80.22</td></tr><tr><td>Dissolved Strontium</td><td>12</td><td>84.2</td><td>45916</td><td>Sacramento</td><td>2021</td><td>80.22</td></tr><tr><td>Dissolved Strontium</td><td>12</td><td>76.4</td><td>45916</td><td>Sacramento</td><td>2021</td><td>80.22</td></tr><tr><td>Dissolved Strontium</td><td>12</td><td>73.8</td><td>45916</td><td>Sacramento</td><td>2022</td><td>80.22</td></tr><tr><td>Dissolved Strontium</td><td>12</td><td>68.4</td><td>45916</td><td>Sacramento</td><td>2021</td><td>80.22</td></tr><tr><td>Dissolved Strontium</td><td>12</td><td>68.9</td><td>45916</td><td>Sacramento</td><td>2021</td><td>80.22</td></tr><tr><td>Dissolved Strontium</td><td>12</td><td>112</td><td>45916</td><td>Sacramento</td><td>2021</td><td>80.22</td></tr><tr><td>Dissolved Strontium</td><td>12</td><td>70.9</td><td>45916</td><td>Sacramento</td><td>2022</td><td>80.22</td></tr><tr><td>Dissolved Strontium</td><td>12</td><td>71.3</td><td>45916</td><td>Sacramento</td><td>2022</td><td>80.22</td></tr><tr><td>Dissolved Strontium</td><td>12</td><td>109</td><td>45916</td><td>Sacramento</td><td>2021</td><td>80.22</td></tr><tr><td>Dissolved Nitrate + Nitrite</td><td>10</td><td>10.1</td><td>45770</td><td>Los Angeles</td><td>2022</td><td>6.55</td></tr><tr><td>Dissolved Mercury</td><td>2</td><td>3</td><td>405</td><td>Los Angeles</td><td>2018</td><td>6.55</td></tr><tr><td>Dissolved Strontium</td><td>12</td><td>75.5</td><td>682</td><td>Tehama</td><td>2022</td><td>61.37</td></tr><tr><td>Dissolved Arsenic</td><td>10</td><td>33.6</td><td>682</td><td>Tehama</td><td>2021</td><td>61.37</td></tr><tr><td>Dissolved Strontium</td><td>12</td><td>83.9</td><td>682</td><td>Tehama</td><td>2021</td><td>61.37</td></tr><tr><td>Dissolved Arsenic</td><td>10</td><td>49.3</td><td>1244</td><td>Tehama</td><td>2020</td><td>61.37</td></tr><tr><td>Dissolved Arsenic</td><td>10</td><td>34.6</td><td>1244</td><td>Tehama</td><td>2021</td><td>61.37</td></tr><tr><td>Dissolved Arsenic</td><td>10</td><td>53.9</td><td>666</td><td>Tehama</td><td>2021</td><td>61.37</td></tr><tr><td>Dissolved Strontium</td><td>12</td><td>112</td><td>666</td><td>Tehama</td><td>2021</td><td>61.37</td></tr><tr><td>Dissolved Arsenic</td><td>10</td><td>53.9</td><td>666</td><td>Tehama</td><td>2021</td><td>61.37</td></tr><tr><td>Dissolved Strontium</td><td>12</td><td>115</td><td>666</td><td>Tehama</td><td>2021</td><td>61.37</td></tr><tr><td>Dissolved Arsenic</td><td>10</td><td>44</td><td>666</td><td>Tehama</td><td>2020</td><td>61.37</td></tr><tr><td>Dissolved Strontium</td><td>12</td><td>107</td><td>666</td><td>Tehama</td><td>2020</td><td>61.37</td></tr><tr><td>Dissolved Arsenic</td><td>10</td><td>43.4</td><td>666</td><td>Tehama</td><td>2022</td><td>61.37</td></tr><tr><td>Dissolved Strontium</td><td>12</td><td>100</td><td>666</td><td>Tehama</td><td>2022</td><td>61.37</td></tr><tr><td>Dissolved Arsenic</td><td>10</td><td>53.1</td><td>666</td><td>Tehama</td><td>2021</td><td>61.37</td></tr><tr><td>Dissolved Arsenic</td><td>10</td><td>37.6</td><td>682</td><td>Tehama</td><td>2021</td><td>61.37</td></tr><tr><td>Dissolved Strontium</td><td>12</td><td>87.6</td><td>682</td><td>Tehama</td><td>2021</td><td>61.37</td></tr><tr><td>Dissolved Arsenic</td><td>10</td><td>32.9</td><td>682</td><td>Tehama</td><td>2021</td><td>61.37</td></tr><tr><td>Dissolved Strontium</td><td>12</td><td>85.1</td><td>682</td><td>Tehama</td><td>2021</td><td>61.37</td></tr><tr><td>Dissolved Arsenic</td><td>10</td><td>33.2</td><td>682</td><td>Tehama</td><td>2020</td><td>61.37</td></tr><tr><td>Dissolved Strontium</td><td>12</td><td>86</td><td>682</td><td>Tehama</td><td>2020</td><td>61.37</td></tr><tr><td>Dissolved Arsenic</td><td>10</td><td>29.8</td><td>682</td><td>Tehama</td><td>2022</td><td>61.37</td></tr><tr><td>Dissolved Arsenic</td><td>10</td><td>126</td><td>1806</td><td>Tehama</td><td>2022</td><td>61.37</td></tr><tr><td>Dissolved Arsenic</td><td>10</td><td>98.7</td><td>1806</td><td>Tehama</td><td>2018</td><td>61.37</td></tr><tr><td>Dissolved Arsenic</td><td>10</td><td>133</td><td>1806</td><td>Tehama</td><td>2020</td><td>61.37</td></tr><tr><td>Dissolved Arsenic</td><td>10</td><td>191</td><td>1806</td><td>Tehama</td><td>2020</td><td>61.37</td></tr><tr><td>Dissolved Arsenic</td><td>10</td><td>98.3</td><td>1806</td><td>Tehama</td><td>2021</td><td>61.37</td></tr><tr><td>Dissolved Arsenic</td><td>10</td><td>210</td><td>1806</td><td>Tehama</td><td>2020</td><td>61.37</td></tr><tr><td>Dissolved Antimony</td><td>6</td><td>6.5</td><td>47903</td><td>Tehama</td><td>2021</td><td>61.37</td></tr><tr><td>Dissolved Antimony</td><td>6</td><td>26.5</td><td>47904</td><td>Tehama</td><td>2021</td><td>61.37</td></tr><tr><td>Dissolved Strontium</td><td>12</td><td>34.9</td><td>762</td><td>Tehama</td><td>2021</td><td>61.37</td></tr><tr><td>Dissolved Strontium</td><td>12</td><td>39.2</td><td>762</td><td>Tehama</td><td>2021</td><td>61.37</td></tr><tr><td>Dissolved Strontium</td><td>12</td><td>39.6</td><td>762</td><td>Tehama</td><td>2021</td><td>61.37</td></tr><tr><td>Dissolved Strontium</td><td>12</td><td>25</td><td>762</td><td>Tehama</td><td>2020</td><td>61.37</td></tr><tr><td>Dissolved Strontium</td><td>12</td><td>32.2</td><td>762</td><td>Tehama</td><td>2022</td><td>61.37</td></tr><tr><td>Dissolved Strontium</td><td>12</td><td>32.6</td><td>762</td><td>Tehama</td><td>2022</td><td>61.37</td></tr><tr><td>Dissolved Strontium</td><td>12</td><td>45.2</td><td>762</td><td>Tehama</td><td>2021</td><td>61.37</td></tr><tr><td>Dissolved Arsenic</td><td>10</td><td>36.1</td><td>1244</td><td>Tehama</td><td>2022</td><td>61.37</td></tr><tr><td>Dissolved Arsenic</td><td>10</td><td>29.1</td><td>1244</td><td>Tehama</td><td>2018</td><td>61.37</td></tr><tr><td>Dissolved Arsenic</td><td>10</td><td>33</td><td>1244</td><td>Tehama</td><td>2020</td><td>61.37</td></tr><tr><td>Dissolved Arsenic</td><td>10</td><td>37</td><td>1244</td><td>Tehama</td><td>2020</td><td>61.37</td></tr><tr><td>Dissolved Arsenic</td><td>10</td><td>33</td><td>1251</td><td>Tehama</td><td>2020</td><td>61.37</td></tr><tr><td>Dissolved Arsenic</td><td>10</td><td>14.9</td><td>1251</td><td>Tehama</td><td>2020</td><td>61.37</td></tr><tr><td>Dissolved Arsenic</td><td>10</td><td>15.2</td><td>1251</td><td>Tehama</td><td>2020</td><td>61.37</td></tr><tr><td>Dissolved Arsenic</td><td>10</td><td>12</td><td>46900</td><td>Tehama</td><td>2019</td><td>61.37</td></tr><tr><td>Dissolved Strontium</td><td>12</td><td>357</td><td>45914</td><td>San Joaquin</td><td>2021</td><td>208.88</td></tr><tr><td>Dissolved Strontium</td><td>12</td><td>359</td><td>45914</td><td>San Joaquin</td><td>2021</td><td>208.88</td></tr><tr><td>Dissolved Strontium</td><td>12</td><td>177</td><td>45914</td><td>San Joaquin</td><td>2022</td><td>208.88</td></tr><tr><td>Dissolved Strontium</td><td>12</td><td>424</td><td>45914</td><td>San Joaquin</td><td>2021</td><td>208.88</td></tr><tr><td>Dissolved Strontium</td><td>12</td><td>425</td><td>45914</td><td>San Joaquin</td><td>2021</td><td>208.88</td></tr><tr><td>Dissolved Strontium</td><td>12</td><td>247</td><td>45914</td><td>San Joaquin</td><td>2021</td><td>208.88</td></tr><tr><td>Dissolved Strontium</td><td>12</td><td>249</td><td>45914</td><td>San Joaquin</td><td>2021</td><td>208.88</td></tr><tr><td>Dissolved Strontium</td><td>12</td><td>128</td><td>45914</td><td>San Joaquin</td><td>2021</td><td>208.88</td></tr><tr><td>Dissolved Strontium</td><td>12</td><td>96.3</td><td>45914</td><td>San Joaquin</td><td>2022</td><td>208.88</td></tr><tr><td>Dissolved Strontium</td><td>12</td><td>97.2</td><td>45914</td><td>San Joaquin</td><td>2022</td><td>208.88</td></tr><tr><td>Dissolved Strontium</td><td>12</td><td>76.3</td><td>45914</td><td>San Joaquin</td><td>2021</td><td>208.88</td></tr><tr><td>Dissolved Strontium</td><td>12</td><td>143</td><td>45914</td><td>San Joaquin</td><td>2022</td><td>208.88</td></tr><tr><td>Dissolved Strontium</td><td>12</td><td>191</td><td>45914</td><td>San Joaquin</td><td>2022</td><td>208.88</td></tr><tr><td>Dissolved Strontium</td><td>12</td><td>76.7</td><td>45914</td><td>San Joaquin</td><td>2021</td><td>208.88</td></tr><tr><td>Dissolved Strontium</td><td>12</td><td>177</td><td>45914</td><td>San Joaquin</td><td>2021</td><td>208.88</td></tr><tr><td>Dissolved Strontium</td><td>12</td><td>184</td><td>45914</td><td>San Joaquin</td><td>2021</td><td>208.88</td></tr><tr><td>Dissolved Strontium</td><td>12</td><td>126</td><td>45914</td><td>San Joaquin</td><td>2022</td><td>208.88</td></tr><tr><td>Dissolved Strontium</td><td>12</td><td>254</td><td>45914</td><td>San Joaquin</td><td>2022</td><td>208.88</td></tr><tr><td>Dissolved Strontium</td><td>12</td><td>212</td><td>45914</td><td>San Joaquin</td><td>2021</td><td>208.88</td></tr><tr><td>Dissolved Strontium</td><td>12</td><td>178</td><td>45914</td><td>San Joaquin</td><td>2021</td><td>208.88</td></tr></table>"
                    },
                    "metadata": {}
                }
            ],
            "execution_count": 54
        },
        {
            "cell_type": "markdown",
            "source": [
                "The above query was done with a window function and below done with a common table expression. \n",
                "\n",
                "I'm using the table expression here becuase the original question I'm looking to answer is for all of the stations, but the second, I'm only interested in the county averages, but I want to use the average as a condition in the WHERE clause, which I can't do using the window function."
            ],
            "metadata": {
                "language": "sql",
                "azdata_cell_guid": "206ba209-7fa3-475f-b6b3-fb8b914c040f"
            },
            "attachments": {}
        },
        {
            "cell_type": "code",
            "source": [
                "WITH County_Average AS (  \r\n",
                "SELECT  contaminant,  \r\n",
                "        CAST(AVG(Fixed_Result) AS DECIMAL(5,2)) AS Average_Result, \r\n",
                "        county_name\r\n",
                "FROM    regulated_contaminants\r\n",
                "WHERE   Fixed_Result > state_max AND sample_date > '01-01-2018'\r\n",
                "GROUP BY contaminant, county_name\r\n",
                ")\r\n",
                "SELECT  r.contaminant, \r\n",
                "        r.state_max, \r\n",
                "        c.Average_Result, \r\n",
                "        r.station_id,\r\n",
                "        r.county_name, \r\n",
                "        DATEPART(year, r.sample_date) AS year\r\n",
                "FROM    regulated_contaminants r\r\n",
                "    LEFT JOIN \r\n",
                "        County_Average c \r\n",
                "    ON c.contaminant = r.contaminant AND c.county_name = r.county_name\r\n",
                "WHERE   Fixed_Result > state_max AND sample_date > '01-01-2018' "
            ],
            "metadata": {
                "azdata_cell_guid": "eef9d4d8-0a0a-4c5f-beda-aa7f01e66d99",
                "language": "sql"
            },
            "outputs": [
                {
                    "output_type": "display_data",
                    "data": {
                        "text/html": "(99 rows affected)"
                    },
                    "metadata": {}
                },
                {
                    "output_type": "display_data",
                    "data": {
                        "text/html": "Total execution time: 00:00:00.040"
                    },
                    "metadata": {}
                },
                {
                    "output_type": "execute_result",
                    "execution_count": 55,
                    "data": {
                        "application/vnd.dataresource+json": {
                            "schema": {
                                "fields": [
                                    {
                                        "name": "contaminant"
                                    },
                                    {
                                        "name": "state_max"
                                    },
                                    {
                                        "name": "Average_Result"
                                    },
                                    {
                                        "name": "station_id"
                                    },
                                    {
                                        "name": "county_name"
                                    },
                                    {
                                        "name": "year"
                                    }
                                ]
                            },
                            "data": [
                                {
                                    "0": "Dissolved Antimony",
                                    "1": "6",
                                    "2": "16.50",
                                    "3": "47903",
                                    "4": "Tehama",
                                    "5": "2021"
                                },
                                {
                                    "0": "Dissolved Antimony",
                                    "1": "6",
                                    "2": "16.50",
                                    "3": "47904",
                                    "4": "Tehama",
                                    "5": "2021"
                                },
                                {
                                    "0": "Dissolved Arsenic",
                                    "1": "10",
                                    "2": "12.20",
                                    "3": "46554",
                                    "4": "Butte",
                                    "5": "2019"
                                },
                                {
                                    "0": "Dissolved Arsenic",
                                    "1": "10",
                                    "2": "12.20",
                                    "3": "47853",
                                    "4": "Butte",
                                    "5": "2019"
                                },
                                {
                                    "0": "Dissolved Arsenic",
                                    "1": "10",
                                    "2": "12.20",
                                    "3": "47853",
                                    "4": "Butte",
                                    "5": "2020"
                                },
                                {
                                    "0": "Dissolved Nitrate + Nitrite",
                                    "1": "10",
                                    "2": "10.10",
                                    "3": "45770",
                                    "4": "Los Angeles",
                                    "5": "2022"
                                },
                                {
                                    "0": "Dissolved Antimony",
                                    "1": "6",
                                    "2": "33.00",
                                    "3": "331",
                                    "4": "Kings",
                                    "5": "2020"
                                },
                                {
                                    "0": "Dissolved Arsenic",
                                    "1": "10",
                                    "2": "16.23",
                                    "3": "47905",
                                    "4": "Glenn",
                                    "5": "2022"
                                },
                                {
                                    "0": "Dissolved Arsenic",
                                    "1": "10",
                                    "2": "16.23",
                                    "3": "47907",
                                    "4": "Glenn",
                                    "5": "2021"
                                },
                                {
                                    "0": "Dissolved Arsenic",
                                    "1": "10",
                                    "2": "16.23",
                                    "3": "47908",
                                    "4": "Glenn",
                                    "5": "2021"
                                },
                                {
                                    "0": "Dissolved Arsenic",
                                    "1": "10",
                                    "2": "60.25",
                                    "3": "1244",
                                    "4": "Tehama",
                                    "5": "2022"
                                },
                                {
                                    "0": "Dissolved Arsenic",
                                    "1": "10",
                                    "2": "60.25",
                                    "3": "1244",
                                    "4": "Tehama",
                                    "5": "2018"
                                },
                                {
                                    "0": "Dissolved Arsenic",
                                    "1": "10",
                                    "2": "60.25",
                                    "3": "1244",
                                    "4": "Tehama",
                                    "5": "2020"
                                },
                                {
                                    "0": "Dissolved Arsenic",
                                    "1": "10",
                                    "2": "60.25",
                                    "3": "1244",
                                    "4": "Tehama",
                                    "5": "2020"
                                },
                                {
                                    "0": "Dissolved Arsenic",
                                    "1": "10",
                                    "2": "60.25",
                                    "3": "1244",
                                    "4": "Tehama",
                                    "5": "2020"
                                },
                                {
                                    "0": "Dissolved Arsenic",
                                    "1": "10",
                                    "2": "60.25",
                                    "3": "1244",
                                    "4": "Tehama",
                                    "5": "2021"
                                },
                                {
                                    "0": "Dissolved Arsenic",
                                    "1": "10",
                                    "2": "60.25",
                                    "3": "666",
                                    "4": "Tehama",
                                    "5": "2021"
                                },
                                {
                                    "0": "Dissolved Arsenic",
                                    "1": "10",
                                    "2": "60.25",
                                    "3": "666",
                                    "4": "Tehama",
                                    "5": "2021"
                                },
                                {
                                    "0": "Dissolved Arsenic",
                                    "1": "10",
                                    "2": "60.25",
                                    "3": "666",
                                    "4": "Tehama",
                                    "5": "2020"
                                },
                                {
                                    "0": "Dissolved Arsenic",
                                    "1": "10",
                                    "2": "60.25",
                                    "3": "666",
                                    "4": "Tehama",
                                    "5": "2022"
                                },
                                {
                                    "0": "Dissolved Arsenic",
                                    "1": "10",
                                    "2": "60.25",
                                    "3": "666",
                                    "4": "Tehama",
                                    "5": "2021"
                                },
                                {
                                    "0": "Dissolved Arsenic",
                                    "1": "10",
                                    "2": "60.25",
                                    "3": "682",
                                    "4": "Tehama",
                                    "5": "2021"
                                },
                                {
                                    "0": "Dissolved Arsenic",
                                    "1": "10",
                                    "2": "60.25",
                                    "3": "682",
                                    "4": "Tehama",
                                    "5": "2021"
                                },
                                {
                                    "0": "Dissolved Arsenic",
                                    "1": "10",
                                    "2": "60.25",
                                    "3": "682",
                                    "4": "Tehama",
                                    "5": "2020"
                                },
                                {
                                    "0": "Dissolved Arsenic",
                                    "1": "10",
                                    "2": "60.25",
                                    "3": "682",
                                    "4": "Tehama",
                                    "5": "2022"
                                },
                                {
                                    "0": "Dissolved Arsenic",
                                    "1": "10",
                                    "2": "60.25",
                                    "3": "1251",
                                    "4": "Tehama",
                                    "5": "2020"
                                },
                                {
                                    "0": "Dissolved Arsenic",
                                    "1": "10",
                                    "2": "60.25",
                                    "3": "1251",
                                    "4": "Tehama",
                                    "5": "2020"
                                },
                                {
                                    "0": "Dissolved Arsenic",
                                    "1": "10",
                                    "2": "60.25",
                                    "3": "1251",
                                    "4": "Tehama",
                                    "5": "2020"
                                },
                                {
                                    "0": "Dissolved Arsenic",
                                    "1": "10",
                                    "2": "60.25",
                                    "3": "682",
                                    "4": "Tehama",
                                    "5": "2021"
                                },
                                {
                                    "0": "Dissolved Arsenic",
                                    "1": "10",
                                    "2": "60.25",
                                    "3": "1806",
                                    "4": "Tehama",
                                    "5": "2022"
                                },
                                {
                                    "0": "Dissolved Arsenic",
                                    "1": "10",
                                    "2": "60.25",
                                    "3": "1806",
                                    "4": "Tehama",
                                    "5": "2018"
                                },
                                {
                                    "0": "Dissolved Arsenic",
                                    "1": "10",
                                    "2": "60.25",
                                    "3": "1806",
                                    "4": "Tehama",
                                    "5": "2020"
                                },
                                {
                                    "0": "Dissolved Arsenic",
                                    "1": "10",
                                    "2": "60.25",
                                    "3": "1806",
                                    "4": "Tehama",
                                    "5": "2020"
                                },
                                {
                                    "0": "Dissolved Arsenic",
                                    "1": "10",
                                    "2": "60.25",
                                    "3": "1806",
                                    "4": "Tehama",
                                    "5": "2021"
                                },
                                {
                                    "0": "Dissolved Arsenic",
                                    "1": "10",
                                    "2": "60.25",
                                    "3": "1806",
                                    "4": "Tehama",
                                    "5": "2020"
                                },
                                {
                                    "0": "Dissolved Arsenic",
                                    "1": "10",
                                    "2": "60.25",
                                    "3": "46900",
                                    "4": "Tehama",
                                    "5": "2019"
                                },
                                {
                                    "0": "Dissolved Mercury",
                                    "1": "2",
                                    "2": "3.00",
                                    "3": "405",
                                    "4": "Los Angeles",
                                    "5": "2018"
                                },
                                {
                                    "0": "Dissolved Antimony",
                                    "1": "6",
                                    "2": "19.98",
                                    "3": "47905",
                                    "4": "Glenn",
                                    "5": "2021"
                                },
                                {
                                    "0": "Dissolved Antimony",
                                    "1": "6",
                                    "2": "19.98",
                                    "3": "47906",
                                    "4": "Glenn",
                                    "5": "2021"
                                },
                                {
                                    "0": "Dissolved Antimony",
                                    "1": "6",
                                    "2": "19.98",
                                    "3": "47907",
                                    "4": "Glenn",
                                    "5": "2021"
                                },
                                {
                                    "0": "Dissolved Antimony",
                                    "1": "6",
                                    "2": "19.98",
                                    "3": "47908",
                                    "4": "Glenn",
                                    "5": "2021"
                                },
                                {
                                    "0": "Dissolved Nitrate + Nitrite",
                                    "1": "10",
                                    "2": "11.25",
                                    "3": "47876",
                                    "4": "Yolo",
                                    "5": "2021"
                                },
                                {
                                    "0": "Dissolved Nitrate + Nitrite",
                                    "1": "10",
                                    "2": "11.25",
                                    "3": "47532",
                                    "4": "Yolo",
                                    "5": "2020"
                                },
                                {
                                    "0": "Dissolved Strontium",
                                    "1": "12",
                                    "2": "208.88",
                                    "3": "45914",
                                    "4": "San Joaquin",
                                    "5": "2021"
                                },
                                {
                                    "0": "Dissolved Strontium",
                                    "1": "12",
                                    "2": "208.88",
                                    "3": "45914",
                                    "4": "San Joaquin",
                                    "5": "2021"
                                },
                                {
                                    "0": "Dissolved Strontium",
                                    "1": "12",
                                    "2": "208.88",
                                    "3": "45914",
                                    "4": "San Joaquin",
                                    "5": "2021"
                                },
                                {
                                    "0": "Dissolved Strontium",
                                    "1": "12",
                                    "2": "208.88",
                                    "3": "45914",
                                    "4": "San Joaquin",
                                    "5": "2022"
                                },
                                {
                                    "0": "Dissolved Strontium",
                                    "1": "12",
                                    "2": "208.88",
                                    "3": "45914",
                                    "4": "San Joaquin",
                                    "5": "2022"
                                },
                                {
                                    "0": "Dissolved Strontium",
                                    "1": "12",
                                    "2": "208.88",
                                    "3": "45914",
                                    "4": "San Joaquin",
                                    "5": "2021"
                                },
                                {
                                    "0": "Dissolved Strontium",
                                    "1": "12",
                                    "2": "208.88",
                                    "3": "45914",
                                    "4": "San Joaquin",
                                    "5": "2022"
                                },
                                {
                                    "0": "Dissolved Strontium",
                                    "1": "12",
                                    "2": "208.88",
                                    "3": "45914",
                                    "4": "San Joaquin",
                                    "5": "2022"
                                },
                                {
                                    "0": "Dissolved Strontium",
                                    "1": "12",
                                    "2": "208.88",
                                    "3": "45914",
                                    "4": "San Joaquin",
                                    "5": "2021"
                                },
                                {
                                    "0": "Dissolved Strontium",
                                    "1": "12",
                                    "2": "208.88",
                                    "3": "45914",
                                    "4": "San Joaquin",
                                    "5": "2022"
                                },
                                {
                                    "0": "Dissolved Strontium",
                                    "1": "12",
                                    "2": "208.88",
                                    "3": "45914",
                                    "4": "San Joaquin",
                                    "5": "2021"
                                },
                                {
                                    "0": "Dissolved Strontium",
                                    "1": "12",
                                    "2": "208.88",
                                    "3": "45914",
                                    "4": "San Joaquin",
                                    "5": "2021"
                                },
                                {
                                    "0": "Dissolved Strontium",
                                    "1": "12",
                                    "2": "208.88",
                                    "3": "45914",
                                    "4": "San Joaquin",
                                    "5": "2021"
                                },
                                {
                                    "0": "Dissolved Strontium",
                                    "1": "12",
                                    "2": "208.88",
                                    "3": "45914",
                                    "4": "San Joaquin",
                                    "5": "2021"
                                },
                                {
                                    "0": "Dissolved Strontium",
                                    "1": "12",
                                    "2": "208.88",
                                    "3": "45914",
                                    "4": "San Joaquin",
                                    "5": "2022"
                                },
                                {
                                    "0": "Dissolved Strontium",
                                    "1": "12",
                                    "2": "208.88",
                                    "3": "45914",
                                    "4": "San Joaquin",
                                    "5": "2022"
                                },
                                {
                                    "0": "Dissolved Strontium",
                                    "1": "12",
                                    "2": "208.88",
                                    "3": "45914",
                                    "4": "San Joaquin",
                                    "5": "2021"
                                },
                                {
                                    "0": "Dissolved Strontium",
                                    "1": "12",
                                    "2": "208.88",
                                    "3": "45914",
                                    "4": "San Joaquin",
                                    "5": "2021"
                                },
                                {
                                    "0": "Dissolved Strontium",
                                    "1": "12",
                                    "2": "208.88",
                                    "3": "45914",
                                    "4": "San Joaquin",
                                    "5": "2021"
                                },
                                {
                                    "0": "Dissolved Strontium",
                                    "1": "12",
                                    "2": "208.88",
                                    "3": "45914",
                                    "4": "San Joaquin",
                                    "5": "2021"
                                },
                                {
                                    "0": "Dissolved Strontium",
                                    "1": "12",
                                    "2": "80.22",
                                    "3": "45916",
                                    "4": "Sacramento",
                                    "5": "2022"
                                },
                                {
                                    "0": "Dissolved Strontium",
                                    "1": "12",
                                    "2": "80.22",
                                    "3": "45916",
                                    "4": "Sacramento",
                                    "5": "2021"
                                },
                                {
                                    "0": "Dissolved Strontium",
                                    "1": "12",
                                    "2": "80.22",
                                    "3": "45916",
                                    "4": "Sacramento",
                                    "5": "2021"
                                },
                                {
                                    "0": "Dissolved Strontium",
                                    "1": "12",
                                    "2": "80.22",
                                    "3": "45916",
                                    "4": "Sacramento",
                                    "5": "2022"
                                },
                                {
                                    "0": "Dissolved Strontium",
                                    "1": "12",
                                    "2": "80.22",
                                    "3": "45916",
                                    "4": "Sacramento",
                                    "5": "2022"
                                },
                                {
                                    "0": "Dissolved Strontium",
                                    "1": "12",
                                    "2": "80.22",
                                    "3": "45916",
                                    "4": "Sacramento",
                                    "5": "2022"
                                },
                                {
                                    "0": "Dissolved Strontium",
                                    "1": "12",
                                    "2": "80.22",
                                    "3": "45916",
                                    "4": "Sacramento",
                                    "5": "2021"
                                },
                                {
                                    "0": "Dissolved Strontium",
                                    "1": "12",
                                    "2": "80.22",
                                    "3": "45916",
                                    "4": "Sacramento",
                                    "5": "2021"
                                },
                                {
                                    "0": "Dissolved Strontium",
                                    "1": "12",
                                    "2": "80.22",
                                    "3": "45916",
                                    "4": "Sacramento",
                                    "5": "2021"
                                },
                                {
                                    "0": "Dissolved Strontium",
                                    "1": "12",
                                    "2": "80.22",
                                    "3": "45916",
                                    "4": "Sacramento",
                                    "5": "2021"
                                },
                                {
                                    "0": "Dissolved Strontium",
                                    "1": "12",
                                    "2": "80.22",
                                    "3": "45916",
                                    "4": "Sacramento",
                                    "5": "2022"
                                },
                                {
                                    "0": "Dissolved Strontium",
                                    "1": "12",
                                    "2": "80.22",
                                    "3": "45916",
                                    "4": "Sacramento",
                                    "5": "2021"
                                },
                                {
                                    "0": "Dissolved Strontium",
                                    "1": "12",
                                    "2": "80.22",
                                    "3": "45916",
                                    "4": "Sacramento",
                                    "5": "2021"
                                },
                                {
                                    "0": "Dissolved Strontium",
                                    "1": "12",
                                    "2": "80.22",
                                    "3": "45916",
                                    "4": "Sacramento",
                                    "5": "2021"
                                },
                                {
                                    "0": "Dissolved Strontium",
                                    "1": "12",
                                    "2": "80.22",
                                    "3": "45916",
                                    "4": "Sacramento",
                                    "5": "2022"
                                },
                                {
                                    "0": "Dissolved Strontium",
                                    "1": "12",
                                    "2": "80.22",
                                    "3": "45916",
                                    "4": "Sacramento",
                                    "5": "2022"
                                },
                                {
                                    "0": "Dissolved Strontium",
                                    "1": "12",
                                    "2": "80.22",
                                    "3": "45916",
                                    "4": "Sacramento",
                                    "5": "2021"
                                },
                                {
                                    "0": "Dissolved Strontium",
                                    "1": "12",
                                    "2": "80.22",
                                    "3": "45916",
                                    "4": "Sacramento",
                                    "5": "2022"
                                },
                                {
                                    "0": "Dissolved Strontium",
                                    "1": "12",
                                    "2": "80.22",
                                    "3": "45916",
                                    "4": "Sacramento",
                                    "5": "2021"
                                },
                                {
                                    "0": "Dissolved Strontium",
                                    "1": "12",
                                    "2": "80.22",
                                    "3": "45916",
                                    "4": "Sacramento",
                                    "5": "2021"
                                },
                                {
                                    "0": "Dissolved Strontium",
                                    "1": "12",
                                    "2": "68.80",
                                    "3": "682",
                                    "4": "Tehama",
                                    "5": "2022"
                                },
                                {
                                    "0": "Dissolved Strontium",
                                    "1": "12",
                                    "2": "68.80",
                                    "3": "682",
                                    "4": "Tehama",
                                    "5": "2021"
                                },
                                {
                                    "0": "Dissolved Strontium",
                                    "1": "12",
                                    "2": "68.80",
                                    "3": "666",
                                    "4": "Tehama",
                                    "5": "2021"
                                },
                                {
                                    "0": "Dissolved Strontium",
                                    "1": "12",
                                    "2": "68.80",
                                    "3": "666",
                                    "4": "Tehama",
                                    "5": "2021"
                                },
                                {
                                    "0": "Dissolved Strontium",
                                    "1": "12",
                                    "2": "68.80",
                                    "3": "666",
                                    "4": "Tehama",
                                    "5": "2020"
                                },
                                {
                                    "0": "Dissolved Strontium",
                                    "1": "12",
                                    "2": "68.80",
                                    "3": "666",
                                    "4": "Tehama",
                                    "5": "2022"
                                },
                                {
                                    "0": "Dissolved Strontium",
                                    "1": "12",
                                    "2": "68.80",
                                    "3": "682",
                                    "4": "Tehama",
                                    "5": "2021"
                                },
                                {
                                    "0": "Dissolved Strontium",
                                    "1": "12",
                                    "2": "68.80",
                                    "3": "682",
                                    "4": "Tehama",
                                    "5": "2021"
                                },
                                {
                                    "0": "Dissolved Strontium",
                                    "1": "12",
                                    "2": "68.80",
                                    "3": "682",
                                    "4": "Tehama",
                                    "5": "2020"
                                },
                                {
                                    "0": "Dissolved Strontium",
                                    "1": "12",
                                    "2": "68.80",
                                    "3": "762",
                                    "4": "Tehama",
                                    "5": "2021"
                                },
                                {
                                    "0": "Dissolved Strontium",
                                    "1": "12",
                                    "2": "68.80",
                                    "3": "762",
                                    "4": "Tehama",
                                    "5": "2021"
                                },
                                {
                                    "0": "Dissolved Strontium",
                                    "1": "12",
                                    "2": "68.80",
                                    "3": "762",
                                    "4": "Tehama",
                                    "5": "2021"
                                },
                                {
                                    "0": "Dissolved Strontium",
                                    "1": "12",
                                    "2": "68.80",
                                    "3": "762",
                                    "4": "Tehama",
                                    "5": "2020"
                                },
                                {
                                    "0": "Dissolved Strontium",
                                    "1": "12",
                                    "2": "68.80",
                                    "3": "762",
                                    "4": "Tehama",
                                    "5": "2022"
                                },
                                {
                                    "0": "Dissolved Strontium",
                                    "1": "12",
                                    "2": "68.80",
                                    "3": "762",
                                    "4": "Tehama",
                                    "5": "2022"
                                },
                                {
                                    "0": "Dissolved Strontium",
                                    "1": "12",
                                    "2": "68.80",
                                    "3": "762",
                                    "4": "Tehama",
                                    "5": "2021"
                                }
                            ]
                        },
                        "text/html": "<table><tr><th>contaminant</th><th>state_max</th><th>Average_Result</th><th>station_id</th><th>county_name</th><th>year</th></tr><tr><td>Dissolved Antimony</td><td>6</td><td>16.50</td><td>47903</td><td>Tehama</td><td>2021</td></tr><tr><td>Dissolved Antimony</td><td>6</td><td>16.50</td><td>47904</td><td>Tehama</td><td>2021</td></tr><tr><td>Dissolved Arsenic</td><td>10</td><td>12.20</td><td>46554</td><td>Butte</td><td>2019</td></tr><tr><td>Dissolved Arsenic</td><td>10</td><td>12.20</td><td>47853</td><td>Butte</td><td>2019</td></tr><tr><td>Dissolved Arsenic</td><td>10</td><td>12.20</td><td>47853</td><td>Butte</td><td>2020</td></tr><tr><td>Dissolved Nitrate + Nitrite</td><td>10</td><td>10.10</td><td>45770</td><td>Los Angeles</td><td>2022</td></tr><tr><td>Dissolved Antimony</td><td>6</td><td>33.00</td><td>331</td><td>Kings</td><td>2020</td></tr><tr><td>Dissolved Arsenic</td><td>10</td><td>16.23</td><td>47905</td><td>Glenn</td><td>2022</td></tr><tr><td>Dissolved Arsenic</td><td>10</td><td>16.23</td><td>47907</td><td>Glenn</td><td>2021</td></tr><tr><td>Dissolved Arsenic</td><td>10</td><td>16.23</td><td>47908</td><td>Glenn</td><td>2021</td></tr><tr><td>Dissolved Arsenic</td><td>10</td><td>60.25</td><td>1244</td><td>Tehama</td><td>2022</td></tr><tr><td>Dissolved Arsenic</td><td>10</td><td>60.25</td><td>1244</td><td>Tehama</td><td>2018</td></tr><tr><td>Dissolved Arsenic</td><td>10</td><td>60.25</td><td>1244</td><td>Tehama</td><td>2020</td></tr><tr><td>Dissolved Arsenic</td><td>10</td><td>60.25</td><td>1244</td><td>Tehama</td><td>2020</td></tr><tr><td>Dissolved Arsenic</td><td>10</td><td>60.25</td><td>1244</td><td>Tehama</td><td>2020</td></tr><tr><td>Dissolved Arsenic</td><td>10</td><td>60.25</td><td>1244</td><td>Tehama</td><td>2021</td></tr><tr><td>Dissolved Arsenic</td><td>10</td><td>60.25</td><td>666</td><td>Tehama</td><td>2021</td></tr><tr><td>Dissolved Arsenic</td><td>10</td><td>60.25</td><td>666</td><td>Tehama</td><td>2021</td></tr><tr><td>Dissolved Arsenic</td><td>10</td><td>60.25</td><td>666</td><td>Tehama</td><td>2020</td></tr><tr><td>Dissolved Arsenic</td><td>10</td><td>60.25</td><td>666</td><td>Tehama</td><td>2022</td></tr><tr><td>Dissolved Arsenic</td><td>10</td><td>60.25</td><td>666</td><td>Tehama</td><td>2021</td></tr><tr><td>Dissolved Arsenic</td><td>10</td><td>60.25</td><td>682</td><td>Tehama</td><td>2021</td></tr><tr><td>Dissolved Arsenic</td><td>10</td><td>60.25</td><td>682</td><td>Tehama</td><td>2021</td></tr><tr><td>Dissolved Arsenic</td><td>10</td><td>60.25</td><td>682</td><td>Tehama</td><td>2020</td></tr><tr><td>Dissolved Arsenic</td><td>10</td><td>60.25</td><td>682</td><td>Tehama</td><td>2022</td></tr><tr><td>Dissolved Arsenic</td><td>10</td><td>60.25</td><td>1251</td><td>Tehama</td><td>2020</td></tr><tr><td>Dissolved Arsenic</td><td>10</td><td>60.25</td><td>1251</td><td>Tehama</td><td>2020</td></tr><tr><td>Dissolved Arsenic</td><td>10</td><td>60.25</td><td>1251</td><td>Tehama</td><td>2020</td></tr><tr><td>Dissolved Arsenic</td><td>10</td><td>60.25</td><td>682</td><td>Tehama</td><td>2021</td></tr><tr><td>Dissolved Arsenic</td><td>10</td><td>60.25</td><td>1806</td><td>Tehama</td><td>2022</td></tr><tr><td>Dissolved Arsenic</td><td>10</td><td>60.25</td><td>1806</td><td>Tehama</td><td>2018</td></tr><tr><td>Dissolved Arsenic</td><td>10</td><td>60.25</td><td>1806</td><td>Tehama</td><td>2020</td></tr><tr><td>Dissolved Arsenic</td><td>10</td><td>60.25</td><td>1806</td><td>Tehama</td><td>2020</td></tr><tr><td>Dissolved Arsenic</td><td>10</td><td>60.25</td><td>1806</td><td>Tehama</td><td>2021</td></tr><tr><td>Dissolved Arsenic</td><td>10</td><td>60.25</td><td>1806</td><td>Tehama</td><td>2020</td></tr><tr><td>Dissolved Arsenic</td><td>10</td><td>60.25</td><td>46900</td><td>Tehama</td><td>2019</td></tr><tr><td>Dissolved Mercury</td><td>2</td><td>3.00</td><td>405</td><td>Los Angeles</td><td>2018</td></tr><tr><td>Dissolved Antimony</td><td>6</td><td>19.98</td><td>47905</td><td>Glenn</td><td>2021</td></tr><tr><td>Dissolved Antimony</td><td>6</td><td>19.98</td><td>47906</td><td>Glenn</td><td>2021</td></tr><tr><td>Dissolved Antimony</td><td>6</td><td>19.98</td><td>47907</td><td>Glenn</td><td>2021</td></tr><tr><td>Dissolved Antimony</td><td>6</td><td>19.98</td><td>47908</td><td>Glenn</td><td>2021</td></tr><tr><td>Dissolved Nitrate + Nitrite</td><td>10</td><td>11.25</td><td>47876</td><td>Yolo</td><td>2021</td></tr><tr><td>Dissolved Nitrate + Nitrite</td><td>10</td><td>11.25</td><td>47532</td><td>Yolo</td><td>2020</td></tr><tr><td>Dissolved Strontium</td><td>12</td><td>208.88</td><td>45914</td><td>San Joaquin</td><td>2021</td></tr><tr><td>Dissolved Strontium</td><td>12</td><td>208.88</td><td>45914</td><td>San Joaquin</td><td>2021</td></tr><tr><td>Dissolved Strontium</td><td>12</td><td>208.88</td><td>45914</td><td>San Joaquin</td><td>2021</td></tr><tr><td>Dissolved Strontium</td><td>12</td><td>208.88</td><td>45914</td><td>San Joaquin</td><td>2022</td></tr><tr><td>Dissolved Strontium</td><td>12</td><td>208.88</td><td>45914</td><td>San Joaquin</td><td>2022</td></tr><tr><td>Dissolved Strontium</td><td>12</td><td>208.88</td><td>45914</td><td>San Joaquin</td><td>2021</td></tr><tr><td>Dissolved Strontium</td><td>12</td><td>208.88</td><td>45914</td><td>San Joaquin</td><td>2022</td></tr><tr><td>Dissolved Strontium</td><td>12</td><td>208.88</td><td>45914</td><td>San Joaquin</td><td>2022</td></tr><tr><td>Dissolved Strontium</td><td>12</td><td>208.88</td><td>45914</td><td>San Joaquin</td><td>2021</td></tr><tr><td>Dissolved Strontium</td><td>12</td><td>208.88</td><td>45914</td><td>San Joaquin</td><td>2022</td></tr><tr><td>Dissolved Strontium</td><td>12</td><td>208.88</td><td>45914</td><td>San Joaquin</td><td>2021</td></tr><tr><td>Dissolved Strontium</td><td>12</td><td>208.88</td><td>45914</td><td>San Joaquin</td><td>2021</td></tr><tr><td>Dissolved Strontium</td><td>12</td><td>208.88</td><td>45914</td><td>San Joaquin</td><td>2021</td></tr><tr><td>Dissolved Strontium</td><td>12</td><td>208.88</td><td>45914</td><td>San Joaquin</td><td>2021</td></tr><tr><td>Dissolved Strontium</td><td>12</td><td>208.88</td><td>45914</td><td>San Joaquin</td><td>2022</td></tr><tr><td>Dissolved Strontium</td><td>12</td><td>208.88</td><td>45914</td><td>San Joaquin</td><td>2022</td></tr><tr><td>Dissolved Strontium</td><td>12</td><td>208.88</td><td>45914</td><td>San Joaquin</td><td>2021</td></tr><tr><td>Dissolved Strontium</td><td>12</td><td>208.88</td><td>45914</td><td>San Joaquin</td><td>2021</td></tr><tr><td>Dissolved Strontium</td><td>12</td><td>208.88</td><td>45914</td><td>San Joaquin</td><td>2021</td></tr><tr><td>Dissolved Strontium</td><td>12</td><td>208.88</td><td>45914</td><td>San Joaquin</td><td>2021</td></tr><tr><td>Dissolved Strontium</td><td>12</td><td>80.22</td><td>45916</td><td>Sacramento</td><td>2022</td></tr><tr><td>Dissolved Strontium</td><td>12</td><td>80.22</td><td>45916</td><td>Sacramento</td><td>2021</td></tr><tr><td>Dissolved Strontium</td><td>12</td><td>80.22</td><td>45916</td><td>Sacramento</td><td>2021</td></tr><tr><td>Dissolved Strontium</td><td>12</td><td>80.22</td><td>45916</td><td>Sacramento</td><td>2022</td></tr><tr><td>Dissolved Strontium</td><td>12</td><td>80.22</td><td>45916</td><td>Sacramento</td><td>2022</td></tr><tr><td>Dissolved Strontium</td><td>12</td><td>80.22</td><td>45916</td><td>Sacramento</td><td>2022</td></tr><tr><td>Dissolved Strontium</td><td>12</td><td>80.22</td><td>45916</td><td>Sacramento</td><td>2021</td></tr><tr><td>Dissolved Strontium</td><td>12</td><td>80.22</td><td>45916</td><td>Sacramento</td><td>2021</td></tr><tr><td>Dissolved Strontium</td><td>12</td><td>80.22</td><td>45916</td><td>Sacramento</td><td>2021</td></tr><tr><td>Dissolved Strontium</td><td>12</td><td>80.22</td><td>45916</td><td>Sacramento</td><td>2021</td></tr><tr><td>Dissolved Strontium</td><td>12</td><td>80.22</td><td>45916</td><td>Sacramento</td><td>2022</td></tr><tr><td>Dissolved Strontium</td><td>12</td><td>80.22</td><td>45916</td><td>Sacramento</td><td>2021</td></tr><tr><td>Dissolved Strontium</td><td>12</td><td>80.22</td><td>45916</td><td>Sacramento</td><td>2021</td></tr><tr><td>Dissolved Strontium</td><td>12</td><td>80.22</td><td>45916</td><td>Sacramento</td><td>2021</td></tr><tr><td>Dissolved Strontium</td><td>12</td><td>80.22</td><td>45916</td><td>Sacramento</td><td>2022</td></tr><tr><td>Dissolved Strontium</td><td>12</td><td>80.22</td><td>45916</td><td>Sacramento</td><td>2022</td></tr><tr><td>Dissolved Strontium</td><td>12</td><td>80.22</td><td>45916</td><td>Sacramento</td><td>2021</td></tr><tr><td>Dissolved Strontium</td><td>12</td><td>80.22</td><td>45916</td><td>Sacramento</td><td>2022</td></tr><tr><td>Dissolved Strontium</td><td>12</td><td>80.22</td><td>45916</td><td>Sacramento</td><td>2021</td></tr><tr><td>Dissolved Strontium</td><td>12</td><td>80.22</td><td>45916</td><td>Sacramento</td><td>2021</td></tr><tr><td>Dissolved Strontium</td><td>12</td><td>68.80</td><td>682</td><td>Tehama</td><td>2022</td></tr><tr><td>Dissolved Strontium</td><td>12</td><td>68.80</td><td>682</td><td>Tehama</td><td>2021</td></tr><tr><td>Dissolved Strontium</td><td>12</td><td>68.80</td><td>666</td><td>Tehama</td><td>2021</td></tr><tr><td>Dissolved Strontium</td><td>12</td><td>68.80</td><td>666</td><td>Tehama</td><td>2021</td></tr><tr><td>Dissolved Strontium</td><td>12</td><td>68.80</td><td>666</td><td>Tehama</td><td>2020</td></tr><tr><td>Dissolved Strontium</td><td>12</td><td>68.80</td><td>666</td><td>Tehama</td><td>2022</td></tr><tr><td>Dissolved Strontium</td><td>12</td><td>68.80</td><td>682</td><td>Tehama</td><td>2021</td></tr><tr><td>Dissolved Strontium</td><td>12</td><td>68.80</td><td>682</td><td>Tehama</td><td>2021</td></tr><tr><td>Dissolved Strontium</td><td>12</td><td>68.80</td><td>682</td><td>Tehama</td><td>2020</td></tr><tr><td>Dissolved Strontium</td><td>12</td><td>68.80</td><td>762</td><td>Tehama</td><td>2021</td></tr><tr><td>Dissolved Strontium</td><td>12</td><td>68.80</td><td>762</td><td>Tehama</td><td>2021</td></tr><tr><td>Dissolved Strontium</td><td>12</td><td>68.80</td><td>762</td><td>Tehama</td><td>2021</td></tr><tr><td>Dissolved Strontium</td><td>12</td><td>68.80</td><td>762</td><td>Tehama</td><td>2020</td></tr><tr><td>Dissolved Strontium</td><td>12</td><td>68.80</td><td>762</td><td>Tehama</td><td>2022</td></tr><tr><td>Dissolved Strontium</td><td>12</td><td>68.80</td><td>762</td><td>Tehama</td><td>2022</td></tr><tr><td>Dissolved Strontium</td><td>12</td><td>68.80</td><td>762</td><td>Tehama</td><td>2021</td></tr></table>"
                    },
                    "metadata": {}
                }
            ],
            "execution_count": 55
        },
        {
            "cell_type": "markdown",
            "source": [
                "This query will answer the question of which counties have averages in the past 5 years (2018-01-01 through 2022) that are higher than the state maximum"
            ],
            "metadata": {
                "azdata_cell_guid": "1937a4c9-66e0-4022-b563-cfda803787ad"
            },
            "attachments": {}
        },
        {
            "cell_type": "code",
            "source": [
                "WITH County_Average AS (  \r\n",
                "SELECT  contaminant,  \r\n",
                "        CAST(AVG(Fixed_Result) AS DECIMAL(5,2)) AS Average_Result, \r\n",
                "        county_name\r\n",
                "FROM    regulated_contaminants\r\n",
                "WHERE   Fixed_Result > state_max AND sample_date > '01-01-2018'\r\n",
                "GROUP BY contaminant, county_name\r\n",
                ")\r\n",
                "SELECT  r.contaminant, \r\n",
                "        r.state_max, \r\n",
                "        c.Average_Result, \r\n",
                "        r.county_name\r\n",
                "FROM    regulated_contaminants r\r\n",
                "    LEFT JOIN \r\n",
                "        County_Average c \r\n",
                "    ON c.contaminant = r.contaminant AND c.county_name = r.county_name\r\n",
                "WHERE   c.Average_Result > state_max AND sample_date > '01-01-2018'\r\n",
                "GROUP BY r.contaminant, r.county_name, r.state_max, c.Average_Result\r\n",
                "ORDER BY r.contaminant "
            ],
            "metadata": {
                "azdata_cell_guid": "b4f0ee07-fe61-407d-9bd0-74b5e18b2138",
                "language": "sql"
            },
            "outputs": [
                {
                    "output_type": "display_data",
                    "data": {
                        "text/html": "(12 rows affected)"
                    },
                    "metadata": {}
                },
                {
                    "output_type": "display_data",
                    "data": {
                        "text/html": "Total execution time: 00:00:00.046"
                    },
                    "metadata": {}
                },
                {
                    "output_type": "execute_result",
                    "execution_count": 58,
                    "data": {
                        "application/vnd.dataresource+json": {
                            "schema": {
                                "fields": [
                                    {
                                        "name": "contaminant"
                                    },
                                    {
                                        "name": "state_max"
                                    },
                                    {
                                        "name": "Average_Result"
                                    },
                                    {
                                        "name": "county_name"
                                    }
                                ]
                            },
                            "data": [
                                {
                                    "0": "Dissolved Antimony",
                                    "1": "6",
                                    "2": "16.50",
                                    "3": "Tehama"
                                },
                                {
                                    "0": "Dissolved Antimony",
                                    "1": "6",
                                    "2": "33.00",
                                    "3": "Kings"
                                },
                                {
                                    "0": "Dissolved Antimony",
                                    "1": "6",
                                    "2": "19.98",
                                    "3": "Glenn"
                                },
                                {
                                    "0": "Dissolved Arsenic",
                                    "1": "10",
                                    "2": "12.20",
                                    "3": "Butte"
                                },
                                {
                                    "0": "Dissolved Arsenic",
                                    "1": "10",
                                    "2": "16.23",
                                    "3": "Glenn"
                                },
                                {
                                    "0": "Dissolved Arsenic",
                                    "1": "10",
                                    "2": "60.25",
                                    "3": "Tehama"
                                },
                                {
                                    "0": "Dissolved Mercury",
                                    "1": "2",
                                    "2": "3.00",
                                    "3": "Los Angeles"
                                },
                                {
                                    "0": "Dissolved Nitrate + Nitrite",
                                    "1": "10",
                                    "2": "11.25",
                                    "3": "Yolo"
                                },
                                {
                                    "0": "Dissolved Nitrate + Nitrite",
                                    "1": "10",
                                    "2": "10.10",
                                    "3": "Los Angeles"
                                },
                                {
                                    "0": "Dissolved Strontium",
                                    "1": "12",
                                    "2": "80.22",
                                    "3": "Sacramento"
                                },
                                {
                                    "0": "Dissolved Strontium",
                                    "1": "12",
                                    "2": "208.88",
                                    "3": "San Joaquin"
                                },
                                {
                                    "0": "Dissolved Strontium",
                                    "1": "12",
                                    "2": "68.80",
                                    "3": "Tehama"
                                }
                            ]
                        },
                        "text/html": "<table><tr><th>contaminant</th><th>state_max</th><th>Average_Result</th><th>county_name</th></tr><tr><td>Dissolved Antimony</td><td>6</td><td>16.50</td><td>Tehama</td></tr><tr><td>Dissolved Antimony</td><td>6</td><td>33.00</td><td>Kings</td></tr><tr><td>Dissolved Antimony</td><td>6</td><td>19.98</td><td>Glenn</td></tr><tr><td>Dissolved Arsenic</td><td>10</td><td>12.20</td><td>Butte</td></tr><tr><td>Dissolved Arsenic</td><td>10</td><td>16.23</td><td>Glenn</td></tr><tr><td>Dissolved Arsenic</td><td>10</td><td>60.25</td><td>Tehama</td></tr><tr><td>Dissolved Mercury</td><td>2</td><td>3.00</td><td>Los Angeles</td></tr><tr><td>Dissolved Nitrate + Nitrite</td><td>10</td><td>11.25</td><td>Yolo</td></tr><tr><td>Dissolved Nitrate + Nitrite</td><td>10</td><td>10.10</td><td>Los Angeles</td></tr><tr><td>Dissolved Strontium</td><td>12</td><td>80.22</td><td>Sacramento</td></tr><tr><td>Dissolved Strontium</td><td>12</td><td>208.88</td><td>San Joaquin</td></tr><tr><td>Dissolved Strontium</td><td>12</td><td>68.80</td><td>Tehama</td></tr></table>"
                    },
                    "metadata": {}
                }
            ],
            "execution_count": 58
        },
        {
            "cell_type": "markdown",
            "source": [
                "Now, to find the percentage higher than the state maximum; I will use the above query as a second table expression"
            ],
            "metadata": {
                "azdata_cell_guid": "91bd0295-8cfc-4e34-9917-563820a897a3"
            },
            "attachments": {}
        },
        {
            "cell_type": "code",
            "source": [
                "WITH County_Average AS (  \r\n",
                "SELECT  contaminant,  \r\n",
                "        CAST(AVG(Fixed_Result) AS DECIMAL(5,2)) AS Average_Result, \r\n",
                "        county_name\r\n",
                "FROM    regulated_contaminants\r\n",
                "WHERE   Fixed_Result > state_max AND sample_date > '01-01-2018'\r\n",
                "GROUP BY contaminant, county_name\r\n",
                "),\r\n",
                "High_Averages AS (\r\n",
                "SELECT  r.contaminant, \r\n",
                "        r.state_max, \r\n",
                "        c.Average_Result, \r\n",
                "        r.county_name\r\n",
                "FROM    regulated_contaminants r\r\n",
                "    LEFT JOIN \r\n",
                "        County_Average c \r\n",
                "    ON c.contaminant = r.contaminant AND c.county_name = r.county_name\r\n",
                "WHERE   c.Average_Result > state_max AND sample_date > '01-01-2018'\r\n",
                "GROUP BY r.contaminant, r.county_name, r.state_max, c.Average_Result\r\n",
                ")\r\n",
                "SELECT  *, \r\n",
                "        CAST(MAX(100*Average_Result/state_max) OVER(PARTITION BY contaminant, county_name) AS DECIMAL(18,2)) AS Percent_of_State_Max   \r\n",
                "FROM High_Averages\r\n",
                "ORDER BY Percent_of_State_Max DESC"
            ],
            "metadata": {
                "azdata_cell_guid": "f82cc832-7b1f-44a4-a2b6-f8f3d5c6722d",
                "language": "sql",
                "tags": []
            },
            "outputs": [
                {
                    "output_type": "display_data",
                    "data": {
                        "text/html": "(12 rows affected)"
                    },
                    "metadata": {}
                },
                {
                    "output_type": "display_data",
                    "data": {
                        "text/html": "Total execution time: 00:00:00.047"
                    },
                    "metadata": {}
                },
                {
                    "output_type": "execute_result",
                    "execution_count": 59,
                    "data": {
                        "application/vnd.dataresource+json": {
                            "schema": {
                                "fields": [
                                    {
                                        "name": "contaminant"
                                    },
                                    {
                                        "name": "state_max"
                                    },
                                    {
                                        "name": "Average_Result"
                                    },
                                    {
                                        "name": "county_name"
                                    },
                                    {
                                        "name": "Percent_of_State_Max"
                                    }
                                ]
                            },
                            "data": [
                                {
                                    "0": "Dissolved Strontium",
                                    "1": "12",
                                    "2": "208.88",
                                    "3": "San Joaquin",
                                    "4": "1740.67"
                                },
                                {
                                    "0": "Dissolved Strontium",
                                    "1": "12",
                                    "2": "80.22",
                                    "3": "Sacramento",
                                    "4": "668.50"
                                },
                                {
                                    "0": "Dissolved Arsenic",
                                    "1": "10",
                                    "2": "60.25",
                                    "3": "Tehama",
                                    "4": "602.50"
                                },
                                {
                                    "0": "Dissolved Strontium",
                                    "1": "12",
                                    "2": "68.80",
                                    "3": "Tehama",
                                    "4": "573.33"
                                },
                                {
                                    "0": "Dissolved Antimony",
                                    "1": "6",
                                    "2": "33.00",
                                    "3": "Kings",
                                    "4": "550.00"
                                },
                                {
                                    "0": "Dissolved Antimony",
                                    "1": "6",
                                    "2": "19.98",
                                    "3": "Glenn",
                                    "4": "333.00"
                                },
                                {
                                    "0": "Dissolved Antimony",
                                    "1": "6",
                                    "2": "16.50",
                                    "3": "Tehama",
                                    "4": "275.00"
                                },
                                {
                                    "0": "Dissolved Arsenic",
                                    "1": "10",
                                    "2": "16.23",
                                    "3": "Glenn",
                                    "4": "162.30"
                                },
                                {
                                    "0": "Dissolved Mercury",
                                    "1": "2",
                                    "2": "3.00",
                                    "3": "Los Angeles",
                                    "4": "150.00"
                                },
                                {
                                    "0": "Dissolved Arsenic",
                                    "1": "10",
                                    "2": "12.20",
                                    "3": "Butte",
                                    "4": "122.00"
                                },
                                {
                                    "0": "Dissolved Nitrate + Nitrite",
                                    "1": "10",
                                    "2": "11.25",
                                    "3": "Yolo",
                                    "4": "112.50"
                                },
                                {
                                    "0": "Dissolved Nitrate + Nitrite",
                                    "1": "10",
                                    "2": "10.10",
                                    "3": "Los Angeles",
                                    "4": "101.00"
                                }
                            ]
                        },
                        "text/html": "<table><tr><th>contaminant</th><th>state_max</th><th>Average_Result</th><th>county_name</th><th>Percent_of_State_Max</th></tr><tr><td>Dissolved Strontium</td><td>12</td><td>208.88</td><td>San Joaquin</td><td>1740.67</td></tr><tr><td>Dissolved Strontium</td><td>12</td><td>80.22</td><td>Sacramento</td><td>668.50</td></tr><tr><td>Dissolved Arsenic</td><td>10</td><td>60.25</td><td>Tehama</td><td>602.50</td></tr><tr><td>Dissolved Strontium</td><td>12</td><td>68.80</td><td>Tehama</td><td>573.33</td></tr><tr><td>Dissolved Antimony</td><td>6</td><td>33.00</td><td>Kings</td><td>550.00</td></tr><tr><td>Dissolved Antimony</td><td>6</td><td>19.98</td><td>Glenn</td><td>333.00</td></tr><tr><td>Dissolved Antimony</td><td>6</td><td>16.50</td><td>Tehama</td><td>275.00</td></tr><tr><td>Dissolved Arsenic</td><td>10</td><td>16.23</td><td>Glenn</td><td>162.30</td></tr><tr><td>Dissolved Mercury</td><td>2</td><td>3.00</td><td>Los Angeles</td><td>150.00</td></tr><tr><td>Dissolved Arsenic</td><td>10</td><td>12.20</td><td>Butte</td><td>122.00</td></tr><tr><td>Dissolved Nitrate + Nitrite</td><td>10</td><td>11.25</td><td>Yolo</td><td>112.50</td></tr><tr><td>Dissolved Nitrate + Nitrite</td><td>10</td><td>10.10</td><td>Los Angeles</td><td>101.00</td></tr></table>"
                    },
                    "metadata": {}
                }
            ],
            "execution_count": 59
        },
        {
            "cell_type": "markdown",
            "source": [
                "Next, I want to determine which counties have averages that are higher than the maximum permissible state levels"
            ],
            "metadata": {
                "azdata_cell_guid": "91dc7dfb-cf9f-40ec-8ccc-836cc5fcafc4"
            },
            "attachments": {}
        },
        {
            "cell_type": "code",
            "source": [
                "WITH County_Average AS (  \r\n",
                "SELECT  contaminant,  \r\n",
                "        CAST(AVG(Fixed_Result) AS DECIMAL(5,2)) AS Average_Result, \r\n",
                "        county_name\r\n",
                "FROM    regulated_contaminants\r\n",
                "WHERE   Fixed_Result > state_max AND sample_date > '01-01-2018'\r\n",
                "GROUP BY contaminant, county_name\r\n",
                ")\r\n",
                "SELECT  DISTINCT(r.county_name)\r\n",
                "FROM    regulated_contaminants r\r\n",
                "    LEFT JOIN \r\n",
                "        County_Average c \r\n",
                "    ON c.contaminant = r.contaminant AND c.county_name = r.county_name\r\n",
                "WHERE   c.Average_Result > state_max AND sample_date > '01-01-2018'\r\n",
                "GROUP BY r.contaminant, r.county_name, r.state_max, c.Average_Result\r\n",
                "ORDER BY county_name\r\n",
                ""
            ],
            "metadata": {
                "azdata_cell_guid": "94354fb4-bf99-43b6-bfe8-0acd5921876a",
                "language": "sql"
            },
            "outputs": [
                {
                    "output_type": "display_data",
                    "data": {
                        "text/html": "(8 rows affected)"
                    },
                    "metadata": {}
                },
                {
                    "output_type": "display_data",
                    "data": {
                        "text/html": "Total execution time: 00:00:00.046"
                    },
                    "metadata": {}
                },
                {
                    "output_type": "execute_result",
                    "execution_count": 60,
                    "data": {
                        "application/vnd.dataresource+json": {
                            "schema": {
                                "fields": [
                                    {
                                        "name": "county_name"
                                    }
                                ]
                            },
                            "data": [
                                {
                                    "0": "Butte"
                                },
                                {
                                    "0": "Glenn"
                                },
                                {
                                    "0": "Kings"
                                },
                                {
                                    "0": "Los Angeles"
                                },
                                {
                                    "0": "Sacramento"
                                },
                                {
                                    "0": "San Joaquin"
                                },
                                {
                                    "0": "Tehama"
                                },
                                {
                                    "0": "Yolo"
                                }
                            ]
                        },
                        "text/html": "<table><tr><th>county_name</th></tr><tr><td>Butte</td></tr><tr><td>Glenn</td></tr><tr><td>Kings</td></tr><tr><td>Los Angeles</td></tr><tr><td>Sacramento</td></tr><tr><td>San Joaquin</td></tr><tr><td>Tehama</td></tr><tr><td>Yolo</td></tr></table>"
                    },
                    "metadata": {}
                }
            ],
            "execution_count": 60
        },
        {
            "cell_type": "markdown",
            "source": [
                "There are 8 different counties that have averages that exceed the permissible average. The counties where these occur are:\n",
                "\n",
                "- Butte\n",
                "- Glenn\n",
                "- Kings\n",
                "- Los Angeles\n",
                "- Sacramento\n",
                "- San Juaquin\n",
                "- Tehama\n",
                "- Yolo"
            ],
            "metadata": {
                "azdata_cell_guid": "fba3fc2a-c185-4437-9985-b348b9913fd6"
            },
            "attachments": {}
        },
        {
            "cell_type": "code",
            "source": [
                "WITH County_Average AS (  \r\n",
                "SELECT  contaminant,  \r\n",
                "        CAST(AVG(Fixed_Result) AS DECIMAL(5,2)) AS Average_Result, \r\n",
                "        county_name\r\n",
                "FROM    regulated_contaminants\r\n",
                "WHERE   Fixed_Result > state_max AND sample_date > '01-01-2018'\r\n",
                "GROUP BY contaminant, county_name\r\n",
                ")\r\n",
                "SELECT  DISTINCT(r.contaminant)\r\n",
                "FROM    regulated_contaminants r\r\n",
                "    LEFT JOIN \r\n",
                "        County_Average c \r\n",
                "    ON c.contaminant = r.contaminant AND c.county_name = r.county_name\r\n",
                "WHERE   c.Average_Result > state_max AND sample_date > '01-01-2018'\r\n",
                "GROUP BY r.contaminant, r.county_name, r.state_max, c.Average_Result\r\n",
                "ORDER BY r.contaminant"
            ],
            "metadata": {
                "azdata_cell_guid": "dc0bb006-2dc8-4680-ab15-3712a5ef50b8",
                "language": "sql"
            },
            "outputs": [
                {
                    "output_type": "display_data",
                    "data": {
                        "text/html": "(5 rows affected)"
                    },
                    "metadata": {}
                },
                {
                    "output_type": "display_data",
                    "data": {
                        "text/html": "Total execution time: 00:00:00.038"
                    },
                    "metadata": {}
                },
                {
                    "output_type": "execute_result",
                    "execution_count": 61,
                    "data": {
                        "application/vnd.dataresource+json": {
                            "schema": {
                                "fields": [
                                    {
                                        "name": "contaminant"
                                    }
                                ]
                            },
                            "data": [
                                {
                                    "0": "Dissolved Antimony"
                                },
                                {
                                    "0": "Dissolved Arsenic"
                                },
                                {
                                    "0": "Dissolved Mercury"
                                },
                                {
                                    "0": "Dissolved Nitrate + Nitrite"
                                },
                                {
                                    "0": "Dissolved Strontium"
                                }
                            ]
                        },
                        "text/html": "<table><tr><th>contaminant</th></tr><tr><td>Dissolved Antimony</td></tr><tr><td>Dissolved Arsenic</td></tr><tr><td>Dissolved Mercury</td></tr><tr><td>Dissolved Nitrate + Nitrite</td></tr><tr><td>Dissolved Strontium</td></tr></table>"
                    },
                    "metadata": {}
                }
            ],
            "execution_count": 61
        },
        {
            "cell_type": "markdown",
            "source": [
                "There were 5 different contaminants that had county averages that were higher than the state maximum\n",
                "\n",
                "- Antimony\n",
                "- Arsenic\n",
                "- Mercury\n",
                "- Nitrate + Nitrite\n",
                "- Strontium"
            ],
            "metadata": {
                "azdata_cell_guid": "837d65a5-f2ad-46e3-b0b8-7f29f5ee74f5"
            },
            "attachments": {}
        },
        {
            "cell_type": "markdown",
            "source": [
                "Some of the counties in California are rather large, and with many water measurements that have very low levels may skew the average, where particular stations may have values that are extremely high. Since 'high' is a rather relative term, I want to start with stations that exceed the state max by 2 time, 5 times, and 10 times"
            ],
            "metadata": {
                "azdata_cell_guid": "f5eb0b49-4113-4725-9fab-733d6f200a6f"
            },
            "attachments": {}
        },
        {
            "cell_type": "code",
            "source": [
                "WITH Multiples AS (\r\n",
                "    SELECT  contaminant, \r\n",
                "            state_max, \r\n",
                "            Fixed_Result, \r\n",
                "            station_id, \r\n",
                "            CAST(Fixed_Result/state_max AS DECIMAL (18,2)) AS Factor\r\n",
                "    FROM    regulated_contaminants\r\n",
                "    WHERE   Fixed_Result > state_max AND sample_date >= '2018-01-01'\r\n",
                ")\r\n",
                "\r\n",
                "SELECT  m.contaminant, \r\n",
                "        m.station_id, \r\n",
                "        m.Factor,  \r\n",
                "        r.county_name, \r\n",
                "        DATEPART(year, r.sample_date) AS year\r\n",
                "FROM    Multiples m\r\n",
                "    INNER JOIN \r\n",
                "        regulated_contaminants r\r\n",
                "    ON m.contaminant = r.contaminant AND m.station_id = r.station_id\r\n",
                "WHERE m.Factor >= 10 AND r.sample_date >= '2018-01-01'\r\n",
                "GROUP BY m.station_id, m.contaminant, m.Factor, r.county_name, r.sample_date"
            ],
            "metadata": {
                "azdata_cell_guid": "eb6f1894-a072-4c2c-86b1-3e2c06927ef7",
                "language": "sql"
            },
            "outputs": [
                {
                    "output_type": "display_data",
                    "data": {
                        "text/html": "(249 rows affected)"
                    },
                    "metadata": {}
                },
                {
                    "output_type": "display_data",
                    "data": {
                        "text/html": "Total execution time: 00:00:00.048"
                    },
                    "metadata": {}
                },
                {
                    "output_type": "execute_result",
                    "execution_count": 66,
                    "data": {
                        "application/vnd.dataresource+json": {
                            "schema": {
                                "fields": [
                                    {
                                        "name": "contaminant"
                                    },
                                    {
                                        "name": "station_id"
                                    },
                                    {
                                        "name": "Factor"
                                    },
                                    {
                                        "name": "county_name"
                                    },
                                    {
                                        "name": "year"
                                    }
                                ]
                            },
                            "data": [
                                {
                                    "0": "Dissolved Arsenic",
                                    "1": "1806",
                                    "2": "12.60",
                                    "3": "Tehama",
                                    "4": "2018"
                                },
                                {
                                    "0": "Dissolved Arsenic",
                                    "1": "1806",
                                    "2": "12.60",
                                    "3": "Tehama",
                                    "4": "2020"
                                },
                                {
                                    "0": "Dissolved Arsenic",
                                    "1": "1806",
                                    "2": "13.30",
                                    "3": "Tehama",
                                    "4": "2022"
                                },
                                {
                                    "0": "Dissolved Arsenic",
                                    "1": "1806",
                                    "2": "21.00",
                                    "3": "Tehama",
                                    "4": "2018"
                                },
                                {
                                    "0": "Dissolved Arsenic",
                                    "1": "1806",
                                    "2": "21.00",
                                    "3": "Tehama",
                                    "4": "2020"
                                },
                                {
                                    "0": "Dissolved Arsenic",
                                    "1": "1806",
                                    "2": "21.00",
                                    "3": "Tehama",
                                    "4": "2021"
                                },
                                {
                                    "0": "Dissolved Strontium",
                                    "1": "45914",
                                    "2": "14.75",
                                    "3": "San Joaquin",
                                    "4": "2021"
                                },
                                {
                                    "0": "Dissolved Strontium",
                                    "1": "45914",
                                    "2": "14.75",
                                    "3": "San Joaquin",
                                    "4": "2021"
                                },
                                {
                                    "0": "Dissolved Strontium",
                                    "1": "45914",
                                    "2": "14.75",
                                    "3": "San Joaquin",
                                    "4": "2022"
                                },
                                {
                                    "0": "Dissolved Strontium",
                                    "1": "45914",
                                    "2": "15.33",
                                    "3": "San Joaquin",
                                    "4": "2021"
                                },
                                {
                                    "0": "Dissolved Strontium",
                                    "1": "45914",
                                    "2": "15.33",
                                    "3": "San Joaquin",
                                    "4": "2021"
                                },
                                {
                                    "0": "Dissolved Strontium",
                                    "1": "45914",
                                    "2": "15.92",
                                    "3": "San Joaquin",
                                    "4": "2021"
                                },
                                {
                                    "0": "Dissolved Strontium",
                                    "1": "45914",
                                    "2": "15.92",
                                    "3": "San Joaquin",
                                    "4": "2021"
                                },
                                {
                                    "0": "Dissolved Strontium",
                                    "1": "45914",
                                    "2": "17.67",
                                    "3": "San Joaquin",
                                    "4": "2021"
                                },
                                {
                                    "0": "Dissolved Strontium",
                                    "1": "45914",
                                    "2": "20.58",
                                    "3": "San Joaquin",
                                    "4": "2021"
                                },
                                {
                                    "0": "Dissolved Strontium",
                                    "1": "45914",
                                    "2": "20.75",
                                    "3": "San Joaquin",
                                    "4": "2021"
                                },
                                {
                                    "0": "Dissolved Strontium",
                                    "1": "45914",
                                    "2": "20.75",
                                    "3": "San Joaquin",
                                    "4": "2022"
                                },
                                {
                                    "0": "Dissolved Strontium",
                                    "1": "45914",
                                    "2": "20.75",
                                    "3": "San Joaquin",
                                    "4": "2022"
                                },
                                {
                                    "0": "Dissolved Strontium",
                                    "1": "45914",
                                    "2": "21.17",
                                    "3": "San Joaquin",
                                    "4": "2021"
                                },
                                {
                                    "0": "Dissolved Strontium",
                                    "1": "45914",
                                    "2": "21.17",
                                    "3": "San Joaquin",
                                    "4": "2021"
                                },
                                {
                                    "0": "Dissolved Strontium",
                                    "1": "45914",
                                    "2": "21.17",
                                    "3": "San Joaquin",
                                    "4": "2022"
                                },
                                {
                                    "0": "Dissolved Strontium",
                                    "1": "45914",
                                    "2": "21.17",
                                    "3": "San Joaquin",
                                    "4": "2022"
                                },
                                {
                                    "0": "Dissolved Strontium",
                                    "1": "45914",
                                    "2": "21.17",
                                    "3": "San Joaquin",
                                    "4": "2022"
                                },
                                {
                                    "0": "Dissolved Strontium",
                                    "1": "45914",
                                    "2": "29.75",
                                    "3": "San Joaquin",
                                    "4": "2021"
                                },
                                {
                                    "0": "Dissolved Strontium",
                                    "1": "45914",
                                    "2": "29.92",
                                    "3": "San Joaquin",
                                    "4": "2021"
                                },
                                {
                                    "0": "Dissolved Strontium",
                                    "1": "45914",
                                    "2": "29.92",
                                    "3": "San Joaquin",
                                    "4": "2022"
                                },
                                {
                                    "0": "Dissolved Strontium",
                                    "1": "45914",
                                    "2": "29.92",
                                    "3": "San Joaquin",
                                    "4": "2022"
                                },
                                {
                                    "0": "Dissolved Strontium",
                                    "1": "45914",
                                    "2": "29.92",
                                    "3": "San Joaquin",
                                    "4": "2022"
                                },
                                {
                                    "0": "Dissolved Strontium",
                                    "1": "45914",
                                    "2": "35.33",
                                    "3": "San Joaquin",
                                    "4": "2021"
                                },
                                {
                                    "0": "Dissolved Strontium",
                                    "1": "45914",
                                    "2": "35.33",
                                    "3": "San Joaquin",
                                    "4": "2021"
                                },
                                {
                                    "0": "Dissolved Strontium",
                                    "1": "45914",
                                    "2": "35.42",
                                    "3": "San Joaquin",
                                    "4": "2021"
                                },
                                {
                                    "0": "Dissolved Strontium",
                                    "1": "45914",
                                    "2": "35.42",
                                    "3": "San Joaquin",
                                    "4": "2021"
                                },
                                {
                                    "0": "Dissolved Arsenic",
                                    "1": "1806",
                                    "2": "13.30",
                                    "3": "Tehama",
                                    "4": "2018"
                                },
                                {
                                    "0": "Dissolved Arsenic",
                                    "1": "1806",
                                    "2": "13.30",
                                    "3": "Tehama",
                                    "4": "2020"
                                },
                                {
                                    "0": "Dissolved Arsenic",
                                    "1": "1806",
                                    "2": "13.30",
                                    "3": "Tehama",
                                    "4": "2021"
                                },
                                {
                                    "0": "Dissolved Arsenic",
                                    "1": "1806",
                                    "2": "21.00",
                                    "3": "Tehama",
                                    "4": "2022"
                                },
                                {
                                    "0": "Dissolved Strontium",
                                    "1": "45914",
                                    "2": "10.50",
                                    "3": "San Joaquin",
                                    "4": "2021"
                                },
                                {
                                    "0": "Dissolved Strontium",
                                    "1": "45914",
                                    "2": "10.50",
                                    "3": "San Joaquin",
                                    "4": "2021"
                                },
                                {
                                    "0": "Dissolved Strontium",
                                    "1": "45914",
                                    "2": "10.50",
                                    "3": "San Joaquin",
                                    "4": "2021"
                                },
                                {
                                    "0": "Dissolved Strontium",
                                    "1": "45914",
                                    "2": "10.50",
                                    "3": "San Joaquin",
                                    "4": "2022"
                                },
                                {
                                    "0": "Dissolved Strontium",
                                    "1": "45914",
                                    "2": "10.50",
                                    "3": "San Joaquin",
                                    "4": "2022"
                                },
                                {
                                    "0": "Dissolved Strontium",
                                    "1": "45914",
                                    "2": "10.67",
                                    "3": "San Joaquin",
                                    "4": "2021"
                                },
                                {
                                    "0": "Dissolved Strontium",
                                    "1": "45914",
                                    "2": "10.67",
                                    "3": "San Joaquin",
                                    "4": "2021"
                                },
                                {
                                    "0": "Dissolved Strontium",
                                    "1": "45914",
                                    "2": "10.67",
                                    "3": "San Joaquin",
                                    "4": "2022"
                                },
                                {
                                    "0": "Dissolved Strontium",
                                    "1": "45914",
                                    "2": "11.92",
                                    "3": "San Joaquin",
                                    "4": "2021"
                                },
                                {
                                    "0": "Dissolved Strontium",
                                    "1": "45914",
                                    "2": "11.92",
                                    "3": "San Joaquin",
                                    "4": "2021"
                                },
                                {
                                    "0": "Dissolved Strontium",
                                    "1": "45914",
                                    "2": "11.92",
                                    "3": "San Joaquin",
                                    "4": "2022"
                                },
                                {
                                    "0": "Dissolved Strontium",
                                    "1": "45914",
                                    "2": "11.92",
                                    "3": "San Joaquin",
                                    "4": "2022"
                                },
                                {
                                    "0": "Dissolved Strontium",
                                    "1": "45914",
                                    "2": "11.92",
                                    "3": "San Joaquin",
                                    "4": "2022"
                                },
                                {
                                    "0": "Dissolved Strontium",
                                    "1": "45914",
                                    "2": "14.83",
                                    "3": "San Joaquin",
                                    "4": "2021"
                                },
                                {
                                    "0": "Dissolved Strontium",
                                    "1": "45914",
                                    "2": "14.83",
                                    "3": "San Joaquin",
                                    "4": "2021"
                                },
                                {
                                    "0": "Dissolved Strontium",
                                    "1": "45914",
                                    "2": "14.83",
                                    "3": "San Joaquin",
                                    "4": "2021"
                                },
                                {
                                    "0": "Dissolved Strontium",
                                    "1": "45914",
                                    "2": "14.83",
                                    "3": "San Joaquin",
                                    "4": "2021"
                                },
                                {
                                    "0": "Dissolved Strontium",
                                    "1": "45914",
                                    "2": "15.33",
                                    "3": "San Joaquin",
                                    "4": "2021"
                                },
                                {
                                    "0": "Dissolved Strontium",
                                    "1": "45914",
                                    "2": "15.92",
                                    "3": "San Joaquin",
                                    "4": "2022"
                                },
                                {
                                    "0": "Dissolved Strontium",
                                    "1": "45914",
                                    "2": "17.67",
                                    "3": "San Joaquin",
                                    "4": "2021"
                                },
                                {
                                    "0": "Dissolved Strontium",
                                    "1": "45914",
                                    "2": "17.67",
                                    "3": "San Joaquin",
                                    "4": "2021"
                                },
                                {
                                    "0": "Dissolved Strontium",
                                    "1": "45914",
                                    "2": "17.67",
                                    "3": "San Joaquin",
                                    "4": "2022"
                                },
                                {
                                    "0": "Dissolved Strontium",
                                    "1": "45914",
                                    "2": "17.67",
                                    "3": "San Joaquin",
                                    "4": "2022"
                                },
                                {
                                    "0": "Dissolved Strontium",
                                    "1": "45914",
                                    "2": "17.67",
                                    "3": "San Joaquin",
                                    "4": "2022"
                                },
                                {
                                    "0": "Dissolved Strontium",
                                    "1": "45914",
                                    "2": "20.58",
                                    "3": "San Joaquin",
                                    "4": "2021"
                                },
                                {
                                    "0": "Dissolved Strontium",
                                    "1": "45914",
                                    "2": "20.58",
                                    "3": "San Joaquin",
                                    "4": "2022"
                                },
                                {
                                    "0": "Dissolved Strontium",
                                    "1": "45914",
                                    "2": "29.75",
                                    "3": "San Joaquin",
                                    "4": "2021"
                                },
                                {
                                    "0": "Dissolved Strontium",
                                    "1": "45914",
                                    "2": "29.75",
                                    "3": "San Joaquin",
                                    "4": "2021"
                                },
                                {
                                    "0": "Dissolved Strontium",
                                    "1": "45914",
                                    "2": "29.92",
                                    "3": "San Joaquin",
                                    "4": "2021"
                                },
                                {
                                    "0": "Dissolved Strontium",
                                    "1": "45914",
                                    "2": "35.33",
                                    "3": "San Joaquin",
                                    "4": "2022"
                                },
                                {
                                    "0": "Dissolved Strontium",
                                    "1": "45914",
                                    "2": "35.33",
                                    "3": "San Joaquin",
                                    "4": "2022"
                                },
                                {
                                    "0": "Dissolved Strontium",
                                    "1": "45914",
                                    "2": "35.42",
                                    "3": "San Joaquin",
                                    "4": "2021"
                                },
                                {
                                    "0": "Dissolved Strontium",
                                    "1": "45914",
                                    "2": "10.50",
                                    "3": "San Joaquin",
                                    "4": "2021"
                                },
                                {
                                    "0": "Dissolved Strontium",
                                    "1": "45914",
                                    "2": "10.50",
                                    "3": "San Joaquin",
                                    "4": "2021"
                                },
                                {
                                    "0": "Dissolved Strontium",
                                    "1": "45914",
                                    "2": "10.50",
                                    "3": "San Joaquin",
                                    "4": "2022"
                                },
                                {
                                    "0": "Dissolved Strontium",
                                    "1": "45914",
                                    "2": "10.67",
                                    "3": "San Joaquin",
                                    "4": "2021"
                                },
                                {
                                    "0": "Dissolved Strontium",
                                    "1": "45914",
                                    "2": "14.75",
                                    "3": "San Joaquin",
                                    "4": "2021"
                                },
                                {
                                    "0": "Dissolved Strontium",
                                    "1": "45914",
                                    "2": "14.75",
                                    "3": "San Joaquin",
                                    "4": "2021"
                                },
                                {
                                    "0": "Dissolved Strontium",
                                    "1": "45914",
                                    "2": "14.75",
                                    "3": "San Joaquin",
                                    "4": "2022"
                                },
                                {
                                    "0": "Dissolved Strontium",
                                    "1": "45914",
                                    "2": "14.83",
                                    "3": "San Joaquin",
                                    "4": "2021"
                                },
                                {
                                    "0": "Dissolved Strontium",
                                    "1": "45914",
                                    "2": "15.33",
                                    "3": "San Joaquin",
                                    "4": "2021"
                                },
                                {
                                    "0": "Dissolved Strontium",
                                    "1": "45914",
                                    "2": "15.33",
                                    "3": "San Joaquin",
                                    "4": "2022"
                                },
                                {
                                    "0": "Dissolved Strontium",
                                    "1": "45914",
                                    "2": "15.33",
                                    "3": "San Joaquin",
                                    "4": "2022"
                                },
                                {
                                    "0": "Dissolved Strontium",
                                    "1": "45914",
                                    "2": "15.92",
                                    "3": "San Joaquin",
                                    "4": "2022"
                                },
                                {
                                    "0": "Dissolved Strontium",
                                    "1": "45914",
                                    "2": "17.67",
                                    "3": "San Joaquin",
                                    "4": "2021"
                                },
                                {
                                    "0": "Dissolved Strontium",
                                    "1": "45914",
                                    "2": "17.67",
                                    "3": "San Joaquin",
                                    "4": "2021"
                                },
                                {
                                    "0": "Dissolved Strontium",
                                    "1": "45914",
                                    "2": "17.67",
                                    "3": "San Joaquin",
                                    "4": "2022"
                                },
                                {
                                    "0": "Dissolved Strontium",
                                    "1": "45914",
                                    "2": "20.58",
                                    "3": "San Joaquin",
                                    "4": "2021"
                                },
                                {
                                    "0": "Dissolved Strontium",
                                    "1": "45914",
                                    "2": "20.58",
                                    "3": "San Joaquin",
                                    "4": "2021"
                                },
                                {
                                    "0": "Dissolved Strontium",
                                    "1": "45914",
                                    "2": "21.17",
                                    "3": "San Joaquin",
                                    "4": "2022"
                                },
                                {
                                    "0": "Dissolved Strontium",
                                    "1": "45914",
                                    "2": "21.17",
                                    "3": "San Joaquin",
                                    "4": "2022"
                                },
                                {
                                    "0": "Dissolved Strontium",
                                    "1": "45914",
                                    "2": "29.75",
                                    "3": "San Joaquin",
                                    "4": "2022"
                                },
                                {
                                    "0": "Dissolved Strontium",
                                    "1": "45914",
                                    "2": "29.75",
                                    "3": "San Joaquin",
                                    "4": "2022"
                                },
                                {
                                    "0": "Dissolved Strontium",
                                    "1": "45914",
                                    "2": "29.92",
                                    "3": "San Joaquin",
                                    "4": "2022"
                                },
                                {
                                    "0": "Dissolved Strontium",
                                    "1": "45914",
                                    "2": "35.42",
                                    "3": "San Joaquin",
                                    "4": "2021"
                                },
                                {
                                    "0": "Dissolved Arsenic",
                                    "1": "1806",
                                    "2": "19.10",
                                    "3": "Tehama",
                                    "4": "2020"
                                },
                                {
                                    "0": "Dissolved Arsenic",
                                    "1": "1806",
                                    "2": "19.10",
                                    "3": "Tehama",
                                    "4": "2022"
                                },
                                {
                                    "0": "Dissolved Strontium",
                                    "1": "45914",
                                    "2": "10.50",
                                    "3": "San Joaquin",
                                    "4": "2021"
                                },
                                {
                                    "0": "Dissolved Strontium",
                                    "1": "45914",
                                    "2": "10.50",
                                    "3": "San Joaquin",
                                    "4": "2021"
                                },
                                {
                                    "0": "Dissolved Strontium",
                                    "1": "45914",
                                    "2": "10.50",
                                    "3": "San Joaquin",
                                    "4": "2022"
                                },
                                {
                                    "0": "Dissolved Strontium",
                                    "1": "45914",
                                    "2": "10.67",
                                    "3": "San Joaquin",
                                    "4": "2021"
                                },
                                {
                                    "0": "Dissolved Strontium",
                                    "1": "45914",
                                    "2": "10.67",
                                    "3": "San Joaquin",
                                    "4": "2022"
                                },
                                {
                                    "0": "Dissolved Strontium",
                                    "1": "45914",
                                    "2": "10.67",
                                    "3": "San Joaquin",
                                    "4": "2022"
                                },
                                {
                                    "0": "Dissolved Strontium",
                                    "1": "45914",
                                    "2": "11.92",
                                    "3": "San Joaquin",
                                    "4": "2021"
                                },
                                {
                                    "0": "Dissolved Strontium",
                                    "1": "45914",
                                    "2": "11.92",
                                    "3": "San Joaquin",
                                    "4": "2021"
                                },
                                {
                                    "0": "Dissolved Strontium",
                                    "1": "45914",
                                    "2": "11.92",
                                    "3": "San Joaquin",
                                    "4": "2021"
                                },
                                {
                                    "0": "Dissolved Strontium",
                                    "1": "45914",
                                    "2": "14.83",
                                    "3": "San Joaquin",
                                    "4": "2021"
                                },
                                {
                                    "0": "Dissolved Strontium",
                                    "1": "45914",
                                    "2": "14.83",
                                    "3": "San Joaquin",
                                    "4": "2022"
                                },
                                {
                                    "0": "Dissolved Strontium",
                                    "1": "45914",
                                    "2": "15.33",
                                    "3": "San Joaquin",
                                    "4": "2021"
                                },
                                {
                                    "0": "Dissolved Strontium",
                                    "1": "45914",
                                    "2": "15.33",
                                    "3": "San Joaquin",
                                    "4": "2022"
                                },
                                {
                                    "0": "Dissolved Strontium",
                                    "1": "45914",
                                    "2": "15.33",
                                    "3": "San Joaquin",
                                    "4": "2022"
                                },
                                {
                                    "0": "Dissolved Strontium",
                                    "1": "45914",
                                    "2": "15.92",
                                    "3": "San Joaquin",
                                    "4": "2021"
                                },
                                {
                                    "0": "Dissolved Strontium",
                                    "1": "45914",
                                    "2": "17.67",
                                    "3": "San Joaquin",
                                    "4": "2021"
                                },
                                {
                                    "0": "Dissolved Strontium",
                                    "1": "45914",
                                    "2": "17.67",
                                    "3": "San Joaquin",
                                    "4": "2021"
                                },
                                {
                                    "0": "Dissolved Strontium",
                                    "1": "45914",
                                    "2": "17.67",
                                    "3": "San Joaquin",
                                    "4": "2022"
                                },
                                {
                                    "0": "Dissolved Strontium",
                                    "1": "45914",
                                    "2": "20.58",
                                    "3": "San Joaquin",
                                    "4": "2021"
                                },
                                {
                                    "0": "Dissolved Strontium",
                                    "1": "45914",
                                    "2": "20.58",
                                    "3": "San Joaquin",
                                    "4": "2021"
                                },
                                {
                                    "0": "Dissolved Strontium",
                                    "1": "45914",
                                    "2": "20.58",
                                    "3": "San Joaquin",
                                    "4": "2022"
                                },
                                {
                                    "0": "Dissolved Strontium",
                                    "1": "45914",
                                    "2": "20.58",
                                    "3": "San Joaquin",
                                    "4": "2022"
                                },
                                {
                                    "0": "Dissolved Strontium",
                                    "1": "45914",
                                    "2": "20.75",
                                    "3": "San Joaquin",
                                    "4": "2021"
                                },
                                {
                                    "0": "Dissolved Strontium",
                                    "1": "45914",
                                    "2": "20.75",
                                    "3": "San Joaquin",
                                    "4": "2021"
                                },
                                {
                                    "0": "Dissolved Strontium",
                                    "1": "45914",
                                    "2": "20.75",
                                    "3": "San Joaquin",
                                    "4": "2021"
                                },
                                {
                                    "0": "Dissolved Strontium",
                                    "1": "45914",
                                    "2": "21.17",
                                    "3": "San Joaquin",
                                    "4": "2021"
                                },
                                {
                                    "0": "Dissolved Strontium",
                                    "1": "45914",
                                    "2": "21.17",
                                    "3": "San Joaquin",
                                    "4": "2021"
                                },
                                {
                                    "0": "Dissolved Strontium",
                                    "1": "45914",
                                    "2": "29.75",
                                    "3": "San Joaquin",
                                    "4": "2022"
                                },
                                {
                                    "0": "Dissolved Strontium",
                                    "1": "45914",
                                    "2": "29.75",
                                    "3": "San Joaquin",
                                    "4": "2022"
                                },
                                {
                                    "0": "Dissolved Strontium",
                                    "1": "45914",
                                    "2": "29.92",
                                    "3": "San Joaquin",
                                    "4": "2021"
                                },
                                {
                                    "0": "Dissolved Strontium",
                                    "1": "45914",
                                    "2": "35.42",
                                    "3": "San Joaquin",
                                    "4": "2022"
                                },
                                {
                                    "0": "Dissolved Arsenic",
                                    "1": "1806",
                                    "2": "12.60",
                                    "3": "Tehama",
                                    "4": "2021"
                                },
                                {
                                    "0": "Dissolved Arsenic",
                                    "1": "1806",
                                    "2": "19.10",
                                    "3": "Tehama",
                                    "4": "2020"
                                },
                                {
                                    "0": "Dissolved Arsenic",
                                    "1": "1806",
                                    "2": "19.10",
                                    "3": "Tehama",
                                    "4": "2020"
                                },
                                {
                                    "0": "Dissolved Strontium",
                                    "1": "45914",
                                    "2": "10.67",
                                    "3": "San Joaquin",
                                    "4": "2022"
                                },
                                {
                                    "0": "Dissolved Strontium",
                                    "1": "45914",
                                    "2": "10.67",
                                    "3": "San Joaquin",
                                    "4": "2022"
                                },
                                {
                                    "0": "Dissolved Strontium",
                                    "1": "45914",
                                    "2": "11.92",
                                    "3": "San Joaquin",
                                    "4": "2022"
                                },
                                {
                                    "0": "Dissolved Strontium",
                                    "1": "45914",
                                    "2": "14.75",
                                    "3": "San Joaquin",
                                    "4": "2021"
                                },
                                {
                                    "0": "Dissolved Strontium",
                                    "1": "45914",
                                    "2": "14.75",
                                    "3": "San Joaquin",
                                    "4": "2021"
                                },
                                {
                                    "0": "Dissolved Strontium",
                                    "1": "45914",
                                    "2": "14.75",
                                    "3": "San Joaquin",
                                    "4": "2021"
                                },
                                {
                                    "0": "Dissolved Strontium",
                                    "1": "45914",
                                    "2": "14.83",
                                    "3": "San Joaquin",
                                    "4": "2021"
                                },
                                {
                                    "0": "Dissolved Strontium",
                                    "1": "45914",
                                    "2": "14.83",
                                    "3": "San Joaquin",
                                    "4": "2021"
                                },
                                {
                                    "0": "Dissolved Strontium",
                                    "1": "45914",
                                    "2": "14.83",
                                    "3": "San Joaquin",
                                    "4": "2022"
                                },
                                {
                                    "0": "Dissolved Strontium",
                                    "1": "45914",
                                    "2": "14.83",
                                    "3": "San Joaquin",
                                    "4": "2022"
                                },
                                {
                                    "0": "Dissolved Strontium",
                                    "1": "45914",
                                    "2": "15.92",
                                    "3": "San Joaquin",
                                    "4": "2021"
                                },
                                {
                                    "0": "Dissolved Strontium",
                                    "1": "45914",
                                    "2": "15.92",
                                    "3": "San Joaquin",
                                    "4": "2022"
                                },
                                {
                                    "0": "Dissolved Strontium",
                                    "1": "45914",
                                    "2": "20.58",
                                    "3": "San Joaquin",
                                    "4": "2021"
                                },
                                {
                                    "0": "Dissolved Strontium",
                                    "1": "45914",
                                    "2": "20.58",
                                    "3": "San Joaquin",
                                    "4": "2021"
                                },
                                {
                                    "0": "Dissolved Strontium",
                                    "1": "45914",
                                    "2": "20.58",
                                    "3": "San Joaquin",
                                    "4": "2022"
                                },
                                {
                                    "0": "Dissolved Strontium",
                                    "1": "45914",
                                    "2": "20.75",
                                    "3": "San Joaquin",
                                    "4": "2022"
                                },
                                {
                                    "0": "Dissolved Strontium",
                                    "1": "45914",
                                    "2": "20.75",
                                    "3": "San Joaquin",
                                    "4": "2022"
                                },
                                {
                                    "0": "Dissolved Strontium",
                                    "1": "45914",
                                    "2": "21.17",
                                    "3": "San Joaquin",
                                    "4": "2021"
                                },
                                {
                                    "0": "Dissolved Strontium",
                                    "1": "45914",
                                    "2": "29.75",
                                    "3": "San Joaquin",
                                    "4": "2021"
                                },
                                {
                                    "0": "Dissolved Strontium",
                                    "1": "45914",
                                    "2": "29.92",
                                    "3": "San Joaquin",
                                    "4": "2022"
                                },
                                {
                                    "0": "Dissolved Strontium",
                                    "1": "45914",
                                    "2": "35.33",
                                    "3": "San Joaquin",
                                    "4": "2021"
                                },
                                {
                                    "0": "Dissolved Strontium",
                                    "1": "45914",
                                    "2": "35.33",
                                    "3": "San Joaquin",
                                    "4": "2021"
                                },
                                {
                                    "0": "Dissolved Strontium",
                                    "1": "45914",
                                    "2": "35.33",
                                    "3": "San Joaquin",
                                    "4": "2022"
                                },
                                {
                                    "0": "Dissolved Strontium",
                                    "1": "45914",
                                    "2": "35.42",
                                    "3": "San Joaquin",
                                    "4": "2021"
                                },
                                {
                                    "0": "Dissolved Strontium",
                                    "1": "45914",
                                    "2": "35.42",
                                    "3": "San Joaquin",
                                    "4": "2022"
                                },
                                {
                                    "0": "Dissolved Arsenic",
                                    "1": "1806",
                                    "2": "19.10",
                                    "3": "Tehama",
                                    "4": "2018"
                                },
                                {
                                    "0": "Dissolved Strontium",
                                    "1": "45914",
                                    "2": "10.50",
                                    "3": "San Joaquin",
                                    "4": "2021"
                                },
                                {
                                    "0": "Dissolved Strontium",
                                    "1": "45914",
                                    "2": "10.67",
                                    "3": "San Joaquin",
                                    "4": "2022"
                                },
                                {
                                    "0": "Dissolved Strontium",
                                    "1": "45914",
                                    "2": "11.92",
                                    "3": "San Joaquin",
                                    "4": "2022"
                                },
                                {
                                    "0": "Dissolved Strontium",
                                    "1": "45914",
                                    "2": "14.75",
                                    "3": "San Joaquin",
                                    "4": "2021"
                                },
                                {
                                    "0": "Dissolved Strontium",
                                    "1": "45914",
                                    "2": "14.75",
                                    "3": "San Joaquin",
                                    "4": "2022"
                                },
                                {
                                    "0": "Dissolved Strontium",
                                    "1": "45914",
                                    "2": "14.75",
                                    "3": "San Joaquin",
                                    "4": "2022"
                                },
                                {
                                    "0": "Dissolved Strontium",
                                    "1": "45914",
                                    "2": "14.83",
                                    "3": "San Joaquin",
                                    "4": "2022"
                                },
                                {
                                    "0": "Dissolved Strontium",
                                    "1": "45914",
                                    "2": "14.83",
                                    "3": "San Joaquin",
                                    "4": "2022"
                                },
                                {
                                    "0": "Dissolved Strontium",
                                    "1": "45914",
                                    "2": "15.33",
                                    "3": "San Joaquin",
                                    "4": "2021"
                                },
                                {
                                    "0": "Dissolved Strontium",
                                    "1": "45914",
                                    "2": "15.33",
                                    "3": "San Joaquin",
                                    "4": "2021"
                                },
                                {
                                    "0": "Dissolved Strontium",
                                    "1": "45914",
                                    "2": "15.92",
                                    "3": "San Joaquin",
                                    "4": "2021"
                                },
                                {
                                    "0": "Dissolved Strontium",
                                    "1": "45914",
                                    "2": "17.67",
                                    "3": "San Joaquin",
                                    "4": "2021"
                                },
                                {
                                    "0": "Dissolved Strontium",
                                    "1": "45914",
                                    "2": "20.75",
                                    "3": "San Joaquin",
                                    "4": "2021"
                                },
                                {
                                    "0": "Dissolved Strontium",
                                    "1": "45914",
                                    "2": "20.75",
                                    "3": "San Joaquin",
                                    "4": "2021"
                                },
                                {
                                    "0": "Dissolved Strontium",
                                    "1": "45914",
                                    "2": "20.75",
                                    "3": "San Joaquin",
                                    "4": "2022"
                                },
                                {
                                    "0": "Dissolved Strontium",
                                    "1": "45914",
                                    "2": "21.17",
                                    "3": "San Joaquin",
                                    "4": "2021"
                                },
                                {
                                    "0": "Dissolved Strontium",
                                    "1": "45914",
                                    "2": "29.75",
                                    "3": "San Joaquin",
                                    "4": "2021"
                                },
                                {
                                    "0": "Dissolved Strontium",
                                    "1": "45914",
                                    "2": "29.75",
                                    "3": "San Joaquin",
                                    "4": "2021"
                                },
                                {
                                    "0": "Dissolved Strontium",
                                    "1": "45914",
                                    "2": "29.75",
                                    "3": "San Joaquin",
                                    "4": "2021"
                                },
                                {
                                    "0": "Dissolved Strontium",
                                    "1": "45914",
                                    "2": "29.92",
                                    "3": "San Joaquin",
                                    "4": "2021"
                                },
                                {
                                    "0": "Dissolved Strontium",
                                    "1": "45914",
                                    "2": "29.92",
                                    "3": "San Joaquin",
                                    "4": "2021"
                                },
                                {
                                    "0": "Dissolved Strontium",
                                    "1": "45914",
                                    "2": "35.33",
                                    "3": "San Joaquin",
                                    "4": "2021"
                                },
                                {
                                    "0": "Dissolved Strontium",
                                    "1": "45914",
                                    "2": "35.33",
                                    "3": "San Joaquin",
                                    "4": "2021"
                                },
                                {
                                    "0": "Dissolved Strontium",
                                    "1": "45914",
                                    "2": "35.42",
                                    "3": "San Joaquin",
                                    "4": "2022"
                                },
                                {
                                    "0": "Dissolved Strontium",
                                    "1": "45914",
                                    "2": "35.42",
                                    "3": "San Joaquin",
                                    "4": "2022"
                                },
                                {
                                    "0": "Dissolved Strontium",
                                    "1": "45914",
                                    "2": "35.42",
                                    "3": "San Joaquin",
                                    "4": "2022"
                                },
                                {
                                    "0": "Dissolved Arsenic",
                                    "1": "1806",
                                    "2": "12.60",
                                    "3": "Tehama",
                                    "4": "2020"
                                },
                                {
                                    "0": "Dissolved Arsenic",
                                    "1": "1806",
                                    "2": "13.30",
                                    "3": "Tehama",
                                    "4": "2020"
                                },
                                {
                                    "0": "Dissolved Arsenic",
                                    "1": "1806",
                                    "2": "21.00",
                                    "3": "Tehama",
                                    "4": "2020"
                                },
                                {
                                    "0": "Dissolved Strontium",
                                    "1": "45914",
                                    "2": "10.67",
                                    "3": "San Joaquin",
                                    "4": "2021"
                                },
                                {
                                    "0": "Dissolved Strontium",
                                    "1": "45914",
                                    "2": "10.67",
                                    "3": "San Joaquin",
                                    "4": "2021"
                                },
                                {
                                    "0": "Dissolved Strontium",
                                    "1": "45914",
                                    "2": "11.92",
                                    "3": "San Joaquin",
                                    "4": "2021"
                                },
                                {
                                    "0": "Dissolved Strontium",
                                    "1": "45914",
                                    "2": "11.92",
                                    "3": "San Joaquin",
                                    "4": "2021"
                                },
                                {
                                    "0": "Dissolved Strontium",
                                    "1": "45914",
                                    "2": "14.75",
                                    "3": "San Joaquin",
                                    "4": "2021"
                                },
                                {
                                    "0": "Dissolved Strontium",
                                    "1": "45914",
                                    "2": "14.75",
                                    "3": "San Joaquin",
                                    "4": "2022"
                                },
                                {
                                    "0": "Dissolved Strontium",
                                    "1": "45914",
                                    "2": "14.75",
                                    "3": "San Joaquin",
                                    "4": "2022"
                                },
                                {
                                    "0": "Dissolved Strontium",
                                    "1": "45914",
                                    "2": "15.92",
                                    "3": "San Joaquin",
                                    "4": "2021"
                                },
                                {
                                    "0": "Dissolved Strontium",
                                    "1": "45914",
                                    "2": "15.92",
                                    "3": "San Joaquin",
                                    "4": "2021"
                                },
                                {
                                    "0": "Dissolved Strontium",
                                    "1": "45914",
                                    "2": "15.92",
                                    "3": "San Joaquin",
                                    "4": "2022"
                                },
                                {
                                    "0": "Dissolved Strontium",
                                    "1": "45914",
                                    "2": "17.67",
                                    "3": "San Joaquin",
                                    "4": "2021"
                                },
                                {
                                    "0": "Dissolved Strontium",
                                    "1": "45914",
                                    "2": "20.58",
                                    "3": "San Joaquin",
                                    "4": "2021"
                                },
                                {
                                    "0": "Dissolved Strontium",
                                    "1": "45914",
                                    "2": "20.75",
                                    "3": "San Joaquin",
                                    "4": "2021"
                                },
                                {
                                    "0": "Dissolved Strontium",
                                    "1": "45914",
                                    "2": "20.75",
                                    "3": "San Joaquin",
                                    "4": "2022"
                                },
                                {
                                    "0": "Dissolved Strontium",
                                    "1": "45914",
                                    "2": "21.17",
                                    "3": "San Joaquin",
                                    "4": "2021"
                                },
                                {
                                    "0": "Dissolved Strontium",
                                    "1": "45914",
                                    "2": "21.17",
                                    "3": "San Joaquin",
                                    "4": "2021"
                                },
                                {
                                    "0": "Dissolved Strontium",
                                    "1": "45914",
                                    "2": "21.17",
                                    "3": "San Joaquin",
                                    "4": "2022"
                                },
                                {
                                    "0": "Dissolved Strontium",
                                    "1": "45914",
                                    "2": "29.75",
                                    "3": "San Joaquin",
                                    "4": "2021"
                                },
                                {
                                    "0": "Dissolved Strontium",
                                    "1": "45914",
                                    "2": "29.75",
                                    "3": "San Joaquin",
                                    "4": "2021"
                                },
                                {
                                    "0": "Dissolved Strontium",
                                    "1": "45914",
                                    "2": "29.75",
                                    "3": "San Joaquin",
                                    "4": "2022"
                                },
                                {
                                    "0": "Dissolved Strontium",
                                    "1": "45914",
                                    "2": "29.75",
                                    "3": "San Joaquin",
                                    "4": "2022"
                                },
                                {
                                    "0": "Dissolved Strontium",
                                    "1": "45914",
                                    "2": "29.92",
                                    "3": "San Joaquin",
                                    "4": "2021"
                                },
                                {
                                    "0": "Dissolved Strontium",
                                    "1": "45914",
                                    "2": "29.92",
                                    "3": "San Joaquin",
                                    "4": "2022"
                                },
                                {
                                    "0": "Dissolved Strontium",
                                    "1": "45914",
                                    "2": "35.33",
                                    "3": "San Joaquin",
                                    "4": "2021"
                                },
                                {
                                    "0": "Dissolved Strontium",
                                    "1": "45914",
                                    "2": "35.42",
                                    "3": "San Joaquin",
                                    "4": "2021"
                                },
                                {
                                    "0": "Dissolved Strontium",
                                    "1": "45914",
                                    "2": "35.42",
                                    "3": "San Joaquin",
                                    "4": "2021"
                                },
                                {
                                    "0": "Dissolved Arsenic",
                                    "1": "1806",
                                    "2": "12.60",
                                    "3": "Tehama",
                                    "4": "2020"
                                },
                                {
                                    "0": "Dissolved Arsenic",
                                    "1": "1806",
                                    "2": "12.60",
                                    "3": "Tehama",
                                    "4": "2022"
                                },
                                {
                                    "0": "Dissolved Arsenic",
                                    "1": "1806",
                                    "2": "13.30",
                                    "3": "Tehama",
                                    "4": "2020"
                                },
                                {
                                    "0": "Dissolved Arsenic",
                                    "1": "1806",
                                    "2": "19.10",
                                    "3": "Tehama",
                                    "4": "2021"
                                },
                                {
                                    "0": "Dissolved Arsenic",
                                    "1": "1806",
                                    "2": "21.00",
                                    "3": "Tehama",
                                    "4": "2020"
                                },
                                {
                                    "0": "Dissolved Strontium",
                                    "1": "45914",
                                    "2": "10.50",
                                    "3": "San Joaquin",
                                    "4": "2021"
                                },
                                {
                                    "0": "Dissolved Strontium",
                                    "1": "45914",
                                    "2": "10.50",
                                    "3": "San Joaquin",
                                    "4": "2022"
                                },
                                {
                                    "0": "Dissolved Strontium",
                                    "1": "45914",
                                    "2": "10.50",
                                    "3": "San Joaquin",
                                    "4": "2022"
                                },
                                {
                                    "0": "Dissolved Strontium",
                                    "1": "45914",
                                    "2": "10.67",
                                    "3": "San Joaquin",
                                    "4": "2021"
                                },
                                {
                                    "0": "Dissolved Strontium",
                                    "1": "45914",
                                    "2": "10.67",
                                    "3": "San Joaquin",
                                    "4": "2021"
                                },
                                {
                                    "0": "Dissolved Strontium",
                                    "1": "45914",
                                    "2": "10.67",
                                    "3": "San Joaquin",
                                    "4": "2021"
                                },
                                {
                                    "0": "Dissolved Strontium",
                                    "1": "45914",
                                    "2": "11.92",
                                    "3": "San Joaquin",
                                    "4": "2021"
                                },
                                {
                                    "0": "Dissolved Strontium",
                                    "1": "45914",
                                    "2": "11.92",
                                    "3": "San Joaquin",
                                    "4": "2021"
                                },
                                {
                                    "0": "Dissolved Strontium",
                                    "1": "45914",
                                    "2": "11.92",
                                    "3": "San Joaquin",
                                    "4": "2022"
                                },
                                {
                                    "0": "Dissolved Strontium",
                                    "1": "45914",
                                    "2": "14.83",
                                    "3": "San Joaquin",
                                    "4": "2021"
                                },
                                {
                                    "0": "Dissolved Strontium",
                                    "1": "45914",
                                    "2": "14.83",
                                    "3": "San Joaquin",
                                    "4": "2022"
                                },
                                {
                                    "0": "Dissolved Strontium",
                                    "1": "45914",
                                    "2": "15.33",
                                    "3": "San Joaquin",
                                    "4": "2021"
                                },
                                {
                                    "0": "Dissolved Strontium",
                                    "1": "45914",
                                    "2": "15.33",
                                    "3": "San Joaquin",
                                    "4": "2021"
                                },
                                {
                                    "0": "Dissolved Strontium",
                                    "1": "45914",
                                    "2": "15.33",
                                    "3": "San Joaquin",
                                    "4": "2022"
                                },
                                {
                                    "0": "Dissolved Strontium",
                                    "1": "45914",
                                    "2": "15.33",
                                    "3": "San Joaquin",
                                    "4": "2022"
                                },
                                {
                                    "0": "Dissolved Strontium",
                                    "1": "45914",
                                    "2": "15.92",
                                    "3": "San Joaquin",
                                    "4": "2021"
                                },
                                {
                                    "0": "Dissolved Strontium",
                                    "1": "45914",
                                    "2": "15.92",
                                    "3": "San Joaquin",
                                    "4": "2021"
                                },
                                {
                                    "0": "Dissolved Strontium",
                                    "1": "45914",
                                    "2": "15.92",
                                    "3": "San Joaquin",
                                    "4": "2022"
                                },
                                {
                                    "0": "Dissolved Strontium",
                                    "1": "45914",
                                    "2": "15.92",
                                    "3": "San Joaquin",
                                    "4": "2022"
                                },
                                {
                                    "0": "Dissolved Strontium",
                                    "1": "45914",
                                    "2": "17.67",
                                    "3": "San Joaquin",
                                    "4": "2022"
                                },
                                {
                                    "0": "Dissolved Strontium",
                                    "1": "45914",
                                    "2": "20.58",
                                    "3": "San Joaquin",
                                    "4": "2022"
                                },
                                {
                                    "0": "Dissolved Strontium",
                                    "1": "45914",
                                    "2": "20.58",
                                    "3": "San Joaquin",
                                    "4": "2022"
                                },
                                {
                                    "0": "Dissolved Strontium",
                                    "1": "45914",
                                    "2": "20.75",
                                    "3": "San Joaquin",
                                    "4": "2021"
                                },
                                {
                                    "0": "Dissolved Strontium",
                                    "1": "45914",
                                    "2": "20.75",
                                    "3": "San Joaquin",
                                    "4": "2021"
                                },
                                {
                                    "0": "Dissolved Strontium",
                                    "1": "45914",
                                    "2": "21.17",
                                    "3": "San Joaquin",
                                    "4": "2021"
                                },
                                {
                                    "0": "Dissolved Strontium",
                                    "1": "45914",
                                    "2": "29.92",
                                    "3": "San Joaquin",
                                    "4": "2021"
                                },
                                {
                                    "0": "Dissolved Strontium",
                                    "1": "45914",
                                    "2": "29.92",
                                    "3": "San Joaquin",
                                    "4": "2021"
                                },
                                {
                                    "0": "Dissolved Strontium",
                                    "1": "45914",
                                    "2": "29.92",
                                    "3": "San Joaquin",
                                    "4": "2021"
                                },
                                {
                                    "0": "Dissolved Strontium",
                                    "1": "45914",
                                    "2": "35.33",
                                    "3": "San Joaquin",
                                    "4": "2021"
                                },
                                {
                                    "0": "Dissolved Strontium",
                                    "1": "45914",
                                    "2": "35.33",
                                    "3": "San Joaquin",
                                    "4": "2021"
                                },
                                {
                                    "0": "Dissolved Strontium",
                                    "1": "45914",
                                    "2": "35.33",
                                    "3": "San Joaquin",
                                    "4": "2022"
                                },
                                {
                                    "0": "Dissolved Strontium",
                                    "1": "45914",
                                    "2": "35.33",
                                    "3": "San Joaquin",
                                    "4": "2022"
                                },
                                {
                                    "0": "Dissolved Strontium",
                                    "1": "45914",
                                    "2": "35.33",
                                    "3": "San Joaquin",
                                    "4": "2022"
                                },
                                {
                                    "0": "Dissolved Strontium",
                                    "1": "45914",
                                    "2": "35.42",
                                    "3": "San Joaquin",
                                    "4": "2021"
                                },
                                {
                                    "0": "Dissolved Strontium",
                                    "1": "45914",
                                    "2": "35.42",
                                    "3": "San Joaquin",
                                    "4": "2021"
                                },
                                {
                                    "0": "Dissolved Strontium",
                                    "1": "45914",
                                    "2": "35.42",
                                    "3": "San Joaquin",
                                    "4": "2022"
                                }
                            ]
                        },
                        "text/html": "<table><tr><th>contaminant</th><th>station_id</th><th>Factor</th><th>county_name</th><th>year</th></tr><tr><td>Dissolved Arsenic</td><td>1806</td><td>12.60</td><td>Tehama</td><td>2018</td></tr><tr><td>Dissolved Arsenic</td><td>1806</td><td>12.60</td><td>Tehama</td><td>2020</td></tr><tr><td>Dissolved Arsenic</td><td>1806</td><td>13.30</td><td>Tehama</td><td>2022</td></tr><tr><td>Dissolved Arsenic</td><td>1806</td><td>21.00</td><td>Tehama</td><td>2018</td></tr><tr><td>Dissolved Arsenic</td><td>1806</td><td>21.00</td><td>Tehama</td><td>2020</td></tr><tr><td>Dissolved Arsenic</td><td>1806</td><td>21.00</td><td>Tehama</td><td>2021</td></tr><tr><td>Dissolved Strontium</td><td>45914</td><td>14.75</td><td>San Joaquin</td><td>2021</td></tr><tr><td>Dissolved Strontium</td><td>45914</td><td>14.75</td><td>San Joaquin</td><td>2021</td></tr><tr><td>Dissolved Strontium</td><td>45914</td><td>14.75</td><td>San Joaquin</td><td>2022</td></tr><tr><td>Dissolved Strontium</td><td>45914</td><td>15.33</td><td>San Joaquin</td><td>2021</td></tr><tr><td>Dissolved Strontium</td><td>45914</td><td>15.33</td><td>San Joaquin</td><td>2021</td></tr><tr><td>Dissolved Strontium</td><td>45914</td><td>15.92</td><td>San Joaquin</td><td>2021</td></tr><tr><td>Dissolved Strontium</td><td>45914</td><td>15.92</td><td>San Joaquin</td><td>2021</td></tr><tr><td>Dissolved Strontium</td><td>45914</td><td>17.67</td><td>San Joaquin</td><td>2021</td></tr><tr><td>Dissolved Strontium</td><td>45914</td><td>20.58</td><td>San Joaquin</td><td>2021</td></tr><tr><td>Dissolved Strontium</td><td>45914</td><td>20.75</td><td>San Joaquin</td><td>2021</td></tr><tr><td>Dissolved Strontium</td><td>45914</td><td>20.75</td><td>San Joaquin</td><td>2022</td></tr><tr><td>Dissolved Strontium</td><td>45914</td><td>20.75</td><td>San Joaquin</td><td>2022</td></tr><tr><td>Dissolved Strontium</td><td>45914</td><td>21.17</td><td>San Joaquin</td><td>2021</td></tr><tr><td>Dissolved Strontium</td><td>45914</td><td>21.17</td><td>San Joaquin</td><td>2021</td></tr><tr><td>Dissolved Strontium</td><td>45914</td><td>21.17</td><td>San Joaquin</td><td>2022</td></tr><tr><td>Dissolved Strontium</td><td>45914</td><td>21.17</td><td>San Joaquin</td><td>2022</td></tr><tr><td>Dissolved Strontium</td><td>45914</td><td>21.17</td><td>San Joaquin</td><td>2022</td></tr><tr><td>Dissolved Strontium</td><td>45914</td><td>29.75</td><td>San Joaquin</td><td>2021</td></tr><tr><td>Dissolved Strontium</td><td>45914</td><td>29.92</td><td>San Joaquin</td><td>2021</td></tr><tr><td>Dissolved Strontium</td><td>45914</td><td>29.92</td><td>San Joaquin</td><td>2022</td></tr><tr><td>Dissolved Strontium</td><td>45914</td><td>29.92</td><td>San Joaquin</td><td>2022</td></tr><tr><td>Dissolved Strontium</td><td>45914</td><td>29.92</td><td>San Joaquin</td><td>2022</td></tr><tr><td>Dissolved Strontium</td><td>45914</td><td>35.33</td><td>San Joaquin</td><td>2021</td></tr><tr><td>Dissolved Strontium</td><td>45914</td><td>35.33</td><td>San Joaquin</td><td>2021</td></tr><tr><td>Dissolved Strontium</td><td>45914</td><td>35.42</td><td>San Joaquin</td><td>2021</td></tr><tr><td>Dissolved Strontium</td><td>45914</td><td>35.42</td><td>San Joaquin</td><td>2021</td></tr><tr><td>Dissolved Arsenic</td><td>1806</td><td>13.30</td><td>Tehama</td><td>2018</td></tr><tr><td>Dissolved Arsenic</td><td>1806</td><td>13.30</td><td>Tehama</td><td>2020</td></tr><tr><td>Dissolved Arsenic</td><td>1806</td><td>13.30</td><td>Tehama</td><td>2021</td></tr><tr><td>Dissolved Arsenic</td><td>1806</td><td>21.00</td><td>Tehama</td><td>2022</td></tr><tr><td>Dissolved Strontium</td><td>45914</td><td>10.50</td><td>San Joaquin</td><td>2021</td></tr><tr><td>Dissolved Strontium</td><td>45914</td><td>10.50</td><td>San Joaquin</td><td>2021</td></tr><tr><td>Dissolved Strontium</td><td>45914</td><td>10.50</td><td>San Joaquin</td><td>2021</td></tr><tr><td>Dissolved Strontium</td><td>45914</td><td>10.50</td><td>San Joaquin</td><td>2022</td></tr><tr><td>Dissolved Strontium</td><td>45914</td><td>10.50</td><td>San Joaquin</td><td>2022</td></tr><tr><td>Dissolved Strontium</td><td>45914</td><td>10.67</td><td>San Joaquin</td><td>2021</td></tr><tr><td>Dissolved Strontium</td><td>45914</td><td>10.67</td><td>San Joaquin</td><td>2021</td></tr><tr><td>Dissolved Strontium</td><td>45914</td><td>10.67</td><td>San Joaquin</td><td>2022</td></tr><tr><td>Dissolved Strontium</td><td>45914</td><td>11.92</td><td>San Joaquin</td><td>2021</td></tr><tr><td>Dissolved Strontium</td><td>45914</td><td>11.92</td><td>San Joaquin</td><td>2021</td></tr><tr><td>Dissolved Strontium</td><td>45914</td><td>11.92</td><td>San Joaquin</td><td>2022</td></tr><tr><td>Dissolved Strontium</td><td>45914</td><td>11.92</td><td>San Joaquin</td><td>2022</td></tr><tr><td>Dissolved Strontium</td><td>45914</td><td>11.92</td><td>San Joaquin</td><td>2022</td></tr><tr><td>Dissolved Strontium</td><td>45914</td><td>14.83</td><td>San Joaquin</td><td>2021</td></tr><tr><td>Dissolved Strontium</td><td>45914</td><td>14.83</td><td>San Joaquin</td><td>2021</td></tr><tr><td>Dissolved Strontium</td><td>45914</td><td>14.83</td><td>San Joaquin</td><td>2021</td></tr><tr><td>Dissolved Strontium</td><td>45914</td><td>14.83</td><td>San Joaquin</td><td>2021</td></tr><tr><td>Dissolved Strontium</td><td>45914</td><td>15.33</td><td>San Joaquin</td><td>2021</td></tr><tr><td>Dissolved Strontium</td><td>45914</td><td>15.92</td><td>San Joaquin</td><td>2022</td></tr><tr><td>Dissolved Strontium</td><td>45914</td><td>17.67</td><td>San Joaquin</td><td>2021</td></tr><tr><td>Dissolved Strontium</td><td>45914</td><td>17.67</td><td>San Joaquin</td><td>2021</td></tr><tr><td>Dissolved Strontium</td><td>45914</td><td>17.67</td><td>San Joaquin</td><td>2022</td></tr><tr><td>Dissolved Strontium</td><td>45914</td><td>17.67</td><td>San Joaquin</td><td>2022</td></tr><tr><td>Dissolved Strontium</td><td>45914</td><td>17.67</td><td>San Joaquin</td><td>2022</td></tr><tr><td>Dissolved Strontium</td><td>45914</td><td>20.58</td><td>San Joaquin</td><td>2021</td></tr><tr><td>Dissolved Strontium</td><td>45914</td><td>20.58</td><td>San Joaquin</td><td>2022</td></tr><tr><td>Dissolved Strontium</td><td>45914</td><td>29.75</td><td>San Joaquin</td><td>2021</td></tr><tr><td>Dissolved Strontium</td><td>45914</td><td>29.75</td><td>San Joaquin</td><td>2021</td></tr><tr><td>Dissolved Strontium</td><td>45914</td><td>29.92</td><td>San Joaquin</td><td>2021</td></tr><tr><td>Dissolved Strontium</td><td>45914</td><td>35.33</td><td>San Joaquin</td><td>2022</td></tr><tr><td>Dissolved Strontium</td><td>45914</td><td>35.33</td><td>San Joaquin</td><td>2022</td></tr><tr><td>Dissolved Strontium</td><td>45914</td><td>35.42</td><td>San Joaquin</td><td>2021</td></tr><tr><td>Dissolved Strontium</td><td>45914</td><td>10.50</td><td>San Joaquin</td><td>2021</td></tr><tr><td>Dissolved Strontium</td><td>45914</td><td>10.50</td><td>San Joaquin</td><td>2021</td></tr><tr><td>Dissolved Strontium</td><td>45914</td><td>10.50</td><td>San Joaquin</td><td>2022</td></tr><tr><td>Dissolved Strontium</td><td>45914</td><td>10.67</td><td>San Joaquin</td><td>2021</td></tr><tr><td>Dissolved Strontium</td><td>45914</td><td>14.75</td><td>San Joaquin</td><td>2021</td></tr><tr><td>Dissolved Strontium</td><td>45914</td><td>14.75</td><td>San Joaquin</td><td>2021</td></tr><tr><td>Dissolved Strontium</td><td>45914</td><td>14.75</td><td>San Joaquin</td><td>2022</td></tr><tr><td>Dissolved Strontium</td><td>45914</td><td>14.83</td><td>San Joaquin</td><td>2021</td></tr><tr><td>Dissolved Strontium</td><td>45914</td><td>15.33</td><td>San Joaquin</td><td>2021</td></tr><tr><td>Dissolved Strontium</td><td>45914</td><td>15.33</td><td>San Joaquin</td><td>2022</td></tr><tr><td>Dissolved Strontium</td><td>45914</td><td>15.33</td><td>San Joaquin</td><td>2022</td></tr><tr><td>Dissolved Strontium</td><td>45914</td><td>15.92</td><td>San Joaquin</td><td>2022</td></tr><tr><td>Dissolved Strontium</td><td>45914</td><td>17.67</td><td>San Joaquin</td><td>2021</td></tr><tr><td>Dissolved Strontium</td><td>45914</td><td>17.67</td><td>San Joaquin</td><td>2021</td></tr><tr><td>Dissolved Strontium</td><td>45914</td><td>17.67</td><td>San Joaquin</td><td>2022</td></tr><tr><td>Dissolved Strontium</td><td>45914</td><td>20.58</td><td>San Joaquin</td><td>2021</td></tr><tr><td>Dissolved Strontium</td><td>45914</td><td>20.58</td><td>San Joaquin</td><td>2021</td></tr><tr><td>Dissolved Strontium</td><td>45914</td><td>21.17</td><td>San Joaquin</td><td>2022</td></tr><tr><td>Dissolved Strontium</td><td>45914</td><td>21.17</td><td>San Joaquin</td><td>2022</td></tr><tr><td>Dissolved Strontium</td><td>45914</td><td>29.75</td><td>San Joaquin</td><td>2022</td></tr><tr><td>Dissolved Strontium</td><td>45914</td><td>29.75</td><td>San Joaquin</td><td>2022</td></tr><tr><td>Dissolved Strontium</td><td>45914</td><td>29.92</td><td>San Joaquin</td><td>2022</td></tr><tr><td>Dissolved Strontium</td><td>45914</td><td>35.42</td><td>San Joaquin</td><td>2021</td></tr><tr><td>Dissolved Arsenic</td><td>1806</td><td>19.10</td><td>Tehama</td><td>2020</td></tr><tr><td>Dissolved Arsenic</td><td>1806</td><td>19.10</td><td>Tehama</td><td>2022</td></tr><tr><td>Dissolved Strontium</td><td>45914</td><td>10.50</td><td>San Joaquin</td><td>2021</td></tr><tr><td>Dissolved Strontium</td><td>45914</td><td>10.50</td><td>San Joaquin</td><td>2021</td></tr><tr><td>Dissolved Strontium</td><td>45914</td><td>10.50</td><td>San Joaquin</td><td>2022</td></tr><tr><td>Dissolved Strontium</td><td>45914</td><td>10.67</td><td>San Joaquin</td><td>2021</td></tr><tr><td>Dissolved Strontium</td><td>45914</td><td>10.67</td><td>San Joaquin</td><td>2022</td></tr><tr><td>Dissolved Strontium</td><td>45914</td><td>10.67</td><td>San Joaquin</td><td>2022</td></tr><tr><td>Dissolved Strontium</td><td>45914</td><td>11.92</td><td>San Joaquin</td><td>2021</td></tr><tr><td>Dissolved Strontium</td><td>45914</td><td>11.92</td><td>San Joaquin</td><td>2021</td></tr><tr><td>Dissolved Strontium</td><td>45914</td><td>11.92</td><td>San Joaquin</td><td>2021</td></tr><tr><td>Dissolved Strontium</td><td>45914</td><td>14.83</td><td>San Joaquin</td><td>2021</td></tr><tr><td>Dissolved Strontium</td><td>45914</td><td>14.83</td><td>San Joaquin</td><td>2022</td></tr><tr><td>Dissolved Strontium</td><td>45914</td><td>15.33</td><td>San Joaquin</td><td>2021</td></tr><tr><td>Dissolved Strontium</td><td>45914</td><td>15.33</td><td>San Joaquin</td><td>2022</td></tr><tr><td>Dissolved Strontium</td><td>45914</td><td>15.33</td><td>San Joaquin</td><td>2022</td></tr><tr><td>Dissolved Strontium</td><td>45914</td><td>15.92</td><td>San Joaquin</td><td>2021</td></tr><tr><td>Dissolved Strontium</td><td>45914</td><td>17.67</td><td>San Joaquin</td><td>2021</td></tr><tr><td>Dissolved Strontium</td><td>45914</td><td>17.67</td><td>San Joaquin</td><td>2021</td></tr><tr><td>Dissolved Strontium</td><td>45914</td><td>17.67</td><td>San Joaquin</td><td>2022</td></tr><tr><td>Dissolved Strontium</td><td>45914</td><td>20.58</td><td>San Joaquin</td><td>2021</td></tr><tr><td>Dissolved Strontium</td><td>45914</td><td>20.58</td><td>San Joaquin</td><td>2021</td></tr><tr><td>Dissolved Strontium</td><td>45914</td><td>20.58</td><td>San Joaquin</td><td>2022</td></tr><tr><td>Dissolved Strontium</td><td>45914</td><td>20.58</td><td>San Joaquin</td><td>2022</td></tr><tr><td>Dissolved Strontium</td><td>45914</td><td>20.75</td><td>San Joaquin</td><td>2021</td></tr><tr><td>Dissolved Strontium</td><td>45914</td><td>20.75</td><td>San Joaquin</td><td>2021</td></tr><tr><td>Dissolved Strontium</td><td>45914</td><td>20.75</td><td>San Joaquin</td><td>2021</td></tr><tr><td>Dissolved Strontium</td><td>45914</td><td>21.17</td><td>San Joaquin</td><td>2021</td></tr><tr><td>Dissolved Strontium</td><td>45914</td><td>21.17</td><td>San Joaquin</td><td>2021</td></tr><tr><td>Dissolved Strontium</td><td>45914</td><td>29.75</td><td>San Joaquin</td><td>2022</td></tr><tr><td>Dissolved Strontium</td><td>45914</td><td>29.75</td><td>San Joaquin</td><td>2022</td></tr><tr><td>Dissolved Strontium</td><td>45914</td><td>29.92</td><td>San Joaquin</td><td>2021</td></tr><tr><td>Dissolved Strontium</td><td>45914</td><td>35.42</td><td>San Joaquin</td><td>2022</td></tr><tr><td>Dissolved Arsenic</td><td>1806</td><td>12.60</td><td>Tehama</td><td>2021</td></tr><tr><td>Dissolved Arsenic</td><td>1806</td><td>19.10</td><td>Tehama</td><td>2020</td></tr><tr><td>Dissolved Arsenic</td><td>1806</td><td>19.10</td><td>Tehama</td><td>2020</td></tr><tr><td>Dissolved Strontium</td><td>45914</td><td>10.67</td><td>San Joaquin</td><td>2022</td></tr><tr><td>Dissolved Strontium</td><td>45914</td><td>10.67</td><td>San Joaquin</td><td>2022</td></tr><tr><td>Dissolved Strontium</td><td>45914</td><td>11.92</td><td>San Joaquin</td><td>2022</td></tr><tr><td>Dissolved Strontium</td><td>45914</td><td>14.75</td><td>San Joaquin</td><td>2021</td></tr><tr><td>Dissolved Strontium</td><td>45914</td><td>14.75</td><td>San Joaquin</td><td>2021</td></tr><tr><td>Dissolved Strontium</td><td>45914</td><td>14.75</td><td>San Joaquin</td><td>2021</td></tr><tr><td>Dissolved Strontium</td><td>45914</td><td>14.83</td><td>San Joaquin</td><td>2021</td></tr><tr><td>Dissolved Strontium</td><td>45914</td><td>14.83</td><td>San Joaquin</td><td>2021</td></tr><tr><td>Dissolved Strontium</td><td>45914</td><td>14.83</td><td>San Joaquin</td><td>2022</td></tr><tr><td>Dissolved Strontium</td><td>45914</td><td>14.83</td><td>San Joaquin</td><td>2022</td></tr><tr><td>Dissolved Strontium</td><td>45914</td><td>15.92</td><td>San Joaquin</td><td>2021</td></tr><tr><td>Dissolved Strontium</td><td>45914</td><td>15.92</td><td>San Joaquin</td><td>2022</td></tr><tr><td>Dissolved Strontium</td><td>45914</td><td>20.58</td><td>San Joaquin</td><td>2021</td></tr><tr><td>Dissolved Strontium</td><td>45914</td><td>20.58</td><td>San Joaquin</td><td>2021</td></tr><tr><td>Dissolved Strontium</td><td>45914</td><td>20.58</td><td>San Joaquin</td><td>2022</td></tr><tr><td>Dissolved Strontium</td><td>45914</td><td>20.75</td><td>San Joaquin</td><td>2022</td></tr><tr><td>Dissolved Strontium</td><td>45914</td><td>20.75</td><td>San Joaquin</td><td>2022</td></tr><tr><td>Dissolved Strontium</td><td>45914</td><td>21.17</td><td>San Joaquin</td><td>2021</td></tr><tr><td>Dissolved Strontium</td><td>45914</td><td>29.75</td><td>San Joaquin</td><td>2021</td></tr><tr><td>Dissolved Strontium</td><td>45914</td><td>29.92</td><td>San Joaquin</td><td>2022</td></tr><tr><td>Dissolved Strontium</td><td>45914</td><td>35.33</td><td>San Joaquin</td><td>2021</td></tr><tr><td>Dissolved Strontium</td><td>45914</td><td>35.33</td><td>San Joaquin</td><td>2021</td></tr><tr><td>Dissolved Strontium</td><td>45914</td><td>35.33</td><td>San Joaquin</td><td>2022</td></tr><tr><td>Dissolved Strontium</td><td>45914</td><td>35.42</td><td>San Joaquin</td><td>2021</td></tr><tr><td>Dissolved Strontium</td><td>45914</td><td>35.42</td><td>San Joaquin</td><td>2022</td></tr><tr><td>Dissolved Arsenic</td><td>1806</td><td>19.10</td><td>Tehama</td><td>2018</td></tr><tr><td>Dissolved Strontium</td><td>45914</td><td>10.50</td><td>San Joaquin</td><td>2021</td></tr><tr><td>Dissolved Strontium</td><td>45914</td><td>10.67</td><td>San Joaquin</td><td>2022</td></tr><tr><td>Dissolved Strontium</td><td>45914</td><td>11.92</td><td>San Joaquin</td><td>2022</td></tr><tr><td>Dissolved Strontium</td><td>45914</td><td>14.75</td><td>San Joaquin</td><td>2021</td></tr><tr><td>Dissolved Strontium</td><td>45914</td><td>14.75</td><td>San Joaquin</td><td>2022</td></tr><tr><td>Dissolved Strontium</td><td>45914</td><td>14.75</td><td>San Joaquin</td><td>2022</td></tr><tr><td>Dissolved Strontium</td><td>45914</td><td>14.83</td><td>San Joaquin</td><td>2022</td></tr><tr><td>Dissolved Strontium</td><td>45914</td><td>14.83</td><td>San Joaquin</td><td>2022</td></tr><tr><td>Dissolved Strontium</td><td>45914</td><td>15.33</td><td>San Joaquin</td><td>2021</td></tr><tr><td>Dissolved Strontium</td><td>45914</td><td>15.33</td><td>San Joaquin</td><td>2021</td></tr><tr><td>Dissolved Strontium</td><td>45914</td><td>15.92</td><td>San Joaquin</td><td>2021</td></tr><tr><td>Dissolved Strontium</td><td>45914</td><td>17.67</td><td>San Joaquin</td><td>2021</td></tr><tr><td>Dissolved Strontium</td><td>45914</td><td>20.75</td><td>San Joaquin</td><td>2021</td></tr><tr><td>Dissolved Strontium</td><td>45914</td><td>20.75</td><td>San Joaquin</td><td>2021</td></tr><tr><td>Dissolved Strontium</td><td>45914</td><td>20.75</td><td>San Joaquin</td><td>2022</td></tr><tr><td>Dissolved Strontium</td><td>45914</td><td>21.17</td><td>San Joaquin</td><td>2021</td></tr><tr><td>Dissolved Strontium</td><td>45914</td><td>29.75</td><td>San Joaquin</td><td>2021</td></tr><tr><td>Dissolved Strontium</td><td>45914</td><td>29.75</td><td>San Joaquin</td><td>2021</td></tr><tr><td>Dissolved Strontium</td><td>45914</td><td>29.75</td><td>San Joaquin</td><td>2021</td></tr><tr><td>Dissolved Strontium</td><td>45914</td><td>29.92</td><td>San Joaquin</td><td>2021</td></tr><tr><td>Dissolved Strontium</td><td>45914</td><td>29.92</td><td>San Joaquin</td><td>2021</td></tr><tr><td>Dissolved Strontium</td><td>45914</td><td>35.33</td><td>San Joaquin</td><td>2021</td></tr><tr><td>Dissolved Strontium</td><td>45914</td><td>35.33</td><td>San Joaquin</td><td>2021</td></tr><tr><td>Dissolved Strontium</td><td>45914</td><td>35.42</td><td>San Joaquin</td><td>2022</td></tr><tr><td>Dissolved Strontium</td><td>45914</td><td>35.42</td><td>San Joaquin</td><td>2022</td></tr><tr><td>Dissolved Strontium</td><td>45914</td><td>35.42</td><td>San Joaquin</td><td>2022</td></tr><tr><td>Dissolved Arsenic</td><td>1806</td><td>12.60</td><td>Tehama</td><td>2020</td></tr><tr><td>Dissolved Arsenic</td><td>1806</td><td>13.30</td><td>Tehama</td><td>2020</td></tr><tr><td>Dissolved Arsenic</td><td>1806</td><td>21.00</td><td>Tehama</td><td>2020</td></tr><tr><td>Dissolved Strontium</td><td>45914</td><td>10.67</td><td>San Joaquin</td><td>2021</td></tr><tr><td>Dissolved Strontium</td><td>45914</td><td>10.67</td><td>San Joaquin</td><td>2021</td></tr><tr><td>Dissolved Strontium</td><td>45914</td><td>11.92</td><td>San Joaquin</td><td>2021</td></tr><tr><td>Dissolved Strontium</td><td>45914</td><td>11.92</td><td>San Joaquin</td><td>2021</td></tr><tr><td>Dissolved Strontium</td><td>45914</td><td>14.75</td><td>San Joaquin</td><td>2021</td></tr><tr><td>Dissolved Strontium</td><td>45914</td><td>14.75</td><td>San Joaquin</td><td>2022</td></tr><tr><td>Dissolved Strontium</td><td>45914</td><td>14.75</td><td>San Joaquin</td><td>2022</td></tr><tr><td>Dissolved Strontium</td><td>45914</td><td>15.92</td><td>San Joaquin</td><td>2021</td></tr><tr><td>Dissolved Strontium</td><td>45914</td><td>15.92</td><td>San Joaquin</td><td>2021</td></tr><tr><td>Dissolved Strontium</td><td>45914</td><td>15.92</td><td>San Joaquin</td><td>2022</td></tr><tr><td>Dissolved Strontium</td><td>45914</td><td>17.67</td><td>San Joaquin</td><td>2021</td></tr><tr><td>Dissolved Strontium</td><td>45914</td><td>20.58</td><td>San Joaquin</td><td>2021</td></tr><tr><td>Dissolved Strontium</td><td>45914</td><td>20.75</td><td>San Joaquin</td><td>2021</td></tr><tr><td>Dissolved Strontium</td><td>45914</td><td>20.75</td><td>San Joaquin</td><td>2022</td></tr><tr><td>Dissolved Strontium</td><td>45914</td><td>21.17</td><td>San Joaquin</td><td>2021</td></tr><tr><td>Dissolved Strontium</td><td>45914</td><td>21.17</td><td>San Joaquin</td><td>2021</td></tr><tr><td>Dissolved Strontium</td><td>45914</td><td>21.17</td><td>San Joaquin</td><td>2022</td></tr><tr><td>Dissolved Strontium</td><td>45914</td><td>29.75</td><td>San Joaquin</td><td>2021</td></tr><tr><td>Dissolved Strontium</td><td>45914</td><td>29.75</td><td>San Joaquin</td><td>2021</td></tr><tr><td>Dissolved Strontium</td><td>45914</td><td>29.75</td><td>San Joaquin</td><td>2022</td></tr><tr><td>Dissolved Strontium</td><td>45914</td><td>29.75</td><td>San Joaquin</td><td>2022</td></tr><tr><td>Dissolved Strontium</td><td>45914</td><td>29.92</td><td>San Joaquin</td><td>2021</td></tr><tr><td>Dissolved Strontium</td><td>45914</td><td>29.92</td><td>San Joaquin</td><td>2022</td></tr><tr><td>Dissolved Strontium</td><td>45914</td><td>35.33</td><td>San Joaquin</td><td>2021</td></tr><tr><td>Dissolved Strontium</td><td>45914</td><td>35.42</td><td>San Joaquin</td><td>2021</td></tr><tr><td>Dissolved Strontium</td><td>45914</td><td>35.42</td><td>San Joaquin</td><td>2021</td></tr><tr><td>Dissolved Arsenic</td><td>1806</td><td>12.60</td><td>Tehama</td><td>2020</td></tr><tr><td>Dissolved Arsenic</td><td>1806</td><td>12.60</td><td>Tehama</td><td>2022</td></tr><tr><td>Dissolved Arsenic</td><td>1806</td><td>13.30</td><td>Tehama</td><td>2020</td></tr><tr><td>Dissolved Arsenic</td><td>1806</td><td>19.10</td><td>Tehama</td><td>2021</td></tr><tr><td>Dissolved Arsenic</td><td>1806</td><td>21.00</td><td>Tehama</td><td>2020</td></tr><tr><td>Dissolved Strontium</td><td>45914</td><td>10.50</td><td>San Joaquin</td><td>2021</td></tr><tr><td>Dissolved Strontium</td><td>45914</td><td>10.50</td><td>San Joaquin</td><td>2022</td></tr><tr><td>Dissolved Strontium</td><td>45914</td><td>10.50</td><td>San Joaquin</td><td>2022</td></tr><tr><td>Dissolved Strontium</td><td>45914</td><td>10.67</td><td>San Joaquin</td><td>2021</td></tr><tr><td>Dissolved Strontium</td><td>45914</td><td>10.67</td><td>San Joaquin</td><td>2021</td></tr><tr><td>Dissolved Strontium</td><td>45914</td><td>10.67</td><td>San Joaquin</td><td>2021</td></tr><tr><td>Dissolved Strontium</td><td>45914</td><td>11.92</td><td>San Joaquin</td><td>2021</td></tr><tr><td>Dissolved Strontium</td><td>45914</td><td>11.92</td><td>San Joaquin</td><td>2021</td></tr><tr><td>Dissolved Strontium</td><td>45914</td><td>11.92</td><td>San Joaquin</td><td>2022</td></tr><tr><td>Dissolved Strontium</td><td>45914</td><td>14.83</td><td>San Joaquin</td><td>2021</td></tr><tr><td>Dissolved Strontium</td><td>45914</td><td>14.83</td><td>San Joaquin</td><td>2022</td></tr><tr><td>Dissolved Strontium</td><td>45914</td><td>15.33</td><td>San Joaquin</td><td>2021</td></tr><tr><td>Dissolved Strontium</td><td>45914</td><td>15.33</td><td>San Joaquin</td><td>2021</td></tr><tr><td>Dissolved Strontium</td><td>45914</td><td>15.33</td><td>San Joaquin</td><td>2022</td></tr><tr><td>Dissolved Strontium</td><td>45914</td><td>15.33</td><td>San Joaquin</td><td>2022</td></tr><tr><td>Dissolved Strontium</td><td>45914</td><td>15.92</td><td>San Joaquin</td><td>2021</td></tr><tr><td>Dissolved Strontium</td><td>45914</td><td>15.92</td><td>San Joaquin</td><td>2021</td></tr><tr><td>Dissolved Strontium</td><td>45914</td><td>15.92</td><td>San Joaquin</td><td>2022</td></tr><tr><td>Dissolved Strontium</td><td>45914</td><td>15.92</td><td>San Joaquin</td><td>2022</td></tr><tr><td>Dissolved Strontium</td><td>45914</td><td>17.67</td><td>San Joaquin</td><td>2022</td></tr><tr><td>Dissolved Strontium</td><td>45914</td><td>20.58</td><td>San Joaquin</td><td>2022</td></tr><tr><td>Dissolved Strontium</td><td>45914</td><td>20.58</td><td>San Joaquin</td><td>2022</td></tr><tr><td>Dissolved Strontium</td><td>45914</td><td>20.75</td><td>San Joaquin</td><td>2021</td></tr><tr><td>Dissolved Strontium</td><td>45914</td><td>20.75</td><td>San Joaquin</td><td>2021</td></tr><tr><td>Dissolved Strontium</td><td>45914</td><td>21.17</td><td>San Joaquin</td><td>2021</td></tr><tr><td>Dissolved Strontium</td><td>45914</td><td>29.92</td><td>San Joaquin</td><td>2021</td></tr><tr><td>Dissolved Strontium</td><td>45914</td><td>29.92</td><td>San Joaquin</td><td>2021</td></tr><tr><td>Dissolved Strontium</td><td>45914</td><td>29.92</td><td>San Joaquin</td><td>2021</td></tr><tr><td>Dissolved Strontium</td><td>45914</td><td>35.33</td><td>San Joaquin</td><td>2021</td></tr><tr><td>Dissolved Strontium</td><td>45914</td><td>35.33</td><td>San Joaquin</td><td>2021</td></tr><tr><td>Dissolved Strontium</td><td>45914</td><td>35.33</td><td>San Joaquin</td><td>2022</td></tr><tr><td>Dissolved Strontium</td><td>45914</td><td>35.33</td><td>San Joaquin</td><td>2022</td></tr><tr><td>Dissolved Strontium</td><td>45914</td><td>35.33</td><td>San Joaquin</td><td>2022</td></tr><tr><td>Dissolved Strontium</td><td>45914</td><td>35.42</td><td>San Joaquin</td><td>2021</td></tr><tr><td>Dissolved Strontium</td><td>45914</td><td>35.42</td><td>San Joaquin</td><td>2021</td></tr><tr><td>Dissolved Strontium</td><td>45914</td><td>35.42</td><td>San Joaquin</td><td>2022</td></tr></table>"
                    },
                    "metadata": {}
                }
            ],
            "execution_count": 66
        },
        {
            "cell_type": "markdown",
            "source": [
                "This query will show the Maximum measurement from a specific station from the past 5 years (since the beginning of 2018), and all of the results have values at least 2 times higher than the state maximum"
            ],
            "metadata": {
                "azdata_cell_guid": "343ed9ce-3ff1-4c4d-bd22-889336128c2c"
            },
            "attachments": {}
        },
        {
            "cell_type": "code",
            "source": [
                "WITH Multiples AS (\r\n",
                "    SELECT  contaminant, \r\n",
                "            state_max, \r\n",
                "            Fixed_Result, \r\n",
                "            station_id, \r\n",
                "            CAST(Fixed_Result/state_max AS DECIMAL (18,2)) AS Factor\r\n",
                "    FROM    regulated_contaminants\r\n",
                "    WHERE   Fixed_Result > state_max AND sample_date >= '2018-01-01'\r\n",
                ")\r\n",
                "SELECT  m.contaminant, \r\n",
                "        m.station_id, \r\n",
                "        MAX(m.Factor) AS Multiple,  \r\n",
                "        r.county_name\r\n",
                "FROM    Multiples m\r\n",
                "    INNER JOIN \r\n",
                "        regulated_contaminants r\r\n",
                "    ON m.contaminant = r.contaminant AND m.station_id = r.station_id\r\n",
                "WHERE m.Factor >= 2 AND r.sample_date >= '2018-01-01'\r\n",
                "GROUP BY m.station_id, m.contaminant, r.county_name"
            ],
            "metadata": {
                "azdata_cell_guid": "6355d639-1c22-4777-a072-6291932a2bf2",
                "language": "sql"
            },
            "outputs": [
                {
                    "output_type": "display_data",
                    "data": {
                        "text/html": "(16 rows affected)"
                    },
                    "metadata": {}
                },
                {
                    "output_type": "display_data",
                    "data": {
                        "text/html": "Total execution time: 00:00:00.044"
                    },
                    "metadata": {}
                },
                {
                    "output_type": "execute_result",
                    "execution_count": 83,
                    "data": {
                        "application/vnd.dataresource+json": {
                            "schema": {
                                "fields": [
                                    {
                                        "name": "contaminant"
                                    },
                                    {
                                        "name": "station_id"
                                    },
                                    {
                                        "name": "Multiple"
                                    },
                                    {
                                        "name": "county_name"
                                    }
                                ]
                            },
                            "data": [
                                {
                                    "0": "Dissolved Antimony",
                                    "1": "47905",
                                    "2": "2.33",
                                    "3": "Glenn"
                                },
                                {
                                    "0": "Dissolved Arsenic",
                                    "1": "1806",
                                    "2": "21.00",
                                    "3": "Tehama"
                                },
                                {
                                    "0": "Dissolved Antimony",
                                    "1": "47904",
                                    "2": "4.42",
                                    "3": "Tehama"
                                },
                                {
                                    "0": "Dissolved Antimony",
                                    "1": "47906",
                                    "2": "5.00",
                                    "3": "Glenn"
                                },
                                {
                                    "0": "Dissolved Antimony",
                                    "1": "47907",
                                    "2": "2.92",
                                    "3": "Glenn"
                                },
                                {
                                    "0": "Dissolved Strontium",
                                    "1": "682",
                                    "2": "7.30",
                                    "3": "Tehama"
                                },
                                {
                                    "0": "Dissolved Antimony",
                                    "1": "47908",
                                    "2": "3.07",
                                    "3": "Glenn"
                                },
                                {
                                    "0": "Dissolved Antimony",
                                    "1": "331",
                                    "2": "5.50",
                                    "3": "Kings"
                                },
                                {
                                    "0": "Dissolved Arsenic",
                                    "1": "666",
                                    "2": "5.39",
                                    "3": "Tehama"
                                },
                                {
                                    "0": "Dissolved Arsenic",
                                    "1": "1251",
                                    "2": "3.30",
                                    "3": "Tehama"
                                },
                                {
                                    "0": "Dissolved Strontium",
                                    "1": "666",
                                    "2": "9.58",
                                    "3": "Tehama"
                                },
                                {
                                    "0": "Dissolved Arsenic",
                                    "1": "1244",
                                    "2": "4.93",
                                    "3": "Tehama"
                                },
                                {
                                    "0": "Dissolved Strontium",
                                    "1": "45914",
                                    "2": "35.42",
                                    "3": "San Joaquin"
                                },
                                {
                                    "0": "Dissolved Arsenic",
                                    "1": "682",
                                    "2": "3.76",
                                    "3": "Tehama"
                                },
                                {
                                    "0": "Dissolved Strontium",
                                    "1": "762",
                                    "2": "3.77",
                                    "3": "Tehama"
                                },
                                {
                                    "0": "Dissolved Strontium",
                                    "1": "45916",
                                    "2": "9.33",
                                    "3": "Sacramento"
                                }
                            ]
                        },
                        "text/html": "<table><tr><th>contaminant</th><th>station_id</th><th>Multiple</th><th>county_name</th></tr><tr><td>Dissolved Antimony</td><td>47905</td><td>2.33</td><td>Glenn</td></tr><tr><td>Dissolved Arsenic</td><td>1806</td><td>21.00</td><td>Tehama</td></tr><tr><td>Dissolved Antimony</td><td>47904</td><td>4.42</td><td>Tehama</td></tr><tr><td>Dissolved Antimony</td><td>47906</td><td>5.00</td><td>Glenn</td></tr><tr><td>Dissolved Antimony</td><td>47907</td><td>2.92</td><td>Glenn</td></tr><tr><td>Dissolved Strontium</td><td>682</td><td>7.30</td><td>Tehama</td></tr><tr><td>Dissolved Antimony</td><td>47908</td><td>3.07</td><td>Glenn</td></tr><tr><td>Dissolved Antimony</td><td>331</td><td>5.50</td><td>Kings</td></tr><tr><td>Dissolved Arsenic</td><td>666</td><td>5.39</td><td>Tehama</td></tr><tr><td>Dissolved Arsenic</td><td>1251</td><td>3.30</td><td>Tehama</td></tr><tr><td>Dissolved Strontium</td><td>666</td><td>9.58</td><td>Tehama</td></tr><tr><td>Dissolved Arsenic</td><td>1244</td><td>4.93</td><td>Tehama</td></tr><tr><td>Dissolved Strontium</td><td>45914</td><td>35.42</td><td>San Joaquin</td></tr><tr><td>Dissolved Arsenic</td><td>682</td><td>3.76</td><td>Tehama</td></tr><tr><td>Dissolved Strontium</td><td>762</td><td>3.77</td><td>Tehama</td></tr><tr><td>Dissolved Strontium</td><td>45916</td><td>9.33</td><td>Sacramento</td></tr></table>"
                    },
                    "metadata": {}
                }
            ],
            "execution_count": 83
        },
        {
            "cell_type": "markdown",
            "source": [
                "This query will show the Maximum measurement from a specific station from the past 5 years (since the beginning of 2018), and all of the results have values at least 5 times higher than the state maximum"
            ],
            "metadata": {
                "azdata_cell_guid": "9d986c9d-4d2e-480c-a1b0-45a7c327fd4e"
            },
            "attachments": {}
        },
        {
            "cell_type": "code",
            "source": [
                "WITH Multiples AS (\r\n",
                "    SELECT  contaminant, \r\n",
                "            state_max, \r\n",
                "            Fixed_Result, \r\n",
                "            station_id, \r\n",
                "            CAST(Fixed_Result/state_max AS DECIMAL (18,2)) AS Factor\r\n",
                "    FROM    regulated_contaminants\r\n",
                "    WHERE   Fixed_Result > state_max AND sample_date >= '2018-01-01'\r\n",
                ")\r\n",
                "SELECT  m.contaminant, \r\n",
                "        m.station_id, \r\n",
                "        MAX(m.Factor) AS Multiple,  \r\n",
                "        r.county_name\r\n",
                "FROM    Multiples m\r\n",
                "    INNER JOIN \r\n",
                "        regulated_contaminants r\r\n",
                "    ON m.contaminant = r.contaminant AND m.station_id = r.station_id\r\n",
                "WHERE m.Factor >= 5 AND r.sample_date >= '2018-01-01'\r\n",
                "GROUP BY m.station_id, m.contaminant, r.county_name"
            ],
            "metadata": {
                "azdata_cell_guid": "03ad2dd4-20db-45f2-8d6a-d2f5535c3aae",
                "language": "sql"
            },
            "outputs": [
                {
                    "output_type": "display_data",
                    "data": {
                        "text/html": "(8 rows affected)"
                    },
                    "metadata": {}
                },
                {
                    "output_type": "display_data",
                    "data": {
                        "text/html": "Total execution time: 00:00:00.033"
                    },
                    "metadata": {}
                },
                {
                    "output_type": "execute_result",
                    "execution_count": 84,
                    "data": {
                        "application/vnd.dataresource+json": {
                            "schema": {
                                "fields": [
                                    {
                                        "name": "contaminant"
                                    },
                                    {
                                        "name": "station_id"
                                    },
                                    {
                                        "name": "Multiple"
                                    },
                                    {
                                        "name": "county_name"
                                    }
                                ]
                            },
                            "data": [
                                {
                                    "0": "Dissolved Antimony",
                                    "1": "47906",
                                    "2": "5.00",
                                    "3": "Glenn"
                                },
                                {
                                    "0": "Dissolved Strontium",
                                    "1": "682",
                                    "2": "7.30",
                                    "3": "Tehama"
                                },
                                {
                                    "0": "Dissolved Arsenic",
                                    "1": "1806",
                                    "2": "21.00",
                                    "3": "Tehama"
                                },
                                {
                                    "0": "Dissolved Antimony",
                                    "1": "331",
                                    "2": "5.50",
                                    "3": "Kings"
                                },
                                {
                                    "0": "Dissolved Arsenic",
                                    "1": "666",
                                    "2": "5.39",
                                    "3": "Tehama"
                                },
                                {
                                    "0": "Dissolved Strontium",
                                    "1": "45916",
                                    "2": "9.33",
                                    "3": "Sacramento"
                                },
                                {
                                    "0": "Dissolved Strontium",
                                    "1": "666",
                                    "2": "9.58",
                                    "3": "Tehama"
                                },
                                {
                                    "0": "Dissolved Strontium",
                                    "1": "45914",
                                    "2": "35.42",
                                    "3": "San Joaquin"
                                }
                            ]
                        },
                        "text/html": "<table><tr><th>contaminant</th><th>station_id</th><th>Multiple</th><th>county_name</th></tr><tr><td>Dissolved Antimony</td><td>47906</td><td>5.00</td><td>Glenn</td></tr><tr><td>Dissolved Strontium</td><td>682</td><td>7.30</td><td>Tehama</td></tr><tr><td>Dissolved Arsenic</td><td>1806</td><td>21.00</td><td>Tehama</td></tr><tr><td>Dissolved Antimony</td><td>331</td><td>5.50</td><td>Kings</td></tr><tr><td>Dissolved Arsenic</td><td>666</td><td>5.39</td><td>Tehama</td></tr><tr><td>Dissolved Strontium</td><td>45916</td><td>9.33</td><td>Sacramento</td></tr><tr><td>Dissolved Strontium</td><td>666</td><td>9.58</td><td>Tehama</td></tr><tr><td>Dissolved Strontium</td><td>45914</td><td>35.42</td><td>San Joaquin</td></tr></table>"
                    },
                    "metadata": {}
                }
            ],
            "execution_count": 84
        },
        {
            "cell_type": "markdown",
            "source": [
                "This query will show the Maximum measurement from a specific station from the past 5 years (since the beginning of 2018), and all of the results have values at least 10 times higher than the state maximum"
            ],
            "metadata": {
                "azdata_cell_guid": "ccaa4229-1a2e-4063-b388-5d600c8d2eb8"
            },
            "attachments": {}
        },
        {
            "cell_type": "code",
            "source": [
                "WITH Multiples AS (\r\n",
                "    SELECT  contaminant, \r\n",
                "            state_max, \r\n",
                "            Fixed_Result, \r\n",
                "            station_id, \r\n",
                "            CAST(Fixed_Result/state_max AS DECIMAL (18,2)) AS Factor\r\n",
                "    FROM    regulated_contaminants\r\n",
                "    WHERE   Fixed_Result > state_max AND sample_date >= '2018-01-01'\r\n",
                ")\r\n",
                "SELECT  m.contaminant, \r\n",
                "        m.station_id, \r\n",
                "        MAX(m.Factor) AS Multiple,  \r\n",
                "        r.county_name\r\n",
                "FROM    Multiples m\r\n",
                "    INNER JOIN \r\n",
                "        regulated_contaminants r\r\n",
                "    ON m.contaminant = r.contaminant AND m.station_id = r.station_id\r\n",
                "WHERE m.Factor >= 10 AND r.sample_date >= '2018-01-01'\r\n",
                "GROUP BY m.station_id, m.contaminant, r.county_name"
            ],
            "metadata": {
                "azdata_cell_guid": "42f9cba1-b3b4-4ff1-95a3-c35310c7e26f",
                "language": "sql"
            },
            "outputs": [
                {
                    "output_type": "display_data",
                    "data": {
                        "text/html": "(2 rows affected)"
                    },
                    "metadata": {}
                },
                {
                    "output_type": "display_data",
                    "data": {
                        "text/html": "Total execution time: 00:00:00.030"
                    },
                    "metadata": {}
                },
                {
                    "output_type": "execute_result",
                    "execution_count": 85,
                    "data": {
                        "application/vnd.dataresource+json": {
                            "schema": {
                                "fields": [
                                    {
                                        "name": "contaminant"
                                    },
                                    {
                                        "name": "station_id"
                                    },
                                    {
                                        "name": "Multiple"
                                    },
                                    {
                                        "name": "county_name"
                                    }
                                ]
                            },
                            "data": [
                                {
                                    "0": "Dissolved Arsenic",
                                    "1": "1806",
                                    "2": "21.00",
                                    "3": "Tehama"
                                },
                                {
                                    "0": "Dissolved Strontium",
                                    "1": "45914",
                                    "2": "35.42",
                                    "3": "San Joaquin"
                                }
                            ]
                        },
                        "text/html": "<table><tr><th>contaminant</th><th>station_id</th><th>Multiple</th><th>county_name</th></tr><tr><td>Dissolved Arsenic</td><td>1806</td><td>21.00</td><td>Tehama</td></tr><tr><td>Dissolved Strontium</td><td>45914</td><td>35.42</td><td>San Joaquin</td></tr></table>"
                    },
                    "metadata": {}
                }
            ],
            "execution_count": 85
        }
    ]
}